{
  "cells": [
    {
      "cell_type": "markdown",
      "metadata": {
        "id": "view-in-github",
        "colab_type": "text"
      },
      "source": [
        "<a href=\"https://colab.research.google.com/github/Sowmyadevalla2005/Theme-based/blob/main/TB.ipynb\" target=\"_parent\"><img src=\"https://colab.research.google.com/assets/colab-badge.svg\" alt=\"Open In Colab\"/></a>"
      ]
    },
    {
      "cell_type": "code",
      "execution_count": 1,
      "metadata": {
        "colab": {
          "base_uri": "https://localhost:8080/"
        },
        "id": "SNJXIB-40vd8",
        "outputId": "c5fa3199-6f60-4ef2-ea73-e90a9860ee89"
      },
      "outputs": [
        {
          "output_type": "stream",
          "name": "stdout",
          "text": [
            "Requirement already satisfied: kaggle in /usr/local/lib/python3.11/dist-packages (1.6.17)\n",
            "Requirement already satisfied: six>=1.10 in /usr/local/lib/python3.11/dist-packages (from kaggle) (1.17.0)\n",
            "Requirement already satisfied: certifi>=2023.7.22 in /usr/local/lib/python3.11/dist-packages (from kaggle) (2025.1.31)\n",
            "Requirement already satisfied: python-dateutil in /usr/local/lib/python3.11/dist-packages (from kaggle) (2.8.2)\n",
            "Requirement already satisfied: requests in /usr/local/lib/python3.11/dist-packages (from kaggle) (2.32.3)\n",
            "Requirement already satisfied: tqdm in /usr/local/lib/python3.11/dist-packages (from kaggle) (4.67.1)\n",
            "Requirement already satisfied: python-slugify in /usr/local/lib/python3.11/dist-packages (from kaggle) (8.0.4)\n",
            "Requirement already satisfied: urllib3 in /usr/local/lib/python3.11/dist-packages (from kaggle) (2.3.0)\n",
            "Requirement already satisfied: bleach in /usr/local/lib/python3.11/dist-packages (from kaggle) (6.2.0)\n",
            "Requirement already satisfied: webencodings in /usr/local/lib/python3.11/dist-packages (from bleach->kaggle) (0.5.1)\n",
            "Requirement already satisfied: text-unidecode>=1.3 in /usr/local/lib/python3.11/dist-packages (from python-slugify->kaggle) (1.3)\n",
            "Requirement already satisfied: charset-normalizer<4,>=2 in /usr/local/lib/python3.11/dist-packages (from requests->kaggle) (3.4.1)\n",
            "Requirement already satisfied: idna<4,>=2.5 in /usr/local/lib/python3.11/dist-packages (from requests->kaggle) (3.10)\n"
          ]
        }
      ],
      "source": [
        "! pip install kaggle"
      ]
    },
    {
      "cell_type": "markdown",
      "metadata": {
        "id": "m5lX2EOW1hj3"
      },
      "source": [
        "**Importing the Dependencies**\n"
      ]
    },
    {
      "cell_type": "code",
      "execution_count": 2,
      "metadata": {
        "id": "aNhxX5Ii1WV2"
      },
      "outputs": [],
      "source": [
        "import pandas as pd\n",
        "import numpy as np\n",
        "import re\n",
        "from nltk.corpus import stopwords #Natural language tool kit\n",
        "from nltk.stem.porter import PorterStemmer\n",
        "from sklearn.feature_extraction.text import TfidfVectorizer\n",
        "from sklearn.model_selection import train_test_split\n",
        "from sklearn.linear_model import LogisticRegression\n",
        "from sklearn.metrics import accuracy_score"
      ]
    },
    {
      "cell_type": "code",
      "execution_count": 3,
      "metadata": {
        "colab": {
          "base_uri": "https://localhost:8080/"
        },
        "id": "uvduApTo2BcA",
        "outputId": "3c8102ac-3326-4c42-b494-a9b7b5cceeb0"
      },
      "outputs": [
        {
          "output_type": "stream",
          "name": "stderr",
          "text": [
            "[nltk_data] Downloading package stopwords to /root/nltk_data...\n",
            "[nltk_data]   Unzipping corpora/stopwords.zip.\n"
          ]
        },
        {
          "output_type": "execute_result",
          "data": {
            "text/plain": [
              "True"
            ]
          },
          "metadata": {},
          "execution_count": 3
        }
      ],
      "source": [
        "import nltk\n",
        "nltk.download('stopwords')"
      ]
    },
    {
      "cell_type": "markdown",
      "metadata": {
        "id": "PPmFiNNf2dLU"
      },
      "source": [
        "Printing stop words in english"
      ]
    },
    {
      "cell_type": "code",
      "execution_count": 4,
      "metadata": {
        "colab": {
          "base_uri": "https://localhost:8080/"
        },
        "id": "bXjPWYhf2YZ_",
        "outputId": "8f76a5d7-421c-46e6-801c-937873e38af7"
      },
      "outputs": [
        {
          "output_type": "stream",
          "name": "stdout",
          "text": [
            "['a', 'about', 'above', 'after', 'again', 'against', 'ain', 'all', 'am', 'an', 'and', 'any', 'are', 'aren', \"aren't\", 'as', 'at', 'be', 'because', 'been', 'before', 'being', 'below', 'between', 'both', 'but', 'by', 'can', 'couldn', \"couldn't\", 'd', 'did', 'didn', \"didn't\", 'do', 'does', 'doesn', \"doesn't\", 'doing', 'don', \"don't\", 'down', 'during', 'each', 'few', 'for', 'from', 'further', 'had', 'hadn', \"hadn't\", 'has', 'hasn', \"hasn't\", 'have', 'haven', \"haven't\", 'having', 'he', \"he'd\", \"he'll\", 'her', 'here', 'hers', 'herself', \"he's\", 'him', 'himself', 'his', 'how', 'i', \"i'd\", 'if', \"i'll\", \"i'm\", 'in', 'into', 'is', 'isn', \"isn't\", 'it', \"it'd\", \"it'll\", \"it's\", 'its', 'itself', \"i've\", 'just', 'll', 'm', 'ma', 'me', 'mightn', \"mightn't\", 'more', 'most', 'mustn', \"mustn't\", 'my', 'myself', 'needn', \"needn't\", 'no', 'nor', 'not', 'now', 'o', 'of', 'off', 'on', 'once', 'only', 'or', 'other', 'our', 'ours', 'ourselves', 'out', 'over', 'own', 're', 's', 'same', 'shan', \"shan't\", 'she', \"she'd\", \"she'll\", \"she's\", 'should', 'shouldn', \"shouldn't\", \"should've\", 'so', 'some', 'such', 't', 'than', 'that', \"that'll\", 'the', 'their', 'theirs', 'them', 'themselves', 'then', 'there', 'these', 'they', \"they'd\", \"they'll\", \"they're\", \"they've\", 'this', 'those', 'through', 'to', 'too', 'under', 'until', 'up', 've', 'very', 'was', 'wasn', \"wasn't\", 'we', \"we'd\", \"we'll\", \"we're\", 'were', 'weren', \"weren't\", \"we've\", 'what', 'when', 'where', 'which', 'while', 'who', 'whom', 'why', 'will', 'with', 'won', \"won't\", 'wouldn', \"wouldn't\", 'y', 'you', \"you'd\", \"you'll\", 'your', \"you're\", 'yours', 'yourself', 'yourselves', \"you've\"]\n"
          ]
        }
      ],
      "source": [
        "print(stopwords.words('english')) # doesnot add any meaning to our textual data ML model doesnot require these words"
      ]
    },
    {
      "cell_type": "markdown",
      "metadata": {
        "id": "qz_Ph8LS2khZ"
      },
      "source": [
        "Loading the data from csv file to pandas data frame"
      ]
    },
    {
      "cell_type": "code",
      "execution_count": 5,
      "metadata": {
        "id": "Slsd-xFU2j0R"
      },
      "outputs": [],
      "source": [
        "twitter_true = pd.read_csv('/content/DataSet_Misinfo_TRUE.csv')"
      ]
    },
    {
      "cell_type": "markdown",
      "metadata": {
        "id": "ynxAzl0Q3BlU"
      },
      "source": [
        "Checking the number of rows and columns"
      ]
    },
    {
      "cell_type": "code",
      "execution_count": 6,
      "metadata": {
        "colab": {
          "base_uri": "https://localhost:8080/"
        },
        "id": "4c--PThu27jZ",
        "outputId": "b5bdd609-c71f-4949-9398-4c0302e1df8f"
      },
      "outputs": [
        {
          "output_type": "execute_result",
          "data": {
            "text/plain": [
              "(34975, 2)"
            ]
          },
          "metadata": {},
          "execution_count": 6
        }
      ],
      "source": [
        "twitter_true.shape"
      ]
    },
    {
      "cell_type": "markdown",
      "metadata": {
        "id": "q9DI9c9q3LgM"
      },
      "source": [
        "Printing first 5 rows"
      ]
    },
    {
      "cell_type": "code",
      "execution_count": 7,
      "metadata": {
        "colab": {
          "base_uri": "https://localhost:8080/",
          "height": 206
        },
        "id": "3Ye5Zfzi3Apz",
        "outputId": "af07cfd7-850d-40fd-a626-67c47d8de185"
      },
      "outputs": [
        {
          "output_type": "execute_result",
          "data": {
            "text/plain": [
              "   Unnamed: 0                                               text\n",
              "0           0  The head of a conservative Republican faction ...\n",
              "1           1  Transgender people will be allowed for the fir...\n",
              "2           2  The special counsel investigation of links bet...\n",
              "3           3  Trump campaign adviser George Papadopoulos tol...\n",
              "4           4  President Donald Trump called on the U.S. Post..."
            ],
            "text/html": [
              "\n",
              "  <div id=\"df-62433a56-b2bd-4820-9a75-a66ac0e1ff26\" class=\"colab-df-container\">\n",
              "    <div>\n",
              "<style scoped>\n",
              "    .dataframe tbody tr th:only-of-type {\n",
              "        vertical-align: middle;\n",
              "    }\n",
              "\n",
              "    .dataframe tbody tr th {\n",
              "        vertical-align: top;\n",
              "    }\n",
              "\n",
              "    .dataframe thead th {\n",
              "        text-align: right;\n",
              "    }\n",
              "</style>\n",
              "<table border=\"1\" class=\"dataframe\">\n",
              "  <thead>\n",
              "    <tr style=\"text-align: right;\">\n",
              "      <th></th>\n",
              "      <th>Unnamed: 0</th>\n",
              "      <th>text</th>\n",
              "    </tr>\n",
              "  </thead>\n",
              "  <tbody>\n",
              "    <tr>\n",
              "      <th>0</th>\n",
              "      <td>0</td>\n",
              "      <td>The head of a conservative Republican faction ...</td>\n",
              "    </tr>\n",
              "    <tr>\n",
              "      <th>1</th>\n",
              "      <td>1</td>\n",
              "      <td>Transgender people will be allowed for the fir...</td>\n",
              "    </tr>\n",
              "    <tr>\n",
              "      <th>2</th>\n",
              "      <td>2</td>\n",
              "      <td>The special counsel investigation of links bet...</td>\n",
              "    </tr>\n",
              "    <tr>\n",
              "      <th>3</th>\n",
              "      <td>3</td>\n",
              "      <td>Trump campaign adviser George Papadopoulos tol...</td>\n",
              "    </tr>\n",
              "    <tr>\n",
              "      <th>4</th>\n",
              "      <td>4</td>\n",
              "      <td>President Donald Trump called on the U.S. Post...</td>\n",
              "    </tr>\n",
              "  </tbody>\n",
              "</table>\n",
              "</div>\n",
              "    <div class=\"colab-df-buttons\">\n",
              "\n",
              "  <div class=\"colab-df-container\">\n",
              "    <button class=\"colab-df-convert\" onclick=\"convertToInteractive('df-62433a56-b2bd-4820-9a75-a66ac0e1ff26')\"\n",
              "            title=\"Convert this dataframe to an interactive table.\"\n",
              "            style=\"display:none;\">\n",
              "\n",
              "  <svg xmlns=\"http://www.w3.org/2000/svg\" height=\"24px\" viewBox=\"0 -960 960 960\">\n",
              "    <path d=\"M120-120v-720h720v720H120Zm60-500h600v-160H180v160Zm220 220h160v-160H400v160Zm0 220h160v-160H400v160ZM180-400h160v-160H180v160Zm440 0h160v-160H620v160ZM180-180h160v-160H180v160Zm440 0h160v-160H620v160Z\"/>\n",
              "  </svg>\n",
              "    </button>\n",
              "\n",
              "  <style>\n",
              "    .colab-df-container {\n",
              "      display:flex;\n",
              "      gap: 12px;\n",
              "    }\n",
              "\n",
              "    .colab-df-convert {\n",
              "      background-color: #E8F0FE;\n",
              "      border: none;\n",
              "      border-radius: 50%;\n",
              "      cursor: pointer;\n",
              "      display: none;\n",
              "      fill: #1967D2;\n",
              "      height: 32px;\n",
              "      padding: 0 0 0 0;\n",
              "      width: 32px;\n",
              "    }\n",
              "\n",
              "    .colab-df-convert:hover {\n",
              "      background-color: #E2EBFA;\n",
              "      box-shadow: 0px 1px 2px rgba(60, 64, 67, 0.3), 0px 1px 3px 1px rgba(60, 64, 67, 0.15);\n",
              "      fill: #174EA6;\n",
              "    }\n",
              "\n",
              "    .colab-df-buttons div {\n",
              "      margin-bottom: 4px;\n",
              "    }\n",
              "\n",
              "    [theme=dark] .colab-df-convert {\n",
              "      background-color: #3B4455;\n",
              "      fill: #D2E3FC;\n",
              "    }\n",
              "\n",
              "    [theme=dark] .colab-df-convert:hover {\n",
              "      background-color: #434B5C;\n",
              "      box-shadow: 0px 1px 3px 1px rgba(0, 0, 0, 0.15);\n",
              "      filter: drop-shadow(0px 1px 2px rgba(0, 0, 0, 0.3));\n",
              "      fill: #FFFFFF;\n",
              "    }\n",
              "  </style>\n",
              "\n",
              "    <script>\n",
              "      const buttonEl =\n",
              "        document.querySelector('#df-62433a56-b2bd-4820-9a75-a66ac0e1ff26 button.colab-df-convert');\n",
              "      buttonEl.style.display =\n",
              "        google.colab.kernel.accessAllowed ? 'block' : 'none';\n",
              "\n",
              "      async function convertToInteractive(key) {\n",
              "        const element = document.querySelector('#df-62433a56-b2bd-4820-9a75-a66ac0e1ff26');\n",
              "        const dataTable =\n",
              "          await google.colab.kernel.invokeFunction('convertToInteractive',\n",
              "                                                    [key], {});\n",
              "        if (!dataTable) return;\n",
              "\n",
              "        const docLinkHtml = 'Like what you see? Visit the ' +\n",
              "          '<a target=\"_blank\" href=https://colab.research.google.com/notebooks/data_table.ipynb>data table notebook</a>'\n",
              "          + ' to learn more about interactive tables.';\n",
              "        element.innerHTML = '';\n",
              "        dataTable['output_type'] = 'display_data';\n",
              "        await google.colab.output.renderOutput(dataTable, element);\n",
              "        const docLink = document.createElement('div');\n",
              "        docLink.innerHTML = docLinkHtml;\n",
              "        element.appendChild(docLink);\n",
              "      }\n",
              "    </script>\n",
              "  </div>\n",
              "\n",
              "\n",
              "<div id=\"df-ed43025b-2d2e-4504-8502-204b3ded21d7\">\n",
              "  <button class=\"colab-df-quickchart\" onclick=\"quickchart('df-ed43025b-2d2e-4504-8502-204b3ded21d7')\"\n",
              "            title=\"Suggest charts\"\n",
              "            style=\"display:none;\">\n",
              "\n",
              "<svg xmlns=\"http://www.w3.org/2000/svg\" height=\"24px\"viewBox=\"0 0 24 24\"\n",
              "     width=\"24px\">\n",
              "    <g>\n",
              "        <path d=\"M19 3H5c-1.1 0-2 .9-2 2v14c0 1.1.9 2 2 2h14c1.1 0 2-.9 2-2V5c0-1.1-.9-2-2-2zM9 17H7v-7h2v7zm4 0h-2V7h2v10zm4 0h-2v-4h2v4z\"/>\n",
              "    </g>\n",
              "</svg>\n",
              "  </button>\n",
              "\n",
              "<style>\n",
              "  .colab-df-quickchart {\n",
              "      --bg-color: #E8F0FE;\n",
              "      --fill-color: #1967D2;\n",
              "      --hover-bg-color: #E2EBFA;\n",
              "      --hover-fill-color: #174EA6;\n",
              "      --disabled-fill-color: #AAA;\n",
              "      --disabled-bg-color: #DDD;\n",
              "  }\n",
              "\n",
              "  [theme=dark] .colab-df-quickchart {\n",
              "      --bg-color: #3B4455;\n",
              "      --fill-color: #D2E3FC;\n",
              "      --hover-bg-color: #434B5C;\n",
              "      --hover-fill-color: #FFFFFF;\n",
              "      --disabled-bg-color: #3B4455;\n",
              "      --disabled-fill-color: #666;\n",
              "  }\n",
              "\n",
              "  .colab-df-quickchart {\n",
              "    background-color: var(--bg-color);\n",
              "    border: none;\n",
              "    border-radius: 50%;\n",
              "    cursor: pointer;\n",
              "    display: none;\n",
              "    fill: var(--fill-color);\n",
              "    height: 32px;\n",
              "    padding: 0;\n",
              "    width: 32px;\n",
              "  }\n",
              "\n",
              "  .colab-df-quickchart:hover {\n",
              "    background-color: var(--hover-bg-color);\n",
              "    box-shadow: 0 1px 2px rgba(60, 64, 67, 0.3), 0 1px 3px 1px rgba(60, 64, 67, 0.15);\n",
              "    fill: var(--button-hover-fill-color);\n",
              "  }\n",
              "\n",
              "  .colab-df-quickchart-complete:disabled,\n",
              "  .colab-df-quickchart-complete:disabled:hover {\n",
              "    background-color: var(--disabled-bg-color);\n",
              "    fill: var(--disabled-fill-color);\n",
              "    box-shadow: none;\n",
              "  }\n",
              "\n",
              "  .colab-df-spinner {\n",
              "    border: 2px solid var(--fill-color);\n",
              "    border-color: transparent;\n",
              "    border-bottom-color: var(--fill-color);\n",
              "    animation:\n",
              "      spin 1s steps(1) infinite;\n",
              "  }\n",
              "\n",
              "  @keyframes spin {\n",
              "    0% {\n",
              "      border-color: transparent;\n",
              "      border-bottom-color: var(--fill-color);\n",
              "      border-left-color: var(--fill-color);\n",
              "    }\n",
              "    20% {\n",
              "      border-color: transparent;\n",
              "      border-left-color: var(--fill-color);\n",
              "      border-top-color: var(--fill-color);\n",
              "    }\n",
              "    30% {\n",
              "      border-color: transparent;\n",
              "      border-left-color: var(--fill-color);\n",
              "      border-top-color: var(--fill-color);\n",
              "      border-right-color: var(--fill-color);\n",
              "    }\n",
              "    40% {\n",
              "      border-color: transparent;\n",
              "      border-right-color: var(--fill-color);\n",
              "      border-top-color: var(--fill-color);\n",
              "    }\n",
              "    60% {\n",
              "      border-color: transparent;\n",
              "      border-right-color: var(--fill-color);\n",
              "    }\n",
              "    80% {\n",
              "      border-color: transparent;\n",
              "      border-right-color: var(--fill-color);\n",
              "      border-bottom-color: var(--fill-color);\n",
              "    }\n",
              "    90% {\n",
              "      border-color: transparent;\n",
              "      border-bottom-color: var(--fill-color);\n",
              "    }\n",
              "  }\n",
              "</style>\n",
              "\n",
              "  <script>\n",
              "    async function quickchart(key) {\n",
              "      const quickchartButtonEl =\n",
              "        document.querySelector('#' + key + ' button');\n",
              "      quickchartButtonEl.disabled = true;  // To prevent multiple clicks.\n",
              "      quickchartButtonEl.classList.add('colab-df-spinner');\n",
              "      try {\n",
              "        const charts = await google.colab.kernel.invokeFunction(\n",
              "            'suggestCharts', [key], {});\n",
              "      } catch (error) {\n",
              "        console.error('Error during call to suggestCharts:', error);\n",
              "      }\n",
              "      quickchartButtonEl.classList.remove('colab-df-spinner');\n",
              "      quickchartButtonEl.classList.add('colab-df-quickchart-complete');\n",
              "    }\n",
              "    (() => {\n",
              "      let quickchartButtonEl =\n",
              "        document.querySelector('#df-ed43025b-2d2e-4504-8502-204b3ded21d7 button');\n",
              "      quickchartButtonEl.style.display =\n",
              "        google.colab.kernel.accessAllowed ? 'block' : 'none';\n",
              "    })();\n",
              "  </script>\n",
              "</div>\n",
              "\n",
              "    </div>\n",
              "  </div>\n"
            ],
            "application/vnd.google.colaboratory.intrinsic+json": {
              "type": "dataframe",
              "variable_name": "twitter_true",
              "summary": "{\n  \"name\": \"twitter_true\",\n  \"rows\": 34975,\n  \"fields\": [\n    {\n      \"column\": \"Unnamed: 0\",\n      \"properties\": {\n        \"dtype\": \"number\",\n        \"std\": 10096,\n        \"min\": 0,\n        \"max\": 34974,\n        \"num_unique_values\": 34975,\n        \"samples\": [\n          5172,\n          14265,\n          21343\n        ],\n        \"semantic_type\": \"\",\n        \"description\": \"\"\n      }\n    },\n    {\n      \"column\": \"text\",\n      \"properties\": {\n        \"dtype\": \"string\",\n        \"num_unique_values\": 34526,\n        \"samples\": [\n          \"People who don't believe that unauthorized immigrants in the US should be given legal status tend to emphasize that it would be unfair to immigrants who are in the US legally \\u2014 because they deserve a reward for settling in the US \\\"the right way.\\\"\\n\\nBut what if the legal immigration process is itself unfair?\\n\\nA new study by researchers at MIT and Brown University suggest that might be what's going on \\u2014 unintentionally. They looked at applications for employment-based green cards among immigrants who were already in the US. What they found was that, in the standard approval process, Latin American immigrants were much less likely than average to get approved \\u2014 and Asian immigrants were more likely. But when the government went through a slower but more complete approval process, the disparities disappeared.\\n\\nFor this study, the researchers (Emilio J. Castilla of MIT, and Ben A. Rissing of Brown) evaluated the phase in an application for an employment-based green card where the US Department of Labor has to approve or deny the immigrant's \\\"labor certification\\\" for a particular job. These applications get filed when a company decides to take an immigrant who's (almost always) already in the country on a temporary visa \\u2014 like a work visa or student visa \\u2014 and sponsor him or her for a green card, which would let him or her stay in the US permanently and eventually apply for citizenship. So this is the phase in the process where temporary immigrants can get approved to become permanent ones.\\n\\nTechnically, this is supposed to be evaluating the immigrant's would-be employer, not the immigrant him- or herself. In order to get the immigrant \\\"labor certified\\\" for a green card \\u2014 or any work visa \\u2014 the would-be employer has to prove that they tried to find a US citizen to fill the job, but failed.\\n\\nOne thing that isn't supposed to be a factor in the application is the immigrant's country of origin. But even when the researchers controlled for as many variables as they could \\u2014 from the temporary visa that an immigrant held in the US when he filed the green-card application, to the skill level of the job \\u2014 they found that approval rates varied widely from one nationality to the next. 90.5 percent of Asian immigrants were approved for labor certification. But only 66.8 percent of Latin American immigrants were.\\n\\nThe regional disparity even showed up in immigrants applying for the same type of job. \\\"Immigrants from Asia seeking employment as restaurant cooks are 41.6 percent more likely to be approved than immigrants from Latin America, all else being equal,\\\" the researchers write. It's a problem for high-skilled workers, too: Asian immigrants weren't any more likely than Canadians (for example) to get approved to work as computer software engineers, but Latin American immigrants were over 25 percent less likely.\\n\\nThe biggest problem with the study: the government agents looking over immigrants' applications could see each immigrant's educational background, but the researchers couldn't. That could be a huge factor explaining the variation: maybe Latin American immigrants are simply less educationally qualified for the positions they're applying for.\\n\\nBut the study indicates that can't be the whole story. For example, the researchers looked at immigrants who were already on H1-B high-skilled visas (99 percent of whom have a bachelor's degree or higher) but were applying to upgrade to green cards. Among that group, Asian immigrants were still 11 percent more likely than Canadians to get approved for green cards \\u2014 and H1B-holding Latin American immigrants were 20 percent less likely.\\n\\nThere's also previous research showing that government officials profile immigrants based on their countries of origin. In one study, in which officials were asked to look over fictional visa applications, the author said that region of origin was being used strongly as a \\\"criterion of a visa applicant's desirability.\\\"\\n\\nMost of the time, the DOL makes decisions based on basic information about the immigrant, the job, and the employer, as well as evidence of the employer's failed attempt to recruit US citizens. 90 percent of those cases get approved, and they're typically approved or denied in under 4 months. But in a few cases \\u2014 thanks to a process that is partly random, and partly not \\u2014 applications are \\\"audited,\\\" and agents take a more in-depth look at an immigrant's background, and the requirements for the position. In those cases, only 57 percent of applications are approved \\u2014 and it takes about 2 years to come to a decision.\\n\\nAccording to the new study, audited applications had one big advantage over non-audited ones: the disparities in approval rates between immigrants from different regions disappeared. That might indicate that whatever is happening to favor Asian immigrants and disfavor Latin American ones in the quicker process is unintentional, since government officials don't appear to think there's good reason to be more suspicious of Latin American applicants.\\n\\nThe study's authors suggest an easy fix: making it impossible for an official to see an applicant's country of origin, just like officials aren't allowed to see applicants' ages or sexes. If this really is a significant problem, however, it's not something that changing the process in the future will be able to fix.\\n\\nIf the government is really making it harder for Latin American immigrants currently in the US legally to get green cards through their employers, they're unfairly forcing Latin American immigrants to make the difficult choice between leaving the country they've been living in for years, and staying in the US after their visas expire. In other words, the government's approval-rate problem might be driving more legal Latin American immigrants to become illegal.\",\n          \"U.S. House Speaker Paul Ryan on Wednesday called on health insurance companies to \\u201cstick it out\\u201d in the Obamacare marketplace despite concerns over its stability, saying  Republicans are continuing their push to replace current law. Speaking in an interview with Axios news outlet, Ryan said he could not address ongoing litigation over the fate of the Obamacare cost-sharing subsidies but that he has encouraged insurers to still participate in 2018.\",\n          \"Back in June, I first saw Mr. Trump announcing his candidacy for president. What he said about unauthorized\\u00a0immigrants seemed ridiculous so I laughed. I showed the video to friends, and I laughed again. His words were poorly chosen.\\n\\nBut something worse happened. People interpreted Trump\\u2019s words in the most awful and offensive ways.\\n\\nIn one of my courses, at the University of Texas at Austin, I asked my students: \\u201cWhat has Donald Trump said that you found most offensive?\\u201d One student raised her hand high: \\u201cHe said that all Mexicans are rapists.\\u201d I asked a coworker the same question. He replied: \\u201cHe said that all Mexican immigrants are rapists.\\u201d\\n\\nI explained that Trump said no such thing. This is what Trump said:\\n\\nYou might well dislike Trump\\u2019s words. I did. But let\\u2019s not make it worse. He did not say that all Mexicans are rapists. Yet that\\u2019s what many commentators did. For example,\\u00a0Politico\\u00a0misquoted Trump by omitting his phrase about \\u201cgood people.\\u201d They said he was \\u201cdemonizing Mexicans as rapists.\\u201d They argued that Mexicans do not really commit more rapes in the U.S. than whites. But that\\u2019s not what Trump claimed.\\n\\nSimilarly, other news sources misrepresented his words in offensive ways:\\n\\nCompare such words with Trump\\u2019s words. Which is worse? Writers excerpted the phrase: \\u201cthey\\u2019re rapists,\\u201d as if it were about all Mexican unauthorized immigrants, or worse, about all Mexican immigrants, or even worst, about all Mexicans. But that\\u2019s not what he said. That\\u2019s not what he meant. It was just a remark about some of the criminals crossing the border.\\n\\nThe trick for misrepresenting Trump\\u2019s words can be used against anyone.\\n\\nFor example, on October 7, at a Democratic debate, Hillary Clinton answered the question: \\u201cWhich enemy are you most proud of?\\u201d She replied: \\u201cIn addition to the NRA, um, the health insurance companies, the drug companies, um, the Iranians.\\u201d\\n\\nIf you do to her what the media did to Trump, then you should believe that Hillary Clinton is proud to be the enemy of 77 million citizens of Iran, plus millions more living outside Iran, including mothers, children, and disabled people. But that\\u2019s not what she meant.\\n\\nOn November 6, at the MSNBC Democratic Candidates Forum, Bernie Sanders said: \\u201cwe have to pass a constitutional amendment that everyone in America who is 18 years old or older is registered to vote.\\u201d He said\\u00a0everyone. Someone might then write: \\u201cHe proposed that everyone who is in the U.S. should vote, everyone who is 18, even illegal immigrants, tourists, and terrorists.\\u201d But that\\u2019s not what he meant.\\n\\nIt is no wonder that many people think the media is grossly dishonest. No wonder Mr. Trump\\u2019s critiques of the media make his followers cheer.\\n\\nTrump was discussing crimes committed by unauthorized immigrants. Is it true that some people who illegally cross the border from Mexico are good? Yes. Is it true that some others commit crimes? Yes. Is that a problem? People disagree. Some conjecture that unauthorized immigrants don\\u2019t commit more crimes than U.S. citizens. But crimes by unauthorized immigrants, even murders, would not have happened if those individuals had not entered the U.S.\\n\\nTime for a disclosure. I was born and raised in Puerto Rico. Spanish is my first language. I voted for Obama. I live in liberal Austin, Texas, where I work as a tenured professor of history. I\\u2019ve never voted for a Republican. My preferred candidate for U.S. president would be Elizabeth Warren. Since she is not running, my preferred candidate is Bernie Sanders.\\n\\nAnyhow, discussions about illegal immigration are ruined by lack of data. I asked my friends, university faculty: \\u201cHow many people do you think are deported per year in the U.S.?\\u201d\\n\\nThere are two kinds of deportations: some are caught near the border and \\u201creturned,\\u201d others are \\u201cremoved\\u201d by a court order. Consider the border patrol agents, personnel, the bureaucracy, the lawyers, the resources needed to find people and deport them. How many were deported in 2014?\\n\\nOne of my friends guessed 3,000. Another guessed 10,000. Another guessed 50,000\\u2014which would really be a lot of people, imagine.\\n\\nActually, in fiscal year 2014, the U.S. deported a total of 893,238 foreigners! That\\u2019s a huge number. It includes 577,295 deported by the Department of Homeland Security, plus 315,943 deported by Immigration and Customs Enforcement. Among the latter, 2,802 were classified as suspected or confirmed gang members.\\n\\nSince 1990, the average is 1.2 million deportations per year. The highest in U.S. history was 1.86 million foreigners deported in the year 2000. That\\u2019s astonishing.\\n\\nHow many were criminals?\\n\\nWe don\\u2019t know because most criminals are not caught. Plus, many who are accused are not convicted because of a lack of evidence. Still, in 2014, the U.S. deported 177,960 convicted criminals. Surprisingly, 91,037 were already convicted criminals\\u00a0before\\u00a0they even entered the\\u00a0U.S.\\n\\nAt the University of Texas at Austin, the football stadium can seat 100,119 people. I have seen it full. I\\u2019ve see more than 100,000 people at once\\u2014it\\u2019s an incredible sight. It\\u2019s a staggering swarm of people. I have seen them yelling all at once.\\n\\nIt is utterly astonishing to me that this stadium would fail to seat all the convicted criminals deported in a single year. Back to Mr. Trump. Did he unfairly single out Mexicans when complaining about crimes by unauthorized immigrants? By far, most Mexicans are good people. However, since Mexico shares a large frontier with the U.S., and many Mexicans face economic hardships, most of the reported illegal immigration into the U.S. is from Mexico. Accordingly, in recent years roughly 76% of criminal unauthorized immigrants are from Mexico. What kinds of crime? It is strangely difficult to find national statistics on homicides, sexual assaults, and thefts, by unauthorized immigrants. But there is relevant data for some states. The Texas Department of Public Safety identified 207,076 foreign aliens who were booked into Texas county jails from October 2008 through August 1, 2014. Their term \\u201cforeign aliens\\u201d includes both foreigners who are in Texas legally and foreigners who entered illegally. They were accused of 357,884 crimes in those 70 months, including these charges: 4,413 terroristic threats, 60,973 robberies and larcenies, 6,636 vehicle thefts, 78,682 assaults, 12,869 sexual assaults and offenses, 1,113 kidnapping, and 3,089 homicides. That includes, an average of 1,383 charges of sexual assaults per year, in Texas alone. The real number of rapes and sexual assaults is larger since many victims do not report these crimes. According to the National Crime and Victimization Survey, 2008-2012, approximately 68% of sexual assault crimes are not reported. So I estimate that foreigners commit roughly 4,000 sexual assaults in Texas each year. In Texas, roughly 529 foreigners per year were accused of committing murder. Plus, the FBI reports that 36% of homicides nationwide remain unsolved. These crime rates are staggering and offensive. None of the women and men who were killed in by unauthorized immigrants in Texas would have died if the murderers had not entered the U.S. illegally. These are not just words. Pause for a moment to think about a Texas woman whose husband was murdered one night. Think about parents who never saw their son again because he was murdered. Think of the thousands of families standing at the cemeteries. I\\u2019ve only summarized murders and sexual assaults. Consider drugs and drug violence. According to the Drug Enforcement Administration, most illegal drugs come from Mexico, including most cocaine and heroine. Most methamphetamines also are smuggled from Mexico. The 2015 National Drug Threat Survey finds that methamphetamines are the drugs that most contribute to property crimes and violent crimes. You get the point. There are tremendous problems of drugs, murders, and rapes caused at the porous border. Without knowing the data, it was easy to be offended by Mr. Trump\\u2019s crude words when he announced his candidacy. However, seeing the data above, I understand his concerns. Here\\u2019s what Trump said right after his words quoted above: \\u201cAnd it only makes common sense, it only makes common sense: they\\u2019re sending us not the right people, and it\\u2019s coming from more than Mexico, it\\u2019s coming from all over South and Latin America, and it\\u2019s coming probably, probably from the Middle East. But we don\\u2019t know because we have no protection, and we have no competence. We don\\u2019t know what\\u2019s happening. And it\\u2019s gotta stop. And it\\u2019s gotta stop fast.\\u201d We can disagree about some points. Is the Mexican government really sending criminals to the U.S.? On July 5, Trump said: \\u201cThe Mexican Government is forcing their most unwanted people into the United States. They are, in many cases, criminals, drug dealers, rapists, etc.\\u201d This claim might be false if Mexico does not intentionally send criminals to the US. At its best, this statement seems plausible if Trump meant that conditions generated in Mexico by its government lead some criminals to the U.S. In any case, Trump proposes to secure the southern border by implementing various security measures. His most recurring proposal is to build a wall, along areas of the border lacking natural barriers. His proposal has been widely criticized. Some people construed it as a sign of racism, xenophobia, etc. However, I can understand why many of Trump\\u2019s followers actually cheer: \\u201cBuild the Wall! Build the Wall!\\u201d First, there are the worries about murders, drugs, crimes, and terrorism. Presently, countless many unauthorized immigrants walk into the country, unchecked. In fiscal year 2014, the Border Patrol made 468,407 apprehensions along the southwest border. By comparison, the Border Patrol only made 18,244 apprehensions in all other regions. But one point sticks in my mind. Namely this: there already exist a long series of fences and walls between Mexico and the U.S. These fences and walls span parts of California, Arizona, New Mexico, and Texas. As of early 2012, the Department of Homeland Security had completed 652 miles of fences and walls. Trump did not build all that. It was mandated by Congress. Walls are common along\\u00a0many countries\\u2019 borders, such as Spain, China, France, Greece, Pakistan,\\u00a0Israel, etc. The border between the U.S. and Mexico spans roughly 1,950 miles. Trump wants a wall that will be 1,000 miles long, including areas already covered. I\\u2019m not trying to convince you about a wall. My point is just that it\\u2019s neither impossible nor ridiculous. A main reason why many border areas have fences instead of walls is just that walls are more expensive. Trump says that everyone who didn\\u2019t enter the U.S. legally should return to their countries. \\u201cThey have to go.\\u201d We might well disagree. But his view is closer to Immigration law. If you prefer amnesty then lawmakers have to create a law to that effect. Trump insists: \\u201cI want people to come in, but they have to come in legally.\\u201d Regardless, countless many people think that Trump is racist against Mexicans. I suggest that anyone who thinks that should count how many times Trump has praised Mexicans. Most unauthorized immigrants are good people. But still, the media wrongly blamed Mr. Trump for their own misrepresentations.\"\n        ],\n        \"semantic_type\": \"\",\n        \"description\": \"\"\n      }\n    }\n  ]\n}"
            }
          },
          "metadata": {},
          "execution_count": 7
        }
      ],
      "source": [
        "twitter_true.head()"
      ]
    },
    {
      "cell_type": "markdown",
      "metadata": {
        "id": "40qX42k83Ppj"
      },
      "source": [
        "Naming the columns and reading the dataset again"
      ]
    },
    {
      "cell_type": "code",
      "execution_count": 8,
      "metadata": {
        "id": "8GvRn3gZ3X8f"
      },
      "outputs": [],
      "source": [
        "column_names=['Id','Text']\n",
        "twitter_true = pd.read_csv('/content/DataSet_Misinfo_TRUE.csv',names=column_names)"
      ]
    },
    {
      "cell_type": "code",
      "execution_count": 9,
      "metadata": {
        "colab": {
          "base_uri": "https://localhost:8080/"
        },
        "id": "n8NqVDwK3jZV",
        "outputId": "29f0f2c1-038a-4f6f-8d71-1ae7cce09be8"
      },
      "outputs": [
        {
          "output_type": "execute_result",
          "data": {
            "text/plain": [
              "(34976, 2)"
            ]
          },
          "metadata": {},
          "execution_count": 9
        }
      ],
      "source": [
        "twitter_true.shape"
      ]
    },
    {
      "cell_type": "code",
      "execution_count": 10,
      "metadata": {
        "colab": {
          "base_uri": "https://localhost:8080/",
          "height": 206
        },
        "id": "lOG6xM0u3nTp",
        "outputId": "e35c1ed3-6159-41f9-d896-99da2777dbb2"
      },
      "outputs": [
        {
          "output_type": "execute_result",
          "data": {
            "text/plain": [
              "    Id                                               Text\n",
              "0  NaN                                               text\n",
              "1  0.0  The head of a conservative Republican faction ...\n",
              "2  1.0  Transgender people will be allowed for the fir...\n",
              "3  2.0  The special counsel investigation of links bet...\n",
              "4  3.0  Trump campaign adviser George Papadopoulos tol..."
            ],
            "text/html": [
              "\n",
              "  <div id=\"df-4023674a-2e1f-489a-8ee9-136fbf97f0ce\" class=\"colab-df-container\">\n",
              "    <div>\n",
              "<style scoped>\n",
              "    .dataframe tbody tr th:only-of-type {\n",
              "        vertical-align: middle;\n",
              "    }\n",
              "\n",
              "    .dataframe tbody tr th {\n",
              "        vertical-align: top;\n",
              "    }\n",
              "\n",
              "    .dataframe thead th {\n",
              "        text-align: right;\n",
              "    }\n",
              "</style>\n",
              "<table border=\"1\" class=\"dataframe\">\n",
              "  <thead>\n",
              "    <tr style=\"text-align: right;\">\n",
              "      <th></th>\n",
              "      <th>Id</th>\n",
              "      <th>Text</th>\n",
              "    </tr>\n",
              "  </thead>\n",
              "  <tbody>\n",
              "    <tr>\n",
              "      <th>0</th>\n",
              "      <td>NaN</td>\n",
              "      <td>text</td>\n",
              "    </tr>\n",
              "    <tr>\n",
              "      <th>1</th>\n",
              "      <td>0.0</td>\n",
              "      <td>The head of a conservative Republican faction ...</td>\n",
              "    </tr>\n",
              "    <tr>\n",
              "      <th>2</th>\n",
              "      <td>1.0</td>\n",
              "      <td>Transgender people will be allowed for the fir...</td>\n",
              "    </tr>\n",
              "    <tr>\n",
              "      <th>3</th>\n",
              "      <td>2.0</td>\n",
              "      <td>The special counsel investigation of links bet...</td>\n",
              "    </tr>\n",
              "    <tr>\n",
              "      <th>4</th>\n",
              "      <td>3.0</td>\n",
              "      <td>Trump campaign adviser George Papadopoulos tol...</td>\n",
              "    </tr>\n",
              "  </tbody>\n",
              "</table>\n",
              "</div>\n",
              "    <div class=\"colab-df-buttons\">\n",
              "\n",
              "  <div class=\"colab-df-container\">\n",
              "    <button class=\"colab-df-convert\" onclick=\"convertToInteractive('df-4023674a-2e1f-489a-8ee9-136fbf97f0ce')\"\n",
              "            title=\"Convert this dataframe to an interactive table.\"\n",
              "            style=\"display:none;\">\n",
              "\n",
              "  <svg xmlns=\"http://www.w3.org/2000/svg\" height=\"24px\" viewBox=\"0 -960 960 960\">\n",
              "    <path d=\"M120-120v-720h720v720H120Zm60-500h600v-160H180v160Zm220 220h160v-160H400v160Zm0 220h160v-160H400v160ZM180-400h160v-160H180v160Zm440 0h160v-160H620v160ZM180-180h160v-160H180v160Zm440 0h160v-160H620v160Z\"/>\n",
              "  </svg>\n",
              "    </button>\n",
              "\n",
              "  <style>\n",
              "    .colab-df-container {\n",
              "      display:flex;\n",
              "      gap: 12px;\n",
              "    }\n",
              "\n",
              "    .colab-df-convert {\n",
              "      background-color: #E8F0FE;\n",
              "      border: none;\n",
              "      border-radius: 50%;\n",
              "      cursor: pointer;\n",
              "      display: none;\n",
              "      fill: #1967D2;\n",
              "      height: 32px;\n",
              "      padding: 0 0 0 0;\n",
              "      width: 32px;\n",
              "    }\n",
              "\n",
              "    .colab-df-convert:hover {\n",
              "      background-color: #E2EBFA;\n",
              "      box-shadow: 0px 1px 2px rgba(60, 64, 67, 0.3), 0px 1px 3px 1px rgba(60, 64, 67, 0.15);\n",
              "      fill: #174EA6;\n",
              "    }\n",
              "\n",
              "    .colab-df-buttons div {\n",
              "      margin-bottom: 4px;\n",
              "    }\n",
              "\n",
              "    [theme=dark] .colab-df-convert {\n",
              "      background-color: #3B4455;\n",
              "      fill: #D2E3FC;\n",
              "    }\n",
              "\n",
              "    [theme=dark] .colab-df-convert:hover {\n",
              "      background-color: #434B5C;\n",
              "      box-shadow: 0px 1px 3px 1px rgba(0, 0, 0, 0.15);\n",
              "      filter: drop-shadow(0px 1px 2px rgba(0, 0, 0, 0.3));\n",
              "      fill: #FFFFFF;\n",
              "    }\n",
              "  </style>\n",
              "\n",
              "    <script>\n",
              "      const buttonEl =\n",
              "        document.querySelector('#df-4023674a-2e1f-489a-8ee9-136fbf97f0ce button.colab-df-convert');\n",
              "      buttonEl.style.display =\n",
              "        google.colab.kernel.accessAllowed ? 'block' : 'none';\n",
              "\n",
              "      async function convertToInteractive(key) {\n",
              "        const element = document.querySelector('#df-4023674a-2e1f-489a-8ee9-136fbf97f0ce');\n",
              "        const dataTable =\n",
              "          await google.colab.kernel.invokeFunction('convertToInteractive',\n",
              "                                                    [key], {});\n",
              "        if (!dataTable) return;\n",
              "\n",
              "        const docLinkHtml = 'Like what you see? Visit the ' +\n",
              "          '<a target=\"_blank\" href=https://colab.research.google.com/notebooks/data_table.ipynb>data table notebook</a>'\n",
              "          + ' to learn more about interactive tables.';\n",
              "        element.innerHTML = '';\n",
              "        dataTable['output_type'] = 'display_data';\n",
              "        await google.colab.output.renderOutput(dataTable, element);\n",
              "        const docLink = document.createElement('div');\n",
              "        docLink.innerHTML = docLinkHtml;\n",
              "        element.appendChild(docLink);\n",
              "      }\n",
              "    </script>\n",
              "  </div>\n",
              "\n",
              "\n",
              "<div id=\"df-ff0d807e-153c-460c-996e-c30f88e71089\">\n",
              "  <button class=\"colab-df-quickchart\" onclick=\"quickchart('df-ff0d807e-153c-460c-996e-c30f88e71089')\"\n",
              "            title=\"Suggest charts\"\n",
              "            style=\"display:none;\">\n",
              "\n",
              "<svg xmlns=\"http://www.w3.org/2000/svg\" height=\"24px\"viewBox=\"0 0 24 24\"\n",
              "     width=\"24px\">\n",
              "    <g>\n",
              "        <path d=\"M19 3H5c-1.1 0-2 .9-2 2v14c0 1.1.9 2 2 2h14c1.1 0 2-.9 2-2V5c0-1.1-.9-2-2-2zM9 17H7v-7h2v7zm4 0h-2V7h2v10zm4 0h-2v-4h2v4z\"/>\n",
              "    </g>\n",
              "</svg>\n",
              "  </button>\n",
              "\n",
              "<style>\n",
              "  .colab-df-quickchart {\n",
              "      --bg-color: #E8F0FE;\n",
              "      --fill-color: #1967D2;\n",
              "      --hover-bg-color: #E2EBFA;\n",
              "      --hover-fill-color: #174EA6;\n",
              "      --disabled-fill-color: #AAA;\n",
              "      --disabled-bg-color: #DDD;\n",
              "  }\n",
              "\n",
              "  [theme=dark] .colab-df-quickchart {\n",
              "      --bg-color: #3B4455;\n",
              "      --fill-color: #D2E3FC;\n",
              "      --hover-bg-color: #434B5C;\n",
              "      --hover-fill-color: #FFFFFF;\n",
              "      --disabled-bg-color: #3B4455;\n",
              "      --disabled-fill-color: #666;\n",
              "  }\n",
              "\n",
              "  .colab-df-quickchart {\n",
              "    background-color: var(--bg-color);\n",
              "    border: none;\n",
              "    border-radius: 50%;\n",
              "    cursor: pointer;\n",
              "    display: none;\n",
              "    fill: var(--fill-color);\n",
              "    height: 32px;\n",
              "    padding: 0;\n",
              "    width: 32px;\n",
              "  }\n",
              "\n",
              "  .colab-df-quickchart:hover {\n",
              "    background-color: var(--hover-bg-color);\n",
              "    box-shadow: 0 1px 2px rgba(60, 64, 67, 0.3), 0 1px 3px 1px rgba(60, 64, 67, 0.15);\n",
              "    fill: var(--button-hover-fill-color);\n",
              "  }\n",
              "\n",
              "  .colab-df-quickchart-complete:disabled,\n",
              "  .colab-df-quickchart-complete:disabled:hover {\n",
              "    background-color: var(--disabled-bg-color);\n",
              "    fill: var(--disabled-fill-color);\n",
              "    box-shadow: none;\n",
              "  }\n",
              "\n",
              "  .colab-df-spinner {\n",
              "    border: 2px solid var(--fill-color);\n",
              "    border-color: transparent;\n",
              "    border-bottom-color: var(--fill-color);\n",
              "    animation:\n",
              "      spin 1s steps(1) infinite;\n",
              "  }\n",
              "\n",
              "  @keyframes spin {\n",
              "    0% {\n",
              "      border-color: transparent;\n",
              "      border-bottom-color: var(--fill-color);\n",
              "      border-left-color: var(--fill-color);\n",
              "    }\n",
              "    20% {\n",
              "      border-color: transparent;\n",
              "      border-left-color: var(--fill-color);\n",
              "      border-top-color: var(--fill-color);\n",
              "    }\n",
              "    30% {\n",
              "      border-color: transparent;\n",
              "      border-left-color: var(--fill-color);\n",
              "      border-top-color: var(--fill-color);\n",
              "      border-right-color: var(--fill-color);\n",
              "    }\n",
              "    40% {\n",
              "      border-color: transparent;\n",
              "      border-right-color: var(--fill-color);\n",
              "      border-top-color: var(--fill-color);\n",
              "    }\n",
              "    60% {\n",
              "      border-color: transparent;\n",
              "      border-right-color: var(--fill-color);\n",
              "    }\n",
              "    80% {\n",
              "      border-color: transparent;\n",
              "      border-right-color: var(--fill-color);\n",
              "      border-bottom-color: var(--fill-color);\n",
              "    }\n",
              "    90% {\n",
              "      border-color: transparent;\n",
              "      border-bottom-color: var(--fill-color);\n",
              "    }\n",
              "  }\n",
              "</style>\n",
              "\n",
              "  <script>\n",
              "    async function quickchart(key) {\n",
              "      const quickchartButtonEl =\n",
              "        document.querySelector('#' + key + ' button');\n",
              "      quickchartButtonEl.disabled = true;  // To prevent multiple clicks.\n",
              "      quickchartButtonEl.classList.add('colab-df-spinner');\n",
              "      try {\n",
              "        const charts = await google.colab.kernel.invokeFunction(\n",
              "            'suggestCharts', [key], {});\n",
              "      } catch (error) {\n",
              "        console.error('Error during call to suggestCharts:', error);\n",
              "      }\n",
              "      quickchartButtonEl.classList.remove('colab-df-spinner');\n",
              "      quickchartButtonEl.classList.add('colab-df-quickchart-complete');\n",
              "    }\n",
              "    (() => {\n",
              "      let quickchartButtonEl =\n",
              "        document.querySelector('#df-ff0d807e-153c-460c-996e-c30f88e71089 button');\n",
              "      quickchartButtonEl.style.display =\n",
              "        google.colab.kernel.accessAllowed ? 'block' : 'none';\n",
              "    })();\n",
              "  </script>\n",
              "</div>\n",
              "\n",
              "    </div>\n",
              "  </div>\n"
            ],
            "application/vnd.google.colaboratory.intrinsic+json": {
              "type": "dataframe",
              "variable_name": "twitter_true",
              "summary": "{\n  \"name\": \"twitter_true\",\n  \"rows\": 34976,\n  \"fields\": [\n    {\n      \"column\": \"Id\",\n      \"properties\": {\n        \"dtype\": \"number\",\n        \"std\": 10096.557168989173,\n        \"min\": 0.0,\n        \"max\": 34974.0,\n        \"num_unique_values\": 34975,\n        \"samples\": [\n          5172.0,\n          14265.0,\n          21343.0\n        ],\n        \"semantic_type\": \"\",\n        \"description\": \"\"\n      }\n    },\n    {\n      \"column\": \"Text\",\n      \"properties\": {\n        \"dtype\": \"string\",\n        \"num_unique_values\": 34527,\n        \"samples\": [\n          \"People who don't believe that unauthorized immigrants in the US should be given legal status tend to emphasize that it would be unfair to immigrants who are in the US legally \\u2014 because they deserve a reward for settling in the US \\\"the right way.\\\"\\n\\nBut what if the legal immigration process is itself unfair?\\n\\nA new study by researchers at MIT and Brown University suggest that might be what's going on \\u2014 unintentionally. They looked at applications for employment-based green cards among immigrants who were already in the US. What they found was that, in the standard approval process, Latin American immigrants were much less likely than average to get approved \\u2014 and Asian immigrants were more likely. But when the government went through a slower but more complete approval process, the disparities disappeared.\\n\\nFor this study, the researchers (Emilio J. Castilla of MIT, and Ben A. Rissing of Brown) evaluated the phase in an application for an employment-based green card where the US Department of Labor has to approve or deny the immigrant's \\\"labor certification\\\" for a particular job. These applications get filed when a company decides to take an immigrant who's (almost always) already in the country on a temporary visa \\u2014 like a work visa or student visa \\u2014 and sponsor him or her for a green card, which would let him or her stay in the US permanently and eventually apply for citizenship. So this is the phase in the process where temporary immigrants can get approved to become permanent ones.\\n\\nTechnically, this is supposed to be evaluating the immigrant's would-be employer, not the immigrant him- or herself. In order to get the immigrant \\\"labor certified\\\" for a green card \\u2014 or any work visa \\u2014 the would-be employer has to prove that they tried to find a US citizen to fill the job, but failed.\\n\\nOne thing that isn't supposed to be a factor in the application is the immigrant's country of origin. But even when the researchers controlled for as many variables as they could \\u2014 from the temporary visa that an immigrant held in the US when he filed the green-card application, to the skill level of the job \\u2014 they found that approval rates varied widely from one nationality to the next. 90.5 percent of Asian immigrants were approved for labor certification. But only 66.8 percent of Latin American immigrants were.\\n\\nThe regional disparity even showed up in immigrants applying for the same type of job. \\\"Immigrants from Asia seeking employment as restaurant cooks are 41.6 percent more likely to be approved than immigrants from Latin America, all else being equal,\\\" the researchers write. It's a problem for high-skilled workers, too: Asian immigrants weren't any more likely than Canadians (for example) to get approved to work as computer software engineers, but Latin American immigrants were over 25 percent less likely.\\n\\nThe biggest problem with the study: the government agents looking over immigrants' applications could see each immigrant's educational background, but the researchers couldn't. That could be a huge factor explaining the variation: maybe Latin American immigrants are simply less educationally qualified for the positions they're applying for.\\n\\nBut the study indicates that can't be the whole story. For example, the researchers looked at immigrants who were already on H1-B high-skilled visas (99 percent of whom have a bachelor's degree or higher) but were applying to upgrade to green cards. Among that group, Asian immigrants were still 11 percent more likely than Canadians to get approved for green cards \\u2014 and H1B-holding Latin American immigrants were 20 percent less likely.\\n\\nThere's also previous research showing that government officials profile immigrants based on their countries of origin. In one study, in which officials were asked to look over fictional visa applications, the author said that region of origin was being used strongly as a \\\"criterion of a visa applicant's desirability.\\\"\\n\\nMost of the time, the DOL makes decisions based on basic information about the immigrant, the job, and the employer, as well as evidence of the employer's failed attempt to recruit US citizens. 90 percent of those cases get approved, and they're typically approved or denied in under 4 months. But in a few cases \\u2014 thanks to a process that is partly random, and partly not \\u2014 applications are \\\"audited,\\\" and agents take a more in-depth look at an immigrant's background, and the requirements for the position. In those cases, only 57 percent of applications are approved \\u2014 and it takes about 2 years to come to a decision.\\n\\nAccording to the new study, audited applications had one big advantage over non-audited ones: the disparities in approval rates between immigrants from different regions disappeared. That might indicate that whatever is happening to favor Asian immigrants and disfavor Latin American ones in the quicker process is unintentional, since government officials don't appear to think there's good reason to be more suspicious of Latin American applicants.\\n\\nThe study's authors suggest an easy fix: making it impossible for an official to see an applicant's country of origin, just like officials aren't allowed to see applicants' ages or sexes. If this really is a significant problem, however, it's not something that changing the process in the future will be able to fix.\\n\\nIf the government is really making it harder for Latin American immigrants currently in the US legally to get green cards through their employers, they're unfairly forcing Latin American immigrants to make the difficult choice between leaving the country they've been living in for years, and staying in the US after their visas expire. In other words, the government's approval-rate problem might be driving more legal Latin American immigrants to become illegal.\",\n          \"Republicans will be able to push through tax reform by the end of this year even as they continue to debate whether or not a final plan will include a border adjustment tax, U.S. House Speaker Paul Ryan said an interview with Axios news outlet on Wednesday. Asked if he could envision a scenario where tax reform passes the House of Representative without including a border adjustment tax, Ryan said yes but added that internal negotiations are still ongoing.\",\n          \"A European and African deal to stem the flow of migrants coming through Libya to Europe fails to tackle the abuses they face, the top U.N. human rights official wrote on Friday.  The 28-nation European Union has long struggled to reach a coherent answer to the influx of migrants fleeing war, poverty and political upheaval in the Middle East and Africa, and the crisis is testing cooperation between member states. On Aug. 28, the leaders of France, Germany, Italy, Spain, Chad, Niger and Libya agreed a plan to tackle illegal human trafficking and support nations struggling to contain the flow of people across the desert and Mediterranean sea.  U.N. High Commissioner for Human Rights Zeid Ra ad al-Hussein said it was significant that the agreement they struck in Paris recognized that a comprehensive response was needed.   But it is very thin on the protection of the human rights of migrants inside Libya and on the boats, and silent on the urgent need for alternatives to the arbitrary detention of vulnerable people,  he wrote in an article published by the United Nations. Zeid s office published a report last December on abuses faced by migrants in detention centres in Libya,  but memories are short when facts are inconvenient , he wrote. Since then the situation had worsened, with far too many allegations to verify and reports of bodies  in the desert, in the forest, on the beaches . Libya s morgues were overflowing, he said.  Apart from the families awaiting word from missing relatives, hardly anybody seemed to care, Zeid wrote.  The EU faces a moral and legal dilemma because it relies on cooperation with Libyan coastguards and plays down their abuses, which include shooting at aid workers trying to rescue migrants, Zeid said.  A coastguard that sometimes rescues migrants in distress   but sometimes chooses not to. Like the militias onshore, coastguards also sometimes beat, rob and even shoot the migrants they intercept,  he said. Zeid said he agreed with a letter to European leaders from Joanne Liu, the head of Medecins Sans Frontieres, a charity that has sent aid workers to rescue migrants.  The letter, entitled  European governments are feeding the business of suffering , asked:  Is allowing people to be pushed into rape, torture and slavery via criminal pay-offs a price European governments are willing to pay?   I fully support her analysis, and share her disgust at this situation,  Zeid wrote.\"\n        ],\n        \"semantic_type\": \"\",\n        \"description\": \"\"\n      }\n    }\n  ]\n}"
            }
          },
          "metadata": {},
          "execution_count": 10
        }
      ],
      "source": [
        "twitter_true.head()"
      ]
    },
    {
      "cell_type": "markdown",
      "metadata": {
        "id": "gRf-TaPr3t4M"
      },
      "source": [
        "**Counting number of missing values in the data set **"
      ]
    },
    {
      "cell_type": "code",
      "execution_count": 11,
      "metadata": {
        "colab": {
          "base_uri": "https://localhost:8080/",
          "height": 147
        },
        "id": "9Og0IpQ13qjH",
        "outputId": "725706da-9104-455b-a297-5df875471665"
      },
      "outputs": [
        {
          "output_type": "execute_result",
          "data": {
            "text/plain": [
              "Id       1\n",
              "Text    29\n",
              "dtype: int64"
            ],
            "text/html": [
              "<div>\n",
              "<style scoped>\n",
              "    .dataframe tbody tr th:only-of-type {\n",
              "        vertical-align: middle;\n",
              "    }\n",
              "\n",
              "    .dataframe tbody tr th {\n",
              "        vertical-align: top;\n",
              "    }\n",
              "\n",
              "    .dataframe thead th {\n",
              "        text-align: right;\n",
              "    }\n",
              "</style>\n",
              "<table border=\"1\" class=\"dataframe\">\n",
              "  <thead>\n",
              "    <tr style=\"text-align: right;\">\n",
              "      <th></th>\n",
              "      <th>0</th>\n",
              "    </tr>\n",
              "  </thead>\n",
              "  <tbody>\n",
              "    <tr>\n",
              "      <th>Id</th>\n",
              "      <td>1</td>\n",
              "    </tr>\n",
              "    <tr>\n",
              "      <th>Text</th>\n",
              "      <td>29</td>\n",
              "    </tr>\n",
              "  </tbody>\n",
              "</table>\n",
              "</div><br><label><b>dtype:</b> int64</label>"
            ]
          },
          "metadata": {},
          "execution_count": 11
        }
      ],
      "source": [
        "twitter_true.isnull().sum()"
      ]
    },
    {
      "cell_type": "code",
      "execution_count": 12,
      "metadata": {
        "id": "DpOJK_kO3tKn"
      },
      "outputs": [],
      "source": [
        "twitter_true.dropna(inplace=True) #removes rows containing NaN values\n"
      ]
    },
    {
      "cell_type": "markdown",
      "metadata": {
        "id": "J_wmXkG14HQC"
      },
      "source": [
        "after that\n",
        "\n"
      ]
    },
    {
      "cell_type": "code",
      "execution_count": 13,
      "metadata": {
        "colab": {
          "base_uri": "https://localhost:8080/",
          "height": 147
        },
        "id": "4uVBlaYy4B7A",
        "outputId": "b652d6d1-bc42-45f1-e448-b79dd451ca10"
      },
      "outputs": [
        {
          "output_type": "execute_result",
          "data": {
            "text/plain": [
              "Id      0\n",
              "Text    0\n",
              "dtype: int64"
            ],
            "text/html": [
              "<div>\n",
              "<style scoped>\n",
              "    .dataframe tbody tr th:only-of-type {\n",
              "        vertical-align: middle;\n",
              "    }\n",
              "\n",
              "    .dataframe tbody tr th {\n",
              "        vertical-align: top;\n",
              "    }\n",
              "\n",
              "    .dataframe thead th {\n",
              "        text-align: right;\n",
              "    }\n",
              "</style>\n",
              "<table border=\"1\" class=\"dataframe\">\n",
              "  <thead>\n",
              "    <tr style=\"text-align: right;\">\n",
              "      <th></th>\n",
              "      <th>0</th>\n",
              "    </tr>\n",
              "  </thead>\n",
              "  <tbody>\n",
              "    <tr>\n",
              "      <th>Id</th>\n",
              "      <td>0</td>\n",
              "    </tr>\n",
              "    <tr>\n",
              "      <th>Text</th>\n",
              "      <td>0</td>\n",
              "    </tr>\n",
              "  </tbody>\n",
              "</table>\n",
              "</div><br><label><b>dtype:</b> int64</label>"
            ]
          },
          "metadata": {},
          "execution_count": 13
        }
      ],
      "source": [
        "twitter_true.isnull().sum()"
      ]
    },
    {
      "cell_type": "markdown",
      "metadata": {
        "id": "-M9-B6Al4Lm0"
      },
      "source": [
        "Checking the distribution of target column"
      ]
    },
    {
      "cell_type": "code",
      "execution_count": 14,
      "metadata": {
        "colab": {
          "base_uri": "https://localhost:8080/",
          "height": 490
        },
        "id": "XDCM2-Xw4GrQ",
        "outputId": "e7d22388-ad03-4efd-b7a4-637babe44d9b"
      },
      "outputs": [
        {
          "output_type": "execute_result",
          "data": {
            "text/plain": [
              "Id\n",
              "34974.0    1\n",
              "0.0        1\n",
              "34935.0    1\n",
              "34936.0    1\n",
              "34937.0    1\n",
              "          ..\n",
              "5.0        1\n",
              "6.0        1\n",
              "7.0        1\n",
              "8.0        1\n",
              "9.0        1\n",
              "Name: count, Length: 34946, dtype: int64"
            ],
            "text/html": [
              "<div>\n",
              "<style scoped>\n",
              "    .dataframe tbody tr th:only-of-type {\n",
              "        vertical-align: middle;\n",
              "    }\n",
              "\n",
              "    .dataframe tbody tr th {\n",
              "        vertical-align: top;\n",
              "    }\n",
              "\n",
              "    .dataframe thead th {\n",
              "        text-align: right;\n",
              "    }\n",
              "</style>\n",
              "<table border=\"1\" class=\"dataframe\">\n",
              "  <thead>\n",
              "    <tr style=\"text-align: right;\">\n",
              "      <th></th>\n",
              "      <th>count</th>\n",
              "    </tr>\n",
              "    <tr>\n",
              "      <th>Id</th>\n",
              "      <th></th>\n",
              "    </tr>\n",
              "  </thead>\n",
              "  <tbody>\n",
              "    <tr>\n",
              "      <th>34974.0</th>\n",
              "      <td>1</td>\n",
              "    </tr>\n",
              "    <tr>\n",
              "      <th>0.0</th>\n",
              "      <td>1</td>\n",
              "    </tr>\n",
              "    <tr>\n",
              "      <th>34935.0</th>\n",
              "      <td>1</td>\n",
              "    </tr>\n",
              "    <tr>\n",
              "      <th>34936.0</th>\n",
              "      <td>1</td>\n",
              "    </tr>\n",
              "    <tr>\n",
              "      <th>34937.0</th>\n",
              "      <td>1</td>\n",
              "    </tr>\n",
              "    <tr>\n",
              "      <th>...</th>\n",
              "      <td>...</td>\n",
              "    </tr>\n",
              "    <tr>\n",
              "      <th>5.0</th>\n",
              "      <td>1</td>\n",
              "    </tr>\n",
              "    <tr>\n",
              "      <th>6.0</th>\n",
              "      <td>1</td>\n",
              "    </tr>\n",
              "    <tr>\n",
              "      <th>7.0</th>\n",
              "      <td>1</td>\n",
              "    </tr>\n",
              "    <tr>\n",
              "      <th>8.0</th>\n",
              "      <td>1</td>\n",
              "    </tr>\n",
              "    <tr>\n",
              "      <th>9.0</th>\n",
              "      <td>1</td>\n",
              "    </tr>\n",
              "  </tbody>\n",
              "</table>\n",
              "<p>34946 rows × 1 columns</p>\n",
              "</div><br><label><b>dtype:</b> int64</label>"
            ]
          },
          "metadata": {},
          "execution_count": 14
        }
      ],
      "source": [
        "twitter_true['Id'].value_counts()"
      ]
    },
    {
      "cell_type": "code",
      "execution_count": 16,
      "metadata": {
        "id": "vajvX-PP4h-s"
      },
      "outputs": [],
      "source": [
        "twitter_fake = pd.read_csv('/content/DataSet_Misinfo_FAKE (1).csv')"
      ]
    },
    {
      "cell_type": "code",
      "execution_count": 20,
      "metadata": {
        "colab": {
          "base_uri": "https://localhost:8080/"
        },
        "id": "d_QpCL4s5cwJ",
        "outputId": "38c17e64-5f39-4ca4-f832-d09fd623a546"
      },
      "outputs": [
        {
          "output_type": "execute_result",
          "data": {
            "text/plain": [
              "(43642, 2)"
            ]
          },
          "metadata": {},
          "execution_count": 20
        }
      ],
      "source": [
        "twitter_fake.shape"
      ]
    },
    {
      "cell_type": "code",
      "execution_count": 17,
      "metadata": {
        "colab": {
          "base_uri": "https://localhost:8080/",
          "height": 206
        },
        "id": "oBHd26Es5fo6",
        "outputId": "1ed9eeb9-a783-4745-b1c2-9e31b505bb3c"
      },
      "outputs": [
        {
          "output_type": "execute_result",
          "data": {
            "text/plain": [
              "   Unnamed: 0                                               text\n",
              "0           0  Donald Trump just couldn t wish all Americans ...\n",
              "1           1  House Intelligence Committee Chairman Devin Nu...\n",
              "2           2  On Friday, it was revealed that former Milwauk...\n",
              "3           3  On Christmas day, Donald Trump announced that ...\n",
              "4           4  Pope Francis used his annual Christmas Day mes..."
            ],
            "text/html": [
              "\n",
              "  <div id=\"df-835c7204-9cf4-4df5-bfca-44b0095b8add\" class=\"colab-df-container\">\n",
              "    <div>\n",
              "<style scoped>\n",
              "    .dataframe tbody tr th:only-of-type {\n",
              "        vertical-align: middle;\n",
              "    }\n",
              "\n",
              "    .dataframe tbody tr th {\n",
              "        vertical-align: top;\n",
              "    }\n",
              "\n",
              "    .dataframe thead th {\n",
              "        text-align: right;\n",
              "    }\n",
              "</style>\n",
              "<table border=\"1\" class=\"dataframe\">\n",
              "  <thead>\n",
              "    <tr style=\"text-align: right;\">\n",
              "      <th></th>\n",
              "      <th>Unnamed: 0</th>\n",
              "      <th>text</th>\n",
              "    </tr>\n",
              "  </thead>\n",
              "  <tbody>\n",
              "    <tr>\n",
              "      <th>0</th>\n",
              "      <td>0</td>\n",
              "      <td>Donald Trump just couldn t wish all Americans ...</td>\n",
              "    </tr>\n",
              "    <tr>\n",
              "      <th>1</th>\n",
              "      <td>1</td>\n",
              "      <td>House Intelligence Committee Chairman Devin Nu...</td>\n",
              "    </tr>\n",
              "    <tr>\n",
              "      <th>2</th>\n",
              "      <td>2</td>\n",
              "      <td>On Friday, it was revealed that former Milwauk...</td>\n",
              "    </tr>\n",
              "    <tr>\n",
              "      <th>3</th>\n",
              "      <td>3</td>\n",
              "      <td>On Christmas day, Donald Trump announced that ...</td>\n",
              "    </tr>\n",
              "    <tr>\n",
              "      <th>4</th>\n",
              "      <td>4</td>\n",
              "      <td>Pope Francis used his annual Christmas Day mes...</td>\n",
              "    </tr>\n",
              "  </tbody>\n",
              "</table>\n",
              "</div>\n",
              "    <div class=\"colab-df-buttons\">\n",
              "\n",
              "  <div class=\"colab-df-container\">\n",
              "    <button class=\"colab-df-convert\" onclick=\"convertToInteractive('df-835c7204-9cf4-4df5-bfca-44b0095b8add')\"\n",
              "            title=\"Convert this dataframe to an interactive table.\"\n",
              "            style=\"display:none;\">\n",
              "\n",
              "  <svg xmlns=\"http://www.w3.org/2000/svg\" height=\"24px\" viewBox=\"0 -960 960 960\">\n",
              "    <path d=\"M120-120v-720h720v720H120Zm60-500h600v-160H180v160Zm220 220h160v-160H400v160Zm0 220h160v-160H400v160ZM180-400h160v-160H180v160Zm440 0h160v-160H620v160ZM180-180h160v-160H180v160Zm440 0h160v-160H620v160Z\"/>\n",
              "  </svg>\n",
              "    </button>\n",
              "\n",
              "  <style>\n",
              "    .colab-df-container {\n",
              "      display:flex;\n",
              "      gap: 12px;\n",
              "    }\n",
              "\n",
              "    .colab-df-convert {\n",
              "      background-color: #E8F0FE;\n",
              "      border: none;\n",
              "      border-radius: 50%;\n",
              "      cursor: pointer;\n",
              "      display: none;\n",
              "      fill: #1967D2;\n",
              "      height: 32px;\n",
              "      padding: 0 0 0 0;\n",
              "      width: 32px;\n",
              "    }\n",
              "\n",
              "    .colab-df-convert:hover {\n",
              "      background-color: #E2EBFA;\n",
              "      box-shadow: 0px 1px 2px rgba(60, 64, 67, 0.3), 0px 1px 3px 1px rgba(60, 64, 67, 0.15);\n",
              "      fill: #174EA6;\n",
              "    }\n",
              "\n",
              "    .colab-df-buttons div {\n",
              "      margin-bottom: 4px;\n",
              "    }\n",
              "\n",
              "    [theme=dark] .colab-df-convert {\n",
              "      background-color: #3B4455;\n",
              "      fill: #D2E3FC;\n",
              "    }\n",
              "\n",
              "    [theme=dark] .colab-df-convert:hover {\n",
              "      background-color: #434B5C;\n",
              "      box-shadow: 0px 1px 3px 1px rgba(0, 0, 0, 0.15);\n",
              "      filter: drop-shadow(0px 1px 2px rgba(0, 0, 0, 0.3));\n",
              "      fill: #FFFFFF;\n",
              "    }\n",
              "  </style>\n",
              "\n",
              "    <script>\n",
              "      const buttonEl =\n",
              "        document.querySelector('#df-835c7204-9cf4-4df5-bfca-44b0095b8add button.colab-df-convert');\n",
              "      buttonEl.style.display =\n",
              "        google.colab.kernel.accessAllowed ? 'block' : 'none';\n",
              "\n",
              "      async function convertToInteractive(key) {\n",
              "        const element = document.querySelector('#df-835c7204-9cf4-4df5-bfca-44b0095b8add');\n",
              "        const dataTable =\n",
              "          await google.colab.kernel.invokeFunction('convertToInteractive',\n",
              "                                                    [key], {});\n",
              "        if (!dataTable) return;\n",
              "\n",
              "        const docLinkHtml = 'Like what you see? Visit the ' +\n",
              "          '<a target=\"_blank\" href=https://colab.research.google.com/notebooks/data_table.ipynb>data table notebook</a>'\n",
              "          + ' to learn more about interactive tables.';\n",
              "        element.innerHTML = '';\n",
              "        dataTable['output_type'] = 'display_data';\n",
              "        await google.colab.output.renderOutput(dataTable, element);\n",
              "        const docLink = document.createElement('div');\n",
              "        docLink.innerHTML = docLinkHtml;\n",
              "        element.appendChild(docLink);\n",
              "      }\n",
              "    </script>\n",
              "  </div>\n",
              "\n",
              "\n",
              "<div id=\"df-82260d96-1ea4-407e-bdc4-438a411658a3\">\n",
              "  <button class=\"colab-df-quickchart\" onclick=\"quickchart('df-82260d96-1ea4-407e-bdc4-438a411658a3')\"\n",
              "            title=\"Suggest charts\"\n",
              "            style=\"display:none;\">\n",
              "\n",
              "<svg xmlns=\"http://www.w3.org/2000/svg\" height=\"24px\"viewBox=\"0 0 24 24\"\n",
              "     width=\"24px\">\n",
              "    <g>\n",
              "        <path d=\"M19 3H5c-1.1 0-2 .9-2 2v14c0 1.1.9 2 2 2h14c1.1 0 2-.9 2-2V5c0-1.1-.9-2-2-2zM9 17H7v-7h2v7zm4 0h-2V7h2v10zm4 0h-2v-4h2v4z\"/>\n",
              "    </g>\n",
              "</svg>\n",
              "  </button>\n",
              "\n",
              "<style>\n",
              "  .colab-df-quickchart {\n",
              "      --bg-color: #E8F0FE;\n",
              "      --fill-color: #1967D2;\n",
              "      --hover-bg-color: #E2EBFA;\n",
              "      --hover-fill-color: #174EA6;\n",
              "      --disabled-fill-color: #AAA;\n",
              "      --disabled-bg-color: #DDD;\n",
              "  }\n",
              "\n",
              "  [theme=dark] .colab-df-quickchart {\n",
              "      --bg-color: #3B4455;\n",
              "      --fill-color: #D2E3FC;\n",
              "      --hover-bg-color: #434B5C;\n",
              "      --hover-fill-color: #FFFFFF;\n",
              "      --disabled-bg-color: #3B4455;\n",
              "      --disabled-fill-color: #666;\n",
              "  }\n",
              "\n",
              "  .colab-df-quickchart {\n",
              "    background-color: var(--bg-color);\n",
              "    border: none;\n",
              "    border-radius: 50%;\n",
              "    cursor: pointer;\n",
              "    display: none;\n",
              "    fill: var(--fill-color);\n",
              "    height: 32px;\n",
              "    padding: 0;\n",
              "    width: 32px;\n",
              "  }\n",
              "\n",
              "  .colab-df-quickchart:hover {\n",
              "    background-color: var(--hover-bg-color);\n",
              "    box-shadow: 0 1px 2px rgba(60, 64, 67, 0.3), 0 1px 3px 1px rgba(60, 64, 67, 0.15);\n",
              "    fill: var(--button-hover-fill-color);\n",
              "  }\n",
              "\n",
              "  .colab-df-quickchart-complete:disabled,\n",
              "  .colab-df-quickchart-complete:disabled:hover {\n",
              "    background-color: var(--disabled-bg-color);\n",
              "    fill: var(--disabled-fill-color);\n",
              "    box-shadow: none;\n",
              "  }\n",
              "\n",
              "  .colab-df-spinner {\n",
              "    border: 2px solid var(--fill-color);\n",
              "    border-color: transparent;\n",
              "    border-bottom-color: var(--fill-color);\n",
              "    animation:\n",
              "      spin 1s steps(1) infinite;\n",
              "  }\n",
              "\n",
              "  @keyframes spin {\n",
              "    0% {\n",
              "      border-color: transparent;\n",
              "      border-bottom-color: var(--fill-color);\n",
              "      border-left-color: var(--fill-color);\n",
              "    }\n",
              "    20% {\n",
              "      border-color: transparent;\n",
              "      border-left-color: var(--fill-color);\n",
              "      border-top-color: var(--fill-color);\n",
              "    }\n",
              "    30% {\n",
              "      border-color: transparent;\n",
              "      border-left-color: var(--fill-color);\n",
              "      border-top-color: var(--fill-color);\n",
              "      border-right-color: var(--fill-color);\n",
              "    }\n",
              "    40% {\n",
              "      border-color: transparent;\n",
              "      border-right-color: var(--fill-color);\n",
              "      border-top-color: var(--fill-color);\n",
              "    }\n",
              "    60% {\n",
              "      border-color: transparent;\n",
              "      border-right-color: var(--fill-color);\n",
              "    }\n",
              "    80% {\n",
              "      border-color: transparent;\n",
              "      border-right-color: var(--fill-color);\n",
              "      border-bottom-color: var(--fill-color);\n",
              "    }\n",
              "    90% {\n",
              "      border-color: transparent;\n",
              "      border-bottom-color: var(--fill-color);\n",
              "    }\n",
              "  }\n",
              "</style>\n",
              "\n",
              "  <script>\n",
              "    async function quickchart(key) {\n",
              "      const quickchartButtonEl =\n",
              "        document.querySelector('#' + key + ' button');\n",
              "      quickchartButtonEl.disabled = true;  // To prevent multiple clicks.\n",
              "      quickchartButtonEl.classList.add('colab-df-spinner');\n",
              "      try {\n",
              "        const charts = await google.colab.kernel.invokeFunction(\n",
              "            'suggestCharts', [key], {});\n",
              "      } catch (error) {\n",
              "        console.error('Error during call to suggestCharts:', error);\n",
              "      }\n",
              "      quickchartButtonEl.classList.remove('colab-df-spinner');\n",
              "      quickchartButtonEl.classList.add('colab-df-quickchart-complete');\n",
              "    }\n",
              "    (() => {\n",
              "      let quickchartButtonEl =\n",
              "        document.querySelector('#df-82260d96-1ea4-407e-bdc4-438a411658a3 button');\n",
              "      quickchartButtonEl.style.display =\n",
              "        google.colab.kernel.accessAllowed ? 'block' : 'none';\n",
              "    })();\n",
              "  </script>\n",
              "</div>\n",
              "\n",
              "    </div>\n",
              "  </div>\n"
            ],
            "application/vnd.google.colaboratory.intrinsic+json": {
              "type": "dataframe",
              "variable_name": "twitter_fake",
              "summary": "{\n  \"name\": \"twitter_fake\",\n  \"rows\": 43642,\n  \"fields\": [\n    {\n      \"column\": \"Unnamed: 0\",\n      \"properties\": {\n        \"dtype\": \"number\",\n        \"std\": 12889,\n        \"min\": 0,\n        \"max\": 44426,\n        \"num_unique_values\": 43642,\n        \"samples\": [\n          22711,\n          14334,\n          14127\n        ],\n        \"semantic_type\": \"\",\n        \"description\": \"\"\n      }\n    },\n    {\n      \"column\": \"text\",\n      \"properties\": {\n        \"dtype\": \"string\",\n        \"num_unique_values\": 34078,\n        \"samples\": [\n          \"At this point, hearing that there has been violent attacks at rallies held by GOP presidential frontrunner Donald Trump is hardly surprising. His supporters are notoriously fanatical, and woe betide anyone who gets on their bad side   especially when they are all riled up and in the midst of listening to another blistering speech by the leader they look up to so much. So, to that end, here we are again, reading another news cycle of things gone awry at yet another Trump rally, this time in Tucson, Arizona.It appears that, as is par for the course at Trump events these days, there were bunches of protesters. Cell phone video has been making the rounds on social media that shows a man, apparently a protester, being brutally attacked by Trump s brute-like supporters. First, it appears that the man is punched, and then, when he is actually on the ground, he is stomped and kicked, until the authorities show up and break up the altercation.All the while, Trump continues to speak, making his already volatile crowd even more so. Here is the video, as tweeted out by NBC reporter Frank Thorp:VIOLENCE at another Donald Trump rally, this time in Tucson, AZ. Man hits and kicks protester: pic.twitter.com/7FWuSeE0Jt  Frank Thorp V (@frankthorpNBC) March 19, 2016And here is another video that seemingly shows Trump s own campaign manager roughing up a protester:Here is Donald Trump's campaign manager in the Tucson crowd grabbing the collar of a protester. pic.twitter.com/JZ9RntWlHY  Jacqueline Alemany (@JaxAlemany) March 19, 2016It should be damn frightening to ANYONE that the presidential frontrunner of a major American political party sincerely not only believes that this behavior is okay, but actively encourages it. This, ladies and gentlemen, is Donald Trump s America. Be afraid. Be very afraid.Featured image via video screen capture via Twitter\",\n          \"The US secret services have latched onto the fairy tales of Russian hackers and trolls in part to divert attention from the eavesdropping on [former President of\\u00a0 Brazil Dilma] Rousseff and others.\",\n          \"George Takei has been on a social media role since the start of the Trump era, providing astute commentary with a brilliant wit that has made him beloved to millions. His latest Twitter poem   something he does fairly often   might be one of my favorite posts of his yet.Here it is:The crisis has grown very direTrump threatens with fury and fireSo before war's begunAgainst Kim Jong-unWe'd better make Donnie retire  George Takei (@GeorgeTakei) August 9, 2017 The crisis has grown very dire Trump threatens with fury and fire So war s begun Against Kim Jong-un We d better make Donnie retire I d say we re all thinking something pretty similar! Or, at least, according to the latest polling, an overwhelming majority of us are (sorry Trump fans, but those are the facts).Here are a few of his other latest Twitter poems:You tweet us ad nauseumMueller's not tricked cause of 'emSo tweet your memoirsDuring years behind barsYou no doubt'll serve lots of 'em  George Takei (@GeorgeTakei) August 8, 2017Happy Bday oh dearest ObamaThanks for 8 yrs of no dramaFor your wisdom and strengthFor sparing no lengthAnd no daily national trauma  George Takei (@GeorgeTakei) August 5, 2017Things just went south in a hurryNow that they've sat a grand jurySubpoenas galoreI've popcorn. Want more?As karma unleashes its fury.  George Takei (@GeorgeTakei) August 4, 2017Putin tried this n that hackeeInstalling a personal lackeyIt's since come to passWe sanctioned his assWhile Trump is increasingly wacky  George Takei (@GeorgeTakei) August 2, 2017Keep it up, George! You can bet it pisses Trump off every time he sees one, considering how thin his skin is.Read more:Featured image via Stephen Lovekin/Getty Images for GLAAD\"\n        ],\n        \"semantic_type\": \"\",\n        \"description\": \"\"\n      }\n    }\n  ]\n}"
            }
          },
          "metadata": {},
          "execution_count": 17
        }
      ],
      "source": [
        "twitter_fake.head()"
      ]
    },
    {
      "cell_type": "code",
      "execution_count": 18,
      "metadata": {
        "id": "1e2Vy-7z5nLg"
      },
      "outputs": [],
      "source": [
        "column_names=['Id','Text']\n",
        "twitter_fake = pd.read_csv('/content/DataSet_Misinfo_FAKE (1).csv',names=column_names)"
      ]
    },
    {
      "cell_type": "code",
      "execution_count": 19,
      "metadata": {
        "colab": {
          "base_uri": "https://localhost:8080/"
        },
        "id": "7S-PYRNv5uhG",
        "outputId": "9e1ec671-c204-4661-d034-fdd80b24ea53"
      },
      "outputs": [
        {
          "output_type": "execute_result",
          "data": {
            "text/plain": [
              "(43643, 2)"
            ]
          },
          "metadata": {},
          "execution_count": 19
        }
      ],
      "source": [
        "twitter_fake.shape"
      ]
    },
    {
      "cell_type": "code",
      "execution_count": 20,
      "metadata": {
        "colab": {
          "base_uri": "https://localhost:8080/",
          "height": 206
        },
        "id": "2gavAeUX5wdf",
        "outputId": "98e894f0-67c9-443e-cb4a-a01fceeb658d"
      },
      "outputs": [
        {
          "output_type": "execute_result",
          "data": {
            "text/plain": [
              "    Id                                               Text\n",
              "0  NaN                                               text\n",
              "1  0.0  Donald Trump just couldn t wish all Americans ...\n",
              "2  1.0  House Intelligence Committee Chairman Devin Nu...\n",
              "3  2.0  On Friday, it was revealed that former Milwauk...\n",
              "4  3.0  On Christmas day, Donald Trump announced that ..."
            ],
            "text/html": [
              "\n",
              "  <div id=\"df-a7d0e5a4-4875-4349-a722-2a9256109400\" class=\"colab-df-container\">\n",
              "    <div>\n",
              "<style scoped>\n",
              "    .dataframe tbody tr th:only-of-type {\n",
              "        vertical-align: middle;\n",
              "    }\n",
              "\n",
              "    .dataframe tbody tr th {\n",
              "        vertical-align: top;\n",
              "    }\n",
              "\n",
              "    .dataframe thead th {\n",
              "        text-align: right;\n",
              "    }\n",
              "</style>\n",
              "<table border=\"1\" class=\"dataframe\">\n",
              "  <thead>\n",
              "    <tr style=\"text-align: right;\">\n",
              "      <th></th>\n",
              "      <th>Id</th>\n",
              "      <th>Text</th>\n",
              "    </tr>\n",
              "  </thead>\n",
              "  <tbody>\n",
              "    <tr>\n",
              "      <th>0</th>\n",
              "      <td>NaN</td>\n",
              "      <td>text</td>\n",
              "    </tr>\n",
              "    <tr>\n",
              "      <th>1</th>\n",
              "      <td>0.0</td>\n",
              "      <td>Donald Trump just couldn t wish all Americans ...</td>\n",
              "    </tr>\n",
              "    <tr>\n",
              "      <th>2</th>\n",
              "      <td>1.0</td>\n",
              "      <td>House Intelligence Committee Chairman Devin Nu...</td>\n",
              "    </tr>\n",
              "    <tr>\n",
              "      <th>3</th>\n",
              "      <td>2.0</td>\n",
              "      <td>On Friday, it was revealed that former Milwauk...</td>\n",
              "    </tr>\n",
              "    <tr>\n",
              "      <th>4</th>\n",
              "      <td>3.0</td>\n",
              "      <td>On Christmas day, Donald Trump announced that ...</td>\n",
              "    </tr>\n",
              "  </tbody>\n",
              "</table>\n",
              "</div>\n",
              "    <div class=\"colab-df-buttons\">\n",
              "\n",
              "  <div class=\"colab-df-container\">\n",
              "    <button class=\"colab-df-convert\" onclick=\"convertToInteractive('df-a7d0e5a4-4875-4349-a722-2a9256109400')\"\n",
              "            title=\"Convert this dataframe to an interactive table.\"\n",
              "            style=\"display:none;\">\n",
              "\n",
              "  <svg xmlns=\"http://www.w3.org/2000/svg\" height=\"24px\" viewBox=\"0 -960 960 960\">\n",
              "    <path d=\"M120-120v-720h720v720H120Zm60-500h600v-160H180v160Zm220 220h160v-160H400v160Zm0 220h160v-160H400v160ZM180-400h160v-160H180v160Zm440 0h160v-160H620v160ZM180-180h160v-160H180v160Zm440 0h160v-160H620v160Z\"/>\n",
              "  </svg>\n",
              "    </button>\n",
              "\n",
              "  <style>\n",
              "    .colab-df-container {\n",
              "      display:flex;\n",
              "      gap: 12px;\n",
              "    }\n",
              "\n",
              "    .colab-df-convert {\n",
              "      background-color: #E8F0FE;\n",
              "      border: none;\n",
              "      border-radius: 50%;\n",
              "      cursor: pointer;\n",
              "      display: none;\n",
              "      fill: #1967D2;\n",
              "      height: 32px;\n",
              "      padding: 0 0 0 0;\n",
              "      width: 32px;\n",
              "    }\n",
              "\n",
              "    .colab-df-convert:hover {\n",
              "      background-color: #E2EBFA;\n",
              "      box-shadow: 0px 1px 2px rgba(60, 64, 67, 0.3), 0px 1px 3px 1px rgba(60, 64, 67, 0.15);\n",
              "      fill: #174EA6;\n",
              "    }\n",
              "\n",
              "    .colab-df-buttons div {\n",
              "      margin-bottom: 4px;\n",
              "    }\n",
              "\n",
              "    [theme=dark] .colab-df-convert {\n",
              "      background-color: #3B4455;\n",
              "      fill: #D2E3FC;\n",
              "    }\n",
              "\n",
              "    [theme=dark] .colab-df-convert:hover {\n",
              "      background-color: #434B5C;\n",
              "      box-shadow: 0px 1px 3px 1px rgba(0, 0, 0, 0.15);\n",
              "      filter: drop-shadow(0px 1px 2px rgba(0, 0, 0, 0.3));\n",
              "      fill: #FFFFFF;\n",
              "    }\n",
              "  </style>\n",
              "\n",
              "    <script>\n",
              "      const buttonEl =\n",
              "        document.querySelector('#df-a7d0e5a4-4875-4349-a722-2a9256109400 button.colab-df-convert');\n",
              "      buttonEl.style.display =\n",
              "        google.colab.kernel.accessAllowed ? 'block' : 'none';\n",
              "\n",
              "      async function convertToInteractive(key) {\n",
              "        const element = document.querySelector('#df-a7d0e5a4-4875-4349-a722-2a9256109400');\n",
              "        const dataTable =\n",
              "          await google.colab.kernel.invokeFunction('convertToInteractive',\n",
              "                                                    [key], {});\n",
              "        if (!dataTable) return;\n",
              "\n",
              "        const docLinkHtml = 'Like what you see? Visit the ' +\n",
              "          '<a target=\"_blank\" href=https://colab.research.google.com/notebooks/data_table.ipynb>data table notebook</a>'\n",
              "          + ' to learn more about interactive tables.';\n",
              "        element.innerHTML = '';\n",
              "        dataTable['output_type'] = 'display_data';\n",
              "        await google.colab.output.renderOutput(dataTable, element);\n",
              "        const docLink = document.createElement('div');\n",
              "        docLink.innerHTML = docLinkHtml;\n",
              "        element.appendChild(docLink);\n",
              "      }\n",
              "    </script>\n",
              "  </div>\n",
              "\n",
              "\n",
              "<div id=\"df-21b345fc-2c7a-45bb-aa89-eef7acd2c99a\">\n",
              "  <button class=\"colab-df-quickchart\" onclick=\"quickchart('df-21b345fc-2c7a-45bb-aa89-eef7acd2c99a')\"\n",
              "            title=\"Suggest charts\"\n",
              "            style=\"display:none;\">\n",
              "\n",
              "<svg xmlns=\"http://www.w3.org/2000/svg\" height=\"24px\"viewBox=\"0 0 24 24\"\n",
              "     width=\"24px\">\n",
              "    <g>\n",
              "        <path d=\"M19 3H5c-1.1 0-2 .9-2 2v14c0 1.1.9 2 2 2h14c1.1 0 2-.9 2-2V5c0-1.1-.9-2-2-2zM9 17H7v-7h2v7zm4 0h-2V7h2v10zm4 0h-2v-4h2v4z\"/>\n",
              "    </g>\n",
              "</svg>\n",
              "  </button>\n",
              "\n",
              "<style>\n",
              "  .colab-df-quickchart {\n",
              "      --bg-color: #E8F0FE;\n",
              "      --fill-color: #1967D2;\n",
              "      --hover-bg-color: #E2EBFA;\n",
              "      --hover-fill-color: #174EA6;\n",
              "      --disabled-fill-color: #AAA;\n",
              "      --disabled-bg-color: #DDD;\n",
              "  }\n",
              "\n",
              "  [theme=dark] .colab-df-quickchart {\n",
              "      --bg-color: #3B4455;\n",
              "      --fill-color: #D2E3FC;\n",
              "      --hover-bg-color: #434B5C;\n",
              "      --hover-fill-color: #FFFFFF;\n",
              "      --disabled-bg-color: #3B4455;\n",
              "      --disabled-fill-color: #666;\n",
              "  }\n",
              "\n",
              "  .colab-df-quickchart {\n",
              "    background-color: var(--bg-color);\n",
              "    border: none;\n",
              "    border-radius: 50%;\n",
              "    cursor: pointer;\n",
              "    display: none;\n",
              "    fill: var(--fill-color);\n",
              "    height: 32px;\n",
              "    padding: 0;\n",
              "    width: 32px;\n",
              "  }\n",
              "\n",
              "  .colab-df-quickchart:hover {\n",
              "    background-color: var(--hover-bg-color);\n",
              "    box-shadow: 0 1px 2px rgba(60, 64, 67, 0.3), 0 1px 3px 1px rgba(60, 64, 67, 0.15);\n",
              "    fill: var(--button-hover-fill-color);\n",
              "  }\n",
              "\n",
              "  .colab-df-quickchart-complete:disabled,\n",
              "  .colab-df-quickchart-complete:disabled:hover {\n",
              "    background-color: var(--disabled-bg-color);\n",
              "    fill: var(--disabled-fill-color);\n",
              "    box-shadow: none;\n",
              "  }\n",
              "\n",
              "  .colab-df-spinner {\n",
              "    border: 2px solid var(--fill-color);\n",
              "    border-color: transparent;\n",
              "    border-bottom-color: var(--fill-color);\n",
              "    animation:\n",
              "      spin 1s steps(1) infinite;\n",
              "  }\n",
              "\n",
              "  @keyframes spin {\n",
              "    0% {\n",
              "      border-color: transparent;\n",
              "      border-bottom-color: var(--fill-color);\n",
              "      border-left-color: var(--fill-color);\n",
              "    }\n",
              "    20% {\n",
              "      border-color: transparent;\n",
              "      border-left-color: var(--fill-color);\n",
              "      border-top-color: var(--fill-color);\n",
              "    }\n",
              "    30% {\n",
              "      border-color: transparent;\n",
              "      border-left-color: var(--fill-color);\n",
              "      border-top-color: var(--fill-color);\n",
              "      border-right-color: var(--fill-color);\n",
              "    }\n",
              "    40% {\n",
              "      border-color: transparent;\n",
              "      border-right-color: var(--fill-color);\n",
              "      border-top-color: var(--fill-color);\n",
              "    }\n",
              "    60% {\n",
              "      border-color: transparent;\n",
              "      border-right-color: var(--fill-color);\n",
              "    }\n",
              "    80% {\n",
              "      border-color: transparent;\n",
              "      border-right-color: var(--fill-color);\n",
              "      border-bottom-color: var(--fill-color);\n",
              "    }\n",
              "    90% {\n",
              "      border-color: transparent;\n",
              "      border-bottom-color: var(--fill-color);\n",
              "    }\n",
              "  }\n",
              "</style>\n",
              "\n",
              "  <script>\n",
              "    async function quickchart(key) {\n",
              "      const quickchartButtonEl =\n",
              "        document.querySelector('#' + key + ' button');\n",
              "      quickchartButtonEl.disabled = true;  // To prevent multiple clicks.\n",
              "      quickchartButtonEl.classList.add('colab-df-spinner');\n",
              "      try {\n",
              "        const charts = await google.colab.kernel.invokeFunction(\n",
              "            'suggestCharts', [key], {});\n",
              "      } catch (error) {\n",
              "        console.error('Error during call to suggestCharts:', error);\n",
              "      }\n",
              "      quickchartButtonEl.classList.remove('colab-df-spinner');\n",
              "      quickchartButtonEl.classList.add('colab-df-quickchart-complete');\n",
              "    }\n",
              "    (() => {\n",
              "      let quickchartButtonEl =\n",
              "        document.querySelector('#df-21b345fc-2c7a-45bb-aa89-eef7acd2c99a button');\n",
              "      quickchartButtonEl.style.display =\n",
              "        google.colab.kernel.accessAllowed ? 'block' : 'none';\n",
              "    })();\n",
              "  </script>\n",
              "</div>\n",
              "\n",
              "    </div>\n",
              "  </div>\n"
            ],
            "application/vnd.google.colaboratory.intrinsic+json": {
              "type": "dataframe",
              "variable_name": "twitter_fake",
              "summary": "{\n  \"name\": \"twitter_fake\",\n  \"rows\": 43643,\n  \"fields\": [\n    {\n      \"column\": \"Id\",\n      \"properties\": {\n        \"dtype\": \"number\",\n        \"std\": 12889.800175713275,\n        \"min\": 0.0,\n        \"max\": 44426.0,\n        \"num_unique_values\": 43642,\n        \"samples\": [\n          22711.0,\n          14334.0,\n          14127.0\n        ],\n        \"semantic_type\": \"\",\n        \"description\": \"\"\n      }\n    },\n    {\n      \"column\": \"Text\",\n      \"properties\": {\n        \"dtype\": \"string\",\n        \"num_unique_values\": 34079,\n        \"samples\": [\n          \"Next Prev Swipe left/right It\\u2019s a bit off to do a sick burn on your wife via her grave stone @Duncanfyfe over on Twitter writes, \\u201cstill thinking about Henry\\u2019s brutal post-mortem burn on his wife\\u201d\\nIf anyone knows anything about this couple then please get in touch \\u2013 all we can find is some Companies House mentions.\",\n          \"On Tuesday President Obama visited wounded and ill soldiers receiving treatment at Walter Reed National Military Medical Center in Bethesda, Maryland.Obama spent about an hour making the rounds Tuesday at Walter Reed National Military Medical Center in Bethesda, Maryland.The White House says Obama met with eight Army members, two Marines and one member each from the Navy and Air Force. He also met with veterans and family members.CBS reporter Mark Knoller pointed out the visit was President Obama s 27th to a military hospital since becoming commander-in-chief in 2009.There aren t any photos of the President inside the facility because he considers these trips private. During the presidential campaign in 2008, Republicans tried to use the lack of photos as evidence then-Senator Obama had  snubbed  the troops. It was a lie.Obama s reverence for the troops stands in strong contrast to the recent episode with presumptive Republican presidential nominee Donald Trump.While feuding with Fox News during the Republican primaries, Trump threw a temper tantrum about debate moderator Megyn Kelly and skipped a debate on Fox News. Instead, Trump threw what he claimed was a fundraiser for military charities and announced at the event that he had raised several million dollars for those groups.Trump proceeded to congratulate himself at several campaign events in the following days.But the Washington Post looked into it, and could find no evidence that Trump had made the donations, despite using them to promote himself.Trump was eventually pressured into donating to the groups, months after he claimed he had done so in the first place, and held a defensive, petty press conference claiming that nothing had gone wrong, despite the ample evidence to the contrary.While President Obama, who is tasked with the decision of whether to put the military in harm s way, quietly honors military service and sacrifice, Trump used them as human shields and as a cheap and tawdry campaign gimmick.Featured image via Flickr\",\n          \"Teacher unsure about getting smashed eighth night running 28-10-16 \\nA TEACHER unsure if he can manage an eighth straight night of drinking acknowledged that half-term gives him little choice. \\n29-year-old secondary school teacher Tom Booker told friends that, despite the debilitating physical effects, he feels honour-bound to spend the last nights of his holiday drinking until 3am and sleeping in until 1pm. \\nBooker continued: \\u201cIt\\u2019s a job with responsibilities, and one of those responsibilities is making the most of a week off in October. \\n\\u201cSome of my colleagues take walking holidays or pop to Center Parcs with the kids, but I\\u2019m single and not outdoorsy so I spend the week getting shitfaced. \\n\\u201cTwo more nights to get through, then on Sunday I have a big roast dinner and a bath and rock up Monday like I spent the whole time marking homework.\\u201d \\nBooker added: \\u201cPlus one of the year 12 lads has been in the pub every night so far, so to maintain discipline in the classroom I need to show I\\u2019m more hardcore than he is.\\u201d \\nShare:\"\n        ],\n        \"semantic_type\": \"\",\n        \"description\": \"\"\n      }\n    }\n  ]\n}"
            }
          },
          "metadata": {},
          "execution_count": 20
        }
      ],
      "source": [
        "twitter_fake.head()"
      ]
    },
    {
      "cell_type": "code",
      "execution_count": 21,
      "metadata": {
        "colab": {
          "base_uri": "https://localhost:8080/",
          "height": 147
        },
        "id": "PiwDoMfN5z1K",
        "outputId": "a0219732-605c-4eb0-807d-f9e61f8d72a2"
      },
      "outputs": [
        {
          "output_type": "execute_result",
          "data": {
            "text/plain": [
              "Id      1\n",
              "Text    0\n",
              "dtype: int64"
            ],
            "text/html": [
              "<div>\n",
              "<style scoped>\n",
              "    .dataframe tbody tr th:only-of-type {\n",
              "        vertical-align: middle;\n",
              "    }\n",
              "\n",
              "    .dataframe tbody tr th {\n",
              "        vertical-align: top;\n",
              "    }\n",
              "\n",
              "    .dataframe thead th {\n",
              "        text-align: right;\n",
              "    }\n",
              "</style>\n",
              "<table border=\"1\" class=\"dataframe\">\n",
              "  <thead>\n",
              "    <tr style=\"text-align: right;\">\n",
              "      <th></th>\n",
              "      <th>0</th>\n",
              "    </tr>\n",
              "  </thead>\n",
              "  <tbody>\n",
              "    <tr>\n",
              "      <th>Id</th>\n",
              "      <td>1</td>\n",
              "    </tr>\n",
              "    <tr>\n",
              "      <th>Text</th>\n",
              "      <td>0</td>\n",
              "    </tr>\n",
              "  </tbody>\n",
              "</table>\n",
              "</div><br><label><b>dtype:</b> int64</label>"
            ]
          },
          "metadata": {},
          "execution_count": 21
        }
      ],
      "source": [
        "twitter_fake.isnull().sum()"
      ]
    },
    {
      "cell_type": "code",
      "execution_count": 22,
      "metadata": {
        "id": "fXb4rdDB51zB"
      },
      "outputs": [],
      "source": [
        "twitter_fake.dropna(inplace=True)"
      ]
    },
    {
      "cell_type": "code",
      "execution_count": 23,
      "metadata": {
        "colab": {
          "base_uri": "https://localhost:8080/",
          "height": 147
        },
        "id": "JeVLRb5q551L",
        "outputId": "11cf565e-0729-45f6-813d-6ce920d2db35"
      },
      "outputs": [
        {
          "output_type": "execute_result",
          "data": {
            "text/plain": [
              "Id      0\n",
              "Text    0\n",
              "dtype: int64"
            ],
            "text/html": [
              "<div>\n",
              "<style scoped>\n",
              "    .dataframe tbody tr th:only-of-type {\n",
              "        vertical-align: middle;\n",
              "    }\n",
              "\n",
              "    .dataframe tbody tr th {\n",
              "        vertical-align: top;\n",
              "    }\n",
              "\n",
              "    .dataframe thead th {\n",
              "        text-align: right;\n",
              "    }\n",
              "</style>\n",
              "<table border=\"1\" class=\"dataframe\">\n",
              "  <thead>\n",
              "    <tr style=\"text-align: right;\">\n",
              "      <th></th>\n",
              "      <th>0</th>\n",
              "    </tr>\n",
              "  </thead>\n",
              "  <tbody>\n",
              "    <tr>\n",
              "      <th>Id</th>\n",
              "      <td>0</td>\n",
              "    </tr>\n",
              "    <tr>\n",
              "      <th>Text</th>\n",
              "      <td>0</td>\n",
              "    </tr>\n",
              "  </tbody>\n",
              "</table>\n",
              "</div><br><label><b>dtype:</b> int64</label>"
            ]
          },
          "metadata": {},
          "execution_count": 23
        }
      ],
      "source": [
        "twitter_fake.isnull().sum()"
      ]
    },
    {
      "cell_type": "code",
      "execution_count": 24,
      "metadata": {
        "colab": {
          "base_uri": "https://localhost:8080/",
          "height": 490
        },
        "id": "NpfhtrwZ6Aae",
        "outputId": "a9c2ff4b-32a7-4aee-fd17-e9da4153860e"
      },
      "outputs": [
        {
          "output_type": "execute_result",
          "data": {
            "text/plain": [
              "Id\n",
              "44426.0    1\n",
              "0.0        1\n",
              "1.0        1\n",
              "2.0        1\n",
              "3.0        1\n",
              "          ..\n",
              "29.0       1\n",
              "30.0       1\n",
              "31.0       1\n",
              "32.0       1\n",
              "33.0       1\n",
              "Name: count, Length: 43642, dtype: int64"
            ],
            "text/html": [
              "<div>\n",
              "<style scoped>\n",
              "    .dataframe tbody tr th:only-of-type {\n",
              "        vertical-align: middle;\n",
              "    }\n",
              "\n",
              "    .dataframe tbody tr th {\n",
              "        vertical-align: top;\n",
              "    }\n",
              "\n",
              "    .dataframe thead th {\n",
              "        text-align: right;\n",
              "    }\n",
              "</style>\n",
              "<table border=\"1\" class=\"dataframe\">\n",
              "  <thead>\n",
              "    <tr style=\"text-align: right;\">\n",
              "      <th></th>\n",
              "      <th>count</th>\n",
              "    </tr>\n",
              "    <tr>\n",
              "      <th>Id</th>\n",
              "      <th></th>\n",
              "    </tr>\n",
              "  </thead>\n",
              "  <tbody>\n",
              "    <tr>\n",
              "      <th>44426.0</th>\n",
              "      <td>1</td>\n",
              "    </tr>\n",
              "    <tr>\n",
              "      <th>0.0</th>\n",
              "      <td>1</td>\n",
              "    </tr>\n",
              "    <tr>\n",
              "      <th>1.0</th>\n",
              "      <td>1</td>\n",
              "    </tr>\n",
              "    <tr>\n",
              "      <th>2.0</th>\n",
              "      <td>1</td>\n",
              "    </tr>\n",
              "    <tr>\n",
              "      <th>3.0</th>\n",
              "      <td>1</td>\n",
              "    </tr>\n",
              "    <tr>\n",
              "      <th>...</th>\n",
              "      <td>...</td>\n",
              "    </tr>\n",
              "    <tr>\n",
              "      <th>29.0</th>\n",
              "      <td>1</td>\n",
              "    </tr>\n",
              "    <tr>\n",
              "      <th>30.0</th>\n",
              "      <td>1</td>\n",
              "    </tr>\n",
              "    <tr>\n",
              "      <th>31.0</th>\n",
              "      <td>1</td>\n",
              "    </tr>\n",
              "    <tr>\n",
              "      <th>32.0</th>\n",
              "      <td>1</td>\n",
              "    </tr>\n",
              "    <tr>\n",
              "      <th>33.0</th>\n",
              "      <td>1</td>\n",
              "    </tr>\n",
              "  </tbody>\n",
              "</table>\n",
              "<p>43642 rows × 1 columns</p>\n",
              "</div><br><label><b>dtype:</b> int64</label>"
            ]
          },
          "metadata": {},
          "execution_count": 24
        }
      ],
      "source": [
        "twitter_fake['Id'].value_counts()"
      ]
    },
    {
      "cell_type": "code",
      "execution_count": 25,
      "metadata": {
        "colab": {
          "base_uri": "https://localhost:8080/",
          "height": 300
        },
        "id": "O0tzb5WX6KPn",
        "outputId": "a7b46325-afd9-4121-ccb9-ab43d34d330e"
      },
      "outputs": [
        {
          "output_type": "execute_result",
          "data": {
            "text/plain": [
              "                 Id\n",
              "count  43642.000000\n",
              "mean   22293.806173\n",
              "std    12889.800176\n",
              "min        0.000000\n",
              "25%    10910.250000\n",
              "50%    22450.500000\n",
              "75%    33472.750000\n",
              "max    44426.000000"
            ],
            "text/html": [
              "\n",
              "  <div id=\"df-eed36070-fb96-4fba-8249-0fb2484a1de1\" class=\"colab-df-container\">\n",
              "    <div>\n",
              "<style scoped>\n",
              "    .dataframe tbody tr th:only-of-type {\n",
              "        vertical-align: middle;\n",
              "    }\n",
              "\n",
              "    .dataframe tbody tr th {\n",
              "        vertical-align: top;\n",
              "    }\n",
              "\n",
              "    .dataframe thead th {\n",
              "        text-align: right;\n",
              "    }\n",
              "</style>\n",
              "<table border=\"1\" class=\"dataframe\">\n",
              "  <thead>\n",
              "    <tr style=\"text-align: right;\">\n",
              "      <th></th>\n",
              "      <th>Id</th>\n",
              "    </tr>\n",
              "  </thead>\n",
              "  <tbody>\n",
              "    <tr>\n",
              "      <th>count</th>\n",
              "      <td>43642.000000</td>\n",
              "    </tr>\n",
              "    <tr>\n",
              "      <th>mean</th>\n",
              "      <td>22293.806173</td>\n",
              "    </tr>\n",
              "    <tr>\n",
              "      <th>std</th>\n",
              "      <td>12889.800176</td>\n",
              "    </tr>\n",
              "    <tr>\n",
              "      <th>min</th>\n",
              "      <td>0.000000</td>\n",
              "    </tr>\n",
              "    <tr>\n",
              "      <th>25%</th>\n",
              "      <td>10910.250000</td>\n",
              "    </tr>\n",
              "    <tr>\n",
              "      <th>50%</th>\n",
              "      <td>22450.500000</td>\n",
              "    </tr>\n",
              "    <tr>\n",
              "      <th>75%</th>\n",
              "      <td>33472.750000</td>\n",
              "    </tr>\n",
              "    <tr>\n",
              "      <th>max</th>\n",
              "      <td>44426.000000</td>\n",
              "    </tr>\n",
              "  </tbody>\n",
              "</table>\n",
              "</div>\n",
              "    <div class=\"colab-df-buttons\">\n",
              "\n",
              "  <div class=\"colab-df-container\">\n",
              "    <button class=\"colab-df-convert\" onclick=\"convertToInteractive('df-eed36070-fb96-4fba-8249-0fb2484a1de1')\"\n",
              "            title=\"Convert this dataframe to an interactive table.\"\n",
              "            style=\"display:none;\">\n",
              "\n",
              "  <svg xmlns=\"http://www.w3.org/2000/svg\" height=\"24px\" viewBox=\"0 -960 960 960\">\n",
              "    <path d=\"M120-120v-720h720v720H120Zm60-500h600v-160H180v160Zm220 220h160v-160H400v160Zm0 220h160v-160H400v160ZM180-400h160v-160H180v160Zm440 0h160v-160H620v160ZM180-180h160v-160H180v160Zm440 0h160v-160H620v160Z\"/>\n",
              "  </svg>\n",
              "    </button>\n",
              "\n",
              "  <style>\n",
              "    .colab-df-container {\n",
              "      display:flex;\n",
              "      gap: 12px;\n",
              "    }\n",
              "\n",
              "    .colab-df-convert {\n",
              "      background-color: #E8F0FE;\n",
              "      border: none;\n",
              "      border-radius: 50%;\n",
              "      cursor: pointer;\n",
              "      display: none;\n",
              "      fill: #1967D2;\n",
              "      height: 32px;\n",
              "      padding: 0 0 0 0;\n",
              "      width: 32px;\n",
              "    }\n",
              "\n",
              "    .colab-df-convert:hover {\n",
              "      background-color: #E2EBFA;\n",
              "      box-shadow: 0px 1px 2px rgba(60, 64, 67, 0.3), 0px 1px 3px 1px rgba(60, 64, 67, 0.15);\n",
              "      fill: #174EA6;\n",
              "    }\n",
              "\n",
              "    .colab-df-buttons div {\n",
              "      margin-bottom: 4px;\n",
              "    }\n",
              "\n",
              "    [theme=dark] .colab-df-convert {\n",
              "      background-color: #3B4455;\n",
              "      fill: #D2E3FC;\n",
              "    }\n",
              "\n",
              "    [theme=dark] .colab-df-convert:hover {\n",
              "      background-color: #434B5C;\n",
              "      box-shadow: 0px 1px 3px 1px rgba(0, 0, 0, 0.15);\n",
              "      filter: drop-shadow(0px 1px 2px rgba(0, 0, 0, 0.3));\n",
              "      fill: #FFFFFF;\n",
              "    }\n",
              "  </style>\n",
              "\n",
              "    <script>\n",
              "      const buttonEl =\n",
              "        document.querySelector('#df-eed36070-fb96-4fba-8249-0fb2484a1de1 button.colab-df-convert');\n",
              "      buttonEl.style.display =\n",
              "        google.colab.kernel.accessAllowed ? 'block' : 'none';\n",
              "\n",
              "      async function convertToInteractive(key) {\n",
              "        const element = document.querySelector('#df-eed36070-fb96-4fba-8249-0fb2484a1de1');\n",
              "        const dataTable =\n",
              "          await google.colab.kernel.invokeFunction('convertToInteractive',\n",
              "                                                    [key], {});\n",
              "        if (!dataTable) return;\n",
              "\n",
              "        const docLinkHtml = 'Like what you see? Visit the ' +\n",
              "          '<a target=\"_blank\" href=https://colab.research.google.com/notebooks/data_table.ipynb>data table notebook</a>'\n",
              "          + ' to learn more about interactive tables.';\n",
              "        element.innerHTML = '';\n",
              "        dataTable['output_type'] = 'display_data';\n",
              "        await google.colab.output.renderOutput(dataTable, element);\n",
              "        const docLink = document.createElement('div');\n",
              "        docLink.innerHTML = docLinkHtml;\n",
              "        element.appendChild(docLink);\n",
              "      }\n",
              "    </script>\n",
              "  </div>\n",
              "\n",
              "\n",
              "<div id=\"df-47a3c1c8-1962-452a-a70e-236f9db932dd\">\n",
              "  <button class=\"colab-df-quickchart\" onclick=\"quickchart('df-47a3c1c8-1962-452a-a70e-236f9db932dd')\"\n",
              "            title=\"Suggest charts\"\n",
              "            style=\"display:none;\">\n",
              "\n",
              "<svg xmlns=\"http://www.w3.org/2000/svg\" height=\"24px\"viewBox=\"0 0 24 24\"\n",
              "     width=\"24px\">\n",
              "    <g>\n",
              "        <path d=\"M19 3H5c-1.1 0-2 .9-2 2v14c0 1.1.9 2 2 2h14c1.1 0 2-.9 2-2V5c0-1.1-.9-2-2-2zM9 17H7v-7h2v7zm4 0h-2V7h2v10zm4 0h-2v-4h2v4z\"/>\n",
              "    </g>\n",
              "</svg>\n",
              "  </button>\n",
              "\n",
              "<style>\n",
              "  .colab-df-quickchart {\n",
              "      --bg-color: #E8F0FE;\n",
              "      --fill-color: #1967D2;\n",
              "      --hover-bg-color: #E2EBFA;\n",
              "      --hover-fill-color: #174EA6;\n",
              "      --disabled-fill-color: #AAA;\n",
              "      --disabled-bg-color: #DDD;\n",
              "  }\n",
              "\n",
              "  [theme=dark] .colab-df-quickchart {\n",
              "      --bg-color: #3B4455;\n",
              "      --fill-color: #D2E3FC;\n",
              "      --hover-bg-color: #434B5C;\n",
              "      --hover-fill-color: #FFFFFF;\n",
              "      --disabled-bg-color: #3B4455;\n",
              "      --disabled-fill-color: #666;\n",
              "  }\n",
              "\n",
              "  .colab-df-quickchart {\n",
              "    background-color: var(--bg-color);\n",
              "    border: none;\n",
              "    border-radius: 50%;\n",
              "    cursor: pointer;\n",
              "    display: none;\n",
              "    fill: var(--fill-color);\n",
              "    height: 32px;\n",
              "    padding: 0;\n",
              "    width: 32px;\n",
              "  }\n",
              "\n",
              "  .colab-df-quickchart:hover {\n",
              "    background-color: var(--hover-bg-color);\n",
              "    box-shadow: 0 1px 2px rgba(60, 64, 67, 0.3), 0 1px 3px 1px rgba(60, 64, 67, 0.15);\n",
              "    fill: var(--button-hover-fill-color);\n",
              "  }\n",
              "\n",
              "  .colab-df-quickchart-complete:disabled,\n",
              "  .colab-df-quickchart-complete:disabled:hover {\n",
              "    background-color: var(--disabled-bg-color);\n",
              "    fill: var(--disabled-fill-color);\n",
              "    box-shadow: none;\n",
              "  }\n",
              "\n",
              "  .colab-df-spinner {\n",
              "    border: 2px solid var(--fill-color);\n",
              "    border-color: transparent;\n",
              "    border-bottom-color: var(--fill-color);\n",
              "    animation:\n",
              "      spin 1s steps(1) infinite;\n",
              "  }\n",
              "\n",
              "  @keyframes spin {\n",
              "    0% {\n",
              "      border-color: transparent;\n",
              "      border-bottom-color: var(--fill-color);\n",
              "      border-left-color: var(--fill-color);\n",
              "    }\n",
              "    20% {\n",
              "      border-color: transparent;\n",
              "      border-left-color: var(--fill-color);\n",
              "      border-top-color: var(--fill-color);\n",
              "    }\n",
              "    30% {\n",
              "      border-color: transparent;\n",
              "      border-left-color: var(--fill-color);\n",
              "      border-top-color: var(--fill-color);\n",
              "      border-right-color: var(--fill-color);\n",
              "    }\n",
              "    40% {\n",
              "      border-color: transparent;\n",
              "      border-right-color: var(--fill-color);\n",
              "      border-top-color: var(--fill-color);\n",
              "    }\n",
              "    60% {\n",
              "      border-color: transparent;\n",
              "      border-right-color: var(--fill-color);\n",
              "    }\n",
              "    80% {\n",
              "      border-color: transparent;\n",
              "      border-right-color: var(--fill-color);\n",
              "      border-bottom-color: var(--fill-color);\n",
              "    }\n",
              "    90% {\n",
              "      border-color: transparent;\n",
              "      border-bottom-color: var(--fill-color);\n",
              "    }\n",
              "  }\n",
              "</style>\n",
              "\n",
              "  <script>\n",
              "    async function quickchart(key) {\n",
              "      const quickchartButtonEl =\n",
              "        document.querySelector('#' + key + ' button');\n",
              "      quickchartButtonEl.disabled = true;  // To prevent multiple clicks.\n",
              "      quickchartButtonEl.classList.add('colab-df-spinner');\n",
              "      try {\n",
              "        const charts = await google.colab.kernel.invokeFunction(\n",
              "            'suggestCharts', [key], {});\n",
              "      } catch (error) {\n",
              "        console.error('Error during call to suggestCharts:', error);\n",
              "      }\n",
              "      quickchartButtonEl.classList.remove('colab-df-spinner');\n",
              "      quickchartButtonEl.classList.add('colab-df-quickchart-complete');\n",
              "    }\n",
              "    (() => {\n",
              "      let quickchartButtonEl =\n",
              "        document.querySelector('#df-47a3c1c8-1962-452a-a70e-236f9db932dd button');\n",
              "      quickchartButtonEl.style.display =\n",
              "        google.colab.kernel.accessAllowed ? 'block' : 'none';\n",
              "    })();\n",
              "  </script>\n",
              "</div>\n",
              "\n",
              "    </div>\n",
              "  </div>\n"
            ],
            "application/vnd.google.colaboratory.intrinsic+json": {
              "type": "dataframe",
              "summary": "{\n  \"name\": \"twitter_fake\",\n  \"rows\": 8,\n  \"fields\": [\n    {\n      \"column\": \"Id\",\n      \"properties\": {\n        \"dtype\": \"number\",\n        \"std\": 15894.268612904129,\n        \"min\": 0.0,\n        \"max\": 44426.0,\n        \"num_unique_values\": 8,\n        \"samples\": [\n          22293.80617295266,\n          22450.5,\n          43642.0\n        ],\n        \"semantic_type\": \"\",\n        \"description\": \"\"\n      }\n    }\n  ]\n}"
            }
          },
          "metadata": {},
          "execution_count": 25
        }
      ],
      "source": [
        "twitter_true.describe()\n",
        "twitter_fake.describe()"
      ]
    },
    {
      "cell_type": "markdown",
      "metadata": {
        "id": "OfHrHFUv7l0u"
      },
      "source": [
        "Text Cleaning: This is crucial for text analysis. Here's a common sequence:\n"
      ]
    },
    {
      "cell_type": "code",
      "execution_count": 26,
      "metadata": {
        "id": "SZJXIOQD7Bol"
      },
      "outputs": [],
      "source": [
        "import re  # For regular expressions\n",
        "\n",
        "def clean_text(Text):\n",
        "    Text = str(Text).lower()  # Lowercase\n",
        "    Text = re.sub(r'\\[.*?\\]', '', Text)  # Remove Text in square brackets\n",
        "    Text = re.sub(r'https?://\\S+|www\\.\\S+', '', Text)  # Remove URLs\n",
        "    Text = re.sub(r'<.*?>+', '', Text)  # Remove HTML tags\n",
        "    Text = re.sub(r'[%s]' % re.escape(string.punctuation), '', Text)  # Remove punctuation\n",
        "    Text = re.sub(r'\\n', '', Text)  # Remove newline characters\n",
        "    Text = re.sub(r'\\w*\\d\\w*', '', Text)  # Remove words containing numbers\n",
        "    return Text\n",
        "\n",
        "import string\n",
        "\n",
        "twitter_true['Text'] = twitter_true['Text'].apply(clean_text)\n",
        "twitter_fake['Text'] = twitter_fake['Text'].apply(clean_text)\n"
      ]
    },
    {
      "cell_type": "markdown",
      "metadata": {
        "id": "P_BZyWsu7za0"
      },
      "source": [
        "REMOVING STOP WORDS"
      ]
    },
    {
      "cell_type": "code",
      "execution_count": 27,
      "metadata": {
        "colab": {
          "base_uri": "https://localhost:8080/"
        },
        "id": "pTn0nxTY7gib",
        "outputId": "9f6be95d-4975-46eb-d3d6-9d231126ea2f"
      },
      "outputs": [
        {
          "output_type": "stream",
          "name": "stderr",
          "text": [
            "[nltk_data] Downloading package stopwords to /root/nltk_data...\n",
            "[nltk_data]   Package stopwords is already up-to-date!\n"
          ]
        }
      ],
      "source": [
        "import nltk\n",
        "from nltk.corpus import stopwords\n",
        "\n",
        "nltk.download('stopwords')  # Download the stopwords list if you haven't already\n",
        "\n",
        "stop_words = set(stopwords.words('english'))\n",
        "\n",
        "def remove_stopwords(Text):\n",
        "    words = Text.split()\n",
        "    filtered_words = [word for word in words if word not in stop_words]\n",
        "    return ' '.join(filtered_words)\n",
        "\n",
        "twitter_true['Text'] = twitter_true['Text'].apply(remove_stopwords)\n",
        "twitter_fake['Text'] = twitter_fake['Text'].apply(remove_stopwords)\n"
      ]
    },
    {
      "cell_type": "markdown",
      "metadata": {
        "id": "YpR63BRe8ngD"
      },
      "source": [
        "**Stemming/Lemmatization: Reduce words to their root form. Lemmatization is generally preferred.**"
      ]
    },
    {
      "cell_type": "code",
      "execution_count": 28,
      "metadata": {
        "colab": {
          "base_uri": "https://localhost:8080/"
        },
        "id": "6Zwbu3j78jxW",
        "outputId": "1c78cb4f-9074-4893-ebe7-7e153beea37c"
      },
      "outputs": [
        {
          "output_type": "stream",
          "name": "stderr",
          "text": [
            "[nltk_data] Downloading package wordnet to /root/nltk_data...\n"
          ]
        }
      ],
      "source": [
        "from nltk.stem import WordNetLemmatizer\n",
        "\n",
        "nltk.download('wordnet')  # Download WordNet if you haven't already\n",
        "\n",
        "lemmatizer = WordNetLemmatizer()\n",
        "\n",
        "def lemmatize_text(Text):\n",
        "    words = Text.split()\n",
        "    lemmatized_words = [lemmatizer.lemmatize(word) for word in words]\n",
        "    return ' '.join(lemmatized_words)\n",
        "\n",
        "twitter_true['Text'] = twitter_true['Text'].apply(lemmatize_text)\n",
        "twitter_fake['Text'] = twitter_fake['Text'].apply(lemmatize_text)\n",
        "\n",
        "\n",
        "#Downloads WordNet: Downloads the WordNet lexical database, which is used for lemmatization.\n",
        "#Lemmatizes Text: Applies lemmatization to each word in the text. Lemmatization reduces words to their dictionary base form (lemma)."
      ]
    },
    {
      "cell_type": "code",
      "execution_count": 29,
      "metadata": {
        "id": "mkeyacl66bWe"
      },
      "outputs": [],
      "source": [
        "twitter_true['label'] = 'true'\n",
        "twitter_fake['label'] = 'fake'\n",
        "\n",
        "all_news = pd.concat([twitter_true, twitter_fake], ignore_index=True)\n",
        "\n",
        "\n"
      ]
    },
    {
      "cell_type": "code",
      "execution_count": 30,
      "metadata": {
        "colab": {
          "base_uri": "https://localhost:8080/"
        },
        "id": "qxJkz-pK6xNd",
        "outputId": "b2e80174-2697-4068-8072-05b849556661"
      },
      "outputs": [
        {
          "output_type": "execute_result",
          "data": {
            "text/plain": [
              "(78588, 3)"
            ]
          },
          "metadata": {},
          "execution_count": 30
        }
      ],
      "source": [
        "all_news.shape"
      ]
    },
    {
      "cell_type": "code",
      "execution_count": 31,
      "metadata": {
        "colab": {
          "base_uri": "https://localhost:8080/",
          "height": 206
        },
        "id": "tr7RyMzM6zyW",
        "outputId": "41d6914f-b8f0-41e5-a9e7-c3e89c7dc02c"
      },
      "outputs": [
        {
          "output_type": "execute_result",
          "data": {
            "text/plain": [
              "    Id                                               Text label\n",
              "0  0.0  head conservative republican faction u congres...  true\n",
              "1  1.0  transgender people allowed first time enlist u...  true\n",
              "2  2.0  special counsel investigation link russia pres...  true\n",
              "3  3.0  trump campaign adviser george papadopoulos tol...  true\n",
              "4  4.0  president donald trump called u postal service...  true"
            ],
            "text/html": [
              "\n",
              "  <div id=\"df-1721e958-ea74-4d29-bd41-3a8a8e57aba7\" class=\"colab-df-container\">\n",
              "    <div>\n",
              "<style scoped>\n",
              "    .dataframe tbody tr th:only-of-type {\n",
              "        vertical-align: middle;\n",
              "    }\n",
              "\n",
              "    .dataframe tbody tr th {\n",
              "        vertical-align: top;\n",
              "    }\n",
              "\n",
              "    .dataframe thead th {\n",
              "        text-align: right;\n",
              "    }\n",
              "</style>\n",
              "<table border=\"1\" class=\"dataframe\">\n",
              "  <thead>\n",
              "    <tr style=\"text-align: right;\">\n",
              "      <th></th>\n",
              "      <th>Id</th>\n",
              "      <th>Text</th>\n",
              "      <th>label</th>\n",
              "    </tr>\n",
              "  </thead>\n",
              "  <tbody>\n",
              "    <tr>\n",
              "      <th>0</th>\n",
              "      <td>0.0</td>\n",
              "      <td>head conservative republican faction u congres...</td>\n",
              "      <td>true</td>\n",
              "    </tr>\n",
              "    <tr>\n",
              "      <th>1</th>\n",
              "      <td>1.0</td>\n",
              "      <td>transgender people allowed first time enlist u...</td>\n",
              "      <td>true</td>\n",
              "    </tr>\n",
              "    <tr>\n",
              "      <th>2</th>\n",
              "      <td>2.0</td>\n",
              "      <td>special counsel investigation link russia pres...</td>\n",
              "      <td>true</td>\n",
              "    </tr>\n",
              "    <tr>\n",
              "      <th>3</th>\n",
              "      <td>3.0</td>\n",
              "      <td>trump campaign adviser george papadopoulos tol...</td>\n",
              "      <td>true</td>\n",
              "    </tr>\n",
              "    <tr>\n",
              "      <th>4</th>\n",
              "      <td>4.0</td>\n",
              "      <td>president donald trump called u postal service...</td>\n",
              "      <td>true</td>\n",
              "    </tr>\n",
              "  </tbody>\n",
              "</table>\n",
              "</div>\n",
              "    <div class=\"colab-df-buttons\">\n",
              "\n",
              "  <div class=\"colab-df-container\">\n",
              "    <button class=\"colab-df-convert\" onclick=\"convertToInteractive('df-1721e958-ea74-4d29-bd41-3a8a8e57aba7')\"\n",
              "            title=\"Convert this dataframe to an interactive table.\"\n",
              "            style=\"display:none;\">\n",
              "\n",
              "  <svg xmlns=\"http://www.w3.org/2000/svg\" height=\"24px\" viewBox=\"0 -960 960 960\">\n",
              "    <path d=\"M120-120v-720h720v720H120Zm60-500h600v-160H180v160Zm220 220h160v-160H400v160Zm0 220h160v-160H400v160ZM180-400h160v-160H180v160Zm440 0h160v-160H620v160ZM180-180h160v-160H180v160Zm440 0h160v-160H620v160Z\"/>\n",
              "  </svg>\n",
              "    </button>\n",
              "\n",
              "  <style>\n",
              "    .colab-df-container {\n",
              "      display:flex;\n",
              "      gap: 12px;\n",
              "    }\n",
              "\n",
              "    .colab-df-convert {\n",
              "      background-color: #E8F0FE;\n",
              "      border: none;\n",
              "      border-radius: 50%;\n",
              "      cursor: pointer;\n",
              "      display: none;\n",
              "      fill: #1967D2;\n",
              "      height: 32px;\n",
              "      padding: 0 0 0 0;\n",
              "      width: 32px;\n",
              "    }\n",
              "\n",
              "    .colab-df-convert:hover {\n",
              "      background-color: #E2EBFA;\n",
              "      box-shadow: 0px 1px 2px rgba(60, 64, 67, 0.3), 0px 1px 3px 1px rgba(60, 64, 67, 0.15);\n",
              "      fill: #174EA6;\n",
              "    }\n",
              "\n",
              "    .colab-df-buttons div {\n",
              "      margin-bottom: 4px;\n",
              "    }\n",
              "\n",
              "    [theme=dark] .colab-df-convert {\n",
              "      background-color: #3B4455;\n",
              "      fill: #D2E3FC;\n",
              "    }\n",
              "\n",
              "    [theme=dark] .colab-df-convert:hover {\n",
              "      background-color: #434B5C;\n",
              "      box-shadow: 0px 1px 3px 1px rgba(0, 0, 0, 0.15);\n",
              "      filter: drop-shadow(0px 1px 2px rgba(0, 0, 0, 0.3));\n",
              "      fill: #FFFFFF;\n",
              "    }\n",
              "  </style>\n",
              "\n",
              "    <script>\n",
              "      const buttonEl =\n",
              "        document.querySelector('#df-1721e958-ea74-4d29-bd41-3a8a8e57aba7 button.colab-df-convert');\n",
              "      buttonEl.style.display =\n",
              "        google.colab.kernel.accessAllowed ? 'block' : 'none';\n",
              "\n",
              "      async function convertToInteractive(key) {\n",
              "        const element = document.querySelector('#df-1721e958-ea74-4d29-bd41-3a8a8e57aba7');\n",
              "        const dataTable =\n",
              "          await google.colab.kernel.invokeFunction('convertToInteractive',\n",
              "                                                    [key], {});\n",
              "        if (!dataTable) return;\n",
              "\n",
              "        const docLinkHtml = 'Like what you see? Visit the ' +\n",
              "          '<a target=\"_blank\" href=https://colab.research.google.com/notebooks/data_table.ipynb>data table notebook</a>'\n",
              "          + ' to learn more about interactive tables.';\n",
              "        element.innerHTML = '';\n",
              "        dataTable['output_type'] = 'display_data';\n",
              "        await google.colab.output.renderOutput(dataTable, element);\n",
              "        const docLink = document.createElement('div');\n",
              "        docLink.innerHTML = docLinkHtml;\n",
              "        element.appendChild(docLink);\n",
              "      }\n",
              "    </script>\n",
              "  </div>\n",
              "\n",
              "\n",
              "<div id=\"df-30811fba-0b6f-42af-bbec-8b12a0d0d49c\">\n",
              "  <button class=\"colab-df-quickchart\" onclick=\"quickchart('df-30811fba-0b6f-42af-bbec-8b12a0d0d49c')\"\n",
              "            title=\"Suggest charts\"\n",
              "            style=\"display:none;\">\n",
              "\n",
              "<svg xmlns=\"http://www.w3.org/2000/svg\" height=\"24px\"viewBox=\"0 0 24 24\"\n",
              "     width=\"24px\">\n",
              "    <g>\n",
              "        <path d=\"M19 3H5c-1.1 0-2 .9-2 2v14c0 1.1.9 2 2 2h14c1.1 0 2-.9 2-2V5c0-1.1-.9-2-2-2zM9 17H7v-7h2v7zm4 0h-2V7h2v10zm4 0h-2v-4h2v4z\"/>\n",
              "    </g>\n",
              "</svg>\n",
              "  </button>\n",
              "\n",
              "<style>\n",
              "  .colab-df-quickchart {\n",
              "      --bg-color: #E8F0FE;\n",
              "      --fill-color: #1967D2;\n",
              "      --hover-bg-color: #E2EBFA;\n",
              "      --hover-fill-color: #174EA6;\n",
              "      --disabled-fill-color: #AAA;\n",
              "      --disabled-bg-color: #DDD;\n",
              "  }\n",
              "\n",
              "  [theme=dark] .colab-df-quickchart {\n",
              "      --bg-color: #3B4455;\n",
              "      --fill-color: #D2E3FC;\n",
              "      --hover-bg-color: #434B5C;\n",
              "      --hover-fill-color: #FFFFFF;\n",
              "      --disabled-bg-color: #3B4455;\n",
              "      --disabled-fill-color: #666;\n",
              "  }\n",
              "\n",
              "  .colab-df-quickchart {\n",
              "    background-color: var(--bg-color);\n",
              "    border: none;\n",
              "    border-radius: 50%;\n",
              "    cursor: pointer;\n",
              "    display: none;\n",
              "    fill: var(--fill-color);\n",
              "    height: 32px;\n",
              "    padding: 0;\n",
              "    width: 32px;\n",
              "  }\n",
              "\n",
              "  .colab-df-quickchart:hover {\n",
              "    background-color: var(--hover-bg-color);\n",
              "    box-shadow: 0 1px 2px rgba(60, 64, 67, 0.3), 0 1px 3px 1px rgba(60, 64, 67, 0.15);\n",
              "    fill: var(--button-hover-fill-color);\n",
              "  }\n",
              "\n",
              "  .colab-df-quickchart-complete:disabled,\n",
              "  .colab-df-quickchart-complete:disabled:hover {\n",
              "    background-color: var(--disabled-bg-color);\n",
              "    fill: var(--disabled-fill-color);\n",
              "    box-shadow: none;\n",
              "  }\n",
              "\n",
              "  .colab-df-spinner {\n",
              "    border: 2px solid var(--fill-color);\n",
              "    border-color: transparent;\n",
              "    border-bottom-color: var(--fill-color);\n",
              "    animation:\n",
              "      spin 1s steps(1) infinite;\n",
              "  }\n",
              "\n",
              "  @keyframes spin {\n",
              "    0% {\n",
              "      border-color: transparent;\n",
              "      border-bottom-color: var(--fill-color);\n",
              "      border-left-color: var(--fill-color);\n",
              "    }\n",
              "    20% {\n",
              "      border-color: transparent;\n",
              "      border-left-color: var(--fill-color);\n",
              "      border-top-color: var(--fill-color);\n",
              "    }\n",
              "    30% {\n",
              "      border-color: transparent;\n",
              "      border-left-color: var(--fill-color);\n",
              "      border-top-color: var(--fill-color);\n",
              "      border-right-color: var(--fill-color);\n",
              "    }\n",
              "    40% {\n",
              "      border-color: transparent;\n",
              "      border-right-color: var(--fill-color);\n",
              "      border-top-color: var(--fill-color);\n",
              "    }\n",
              "    60% {\n",
              "      border-color: transparent;\n",
              "      border-right-color: var(--fill-color);\n",
              "    }\n",
              "    80% {\n",
              "      border-color: transparent;\n",
              "      border-right-color: var(--fill-color);\n",
              "      border-bottom-color: var(--fill-color);\n",
              "    }\n",
              "    90% {\n",
              "      border-color: transparent;\n",
              "      border-bottom-color: var(--fill-color);\n",
              "    }\n",
              "  }\n",
              "</style>\n",
              "\n",
              "  <script>\n",
              "    async function quickchart(key) {\n",
              "      const quickchartButtonEl =\n",
              "        document.querySelector('#' + key + ' button');\n",
              "      quickchartButtonEl.disabled = true;  // To prevent multiple clicks.\n",
              "      quickchartButtonEl.classList.add('colab-df-spinner');\n",
              "      try {\n",
              "        const charts = await google.colab.kernel.invokeFunction(\n",
              "            'suggestCharts', [key], {});\n",
              "      } catch (error) {\n",
              "        console.error('Error during call to suggestCharts:', error);\n",
              "      }\n",
              "      quickchartButtonEl.classList.remove('colab-df-spinner');\n",
              "      quickchartButtonEl.classList.add('colab-df-quickchart-complete');\n",
              "    }\n",
              "    (() => {\n",
              "      let quickchartButtonEl =\n",
              "        document.querySelector('#df-30811fba-0b6f-42af-bbec-8b12a0d0d49c button');\n",
              "      quickchartButtonEl.style.display =\n",
              "        google.colab.kernel.accessAllowed ? 'block' : 'none';\n",
              "    })();\n",
              "  </script>\n",
              "</div>\n",
              "\n",
              "    </div>\n",
              "  </div>\n"
            ],
            "application/vnd.google.colaboratory.intrinsic+json": {
              "type": "dataframe",
              "variable_name": "all_news",
              "summary": "{\n  \"name\": \"all_news\",\n  \"rows\": 78588,\n  \"fields\": [\n    {\n      \"column\": \"Id\",\n      \"properties\": {\n        \"dtype\": \"number\",\n        \"std\": 11969.80217072352,\n        \"min\": 0.0,\n        \"max\": 44426.0,\n        \"num_unique_values\": 44398,\n        \"samples\": [\n          9757.0,\n          16163.0,\n          41674.0\n        ],\n        \"semantic_type\": \"\",\n        \"description\": \"\"\n      }\n    },\n    {\n      \"column\": \"Text\",\n      \"properties\": {\n        \"dtype\": \"string\",\n        \"num_unique_values\": 68467,\n        \"samples\": [\n          \"poroshenko ready turn ukrainian catholic exchange visafree travel eu\",\n          \"mitt romney got lot praise lot headline past year came attacked donald trump presidential campaign made de facto head never trump movement completely humiliated sucking trump election first appearing beg secretary state job going dinner trump rnc chairman reince priebus new yorkafter dining man made fun every turn month end romney appeared without dignity meal heap praise trumpwatch mittromney address reporter following dinner presidentelect realdonaldtrump breaking kellyfile pictwittercomewakmdtnuu fox news foxnews november decision humiliate family name father gov george romney marched martin luther king disgusting moment american politics show moral outrage demonstrated never trump phony three dollar billand perhaps surprising trump best known politics pushing racist birther conspiracy mitt romney first elevated stature mainstream republican politics advice team good taste romney held event trump endorsed two men stood stage together slapping backslater campaign trump pushing conspiracy theory obama college record romney also enlisted trump cut advertising form robocalls help get voteso romney going trump bended knee front camera international national press another chapter story oncepowerful men humiliating front clown abandoning whatever little shred principle left get sip power grossfeatured image via twitter\",\n          \"center security policy president frank gaffney joined siriusxm host alex marlow wednesday\\u2019s bretibart news daily talk crisis north korea whether trump administration able break cycle provocation negotiation stretch back decade gaffney said thing could different time maybe good way \\u201cnorth korea position attack horrific effect united state \\u2014 friend ally force region continental mainland united state \\u201d \\u201cone way could believe unleashing perhaps via nuclear device overhead \\u2014 currently two north korean satellite circling earth passing united state regularity could conceivably house electromagnetic pulse optimized nuclear weapon\\u201d explained detonated weapon could \\u201ctake united state destroying electric grid\\u201d offensive capability gaffney described \\u201c \\u201d even north korea develops intercontinental ballistic missile \\u201cthese real threat u home\\u201d said \\u201ci think somewhat change \\u2018groundhog day\\u2019 exercise we\\u2019ve going decade \\u201d gaffney quoted vice president mike penny talking putting end \\u201cwillful deception\\u201d meant \\u201cthe willful deception north korean entered succession agreement u including would get nuclear weapon \\u2014 course predictably violated impunity \\u201d \\u201cin fact rewarded subsequent negotiation concession made them\\u201d added \\u201cbut there\\u2019s another kind willful blindness willful deception that\\u2019s operating believe deception we\\u2019ve indulged country respect china\\u201d gaffney said \\u201cwe\\u2019re endlessly told chinese solution problem chinese restrain client north korea problem least mitigated eliminated \\u201d said truth matter \\u201cthe record pretty clear chinese consider bad behavior north korea strategic asset \\u201d \\u201cfar constraining think they\\u2019re enabling \\u2014 question \\u2014 think actually find expedient use united state notably one example course conversation donald trump\\u201d observed \\u201cwithin day ending campaign promised brand \\u2014 \\u2014 currency manipulator interest inducing chinese behave intermediary constrain north korea president said \\u2018oh they\\u2019re currency manipulator\\u2019 think that\\u2019s kind evidence benny flow north korean principally chinese enable north korean keep keeping \\u2014 fact become dangerous chinese help \\u201d marlow turned conversation tuesday\\u2019s shooting rampage fresno suspect kori ali muhammad targeted white victim reportedly shouted \\u201callahu akbar\\u201d police took associated press criticized refusing print phrase muhammad said instead rendering english \\u201cgod great\\u201d gaffney argued common translation \\u201callahu akbar\\u201d incorrect \\u201cit mean \\u2018allah greatest\\u2019\\u201d said \\u201cnot god abrahamic faith god allah isn\\u2019t great even greater greatest jihadist battle cry it\\u2019s supposed say killing infidel assure you\\u2019re killed process you\\u2019ll get credit shaheed martyr guy sacrificing greater glory sharia \\u201d \\u201cit\\u2019s almost parody day reflexive response law enforcement isn\\u2019t \\u2018nothing see folks\\u2019 certainly \\u2018nothing see way sharia supremacism\\u2019\\u201d complained \\u201cnow guy may lot issue apparently he\\u2019s homeless hated white people \\u2014 get say word cannot ignore fact probably somewhere maybe he\\u2019s hearing news maybe something he\\u2019s hearing jail lot guy getting converted jihad muslim going come jihadist whatever provenance cannot ignore fact probably somewhere dna belief would enhance standing allah least advance allah\\u2019s cause imposing everybody \\u2014 muslim alike way \\u2014 toxic ideology sharia\\u201d said gaffney \\u201ci\\u2019ve frankly guy law enforcement willfully blind\\u201d exclaimed \\u201cwe respect people duty god know incessantly repeat like it\\u2019s kind incantation it\\u2019s disservice public suggests malfeasance part term protecting u kind threat \\u201d marlow next asked gaffney report first \\u201cdreamer\\u201d \\u2014 young illegal alien protected president obama\\u2019s extension deferred action childhood arrival \\u2014 deported president trump many view deportation people brought united state child parent unfair since child say matter gaffney agreed marlow\\u2019s proposal daca provides incentive illegal alien bring child across border removing incentive help reduce volume illegal border crossing \\u201cit fundamentally rule law\\u201d gaffney declared \\u201cthese happen particularly sympathetic character didn\\u2019t say say coming \\u2014 parent brought sometimes utero nonetheless brought result obama administration many democrat lot republican matter kind willing look way president obama essentially waived law created new regulation would enable stay permanently \\u201d \\u201ci hope action isn\\u2019t one countermanded president trump learns probably news course campaign think subsequently said would try find way accommodate people\\u201d gaffney continued \\u201cit come magnet that\\u2019s we\\u2019ve got turn people attracted come country \\u2014 think extent figure kid least get permanent place get across border magnet turned along others \\u201d marlow sought gaffney\\u2019s take special referendum turkey gave president recep tayyip erdogan vastly increased power secured office decade come \\u201cwhat shocking narrowly suggests steal lot vote order get across mark\\u201d gaffney said saw erdogan \\u201cdead set one important step closer achieving caliphate eye set since young mayor istanbul \\u201d end gaffney recalled erdogan established islamist political party old ally fethullah gulen life united state blamed mastermind turkish unrest erdogan \\u201che\\u2019s trying convert turkey basically secular democratic nation one increasingly another dangerous islamist republic\\u201d warned \\u201cand think going bad turk it\\u2019s sure bad europe think real problem going forward extent nato alliance let\\u2019s recall member nato privy secret access technology \\u201d \\u201cthe fact erdogan president dictator effectively fear going increasingly moving country alliance islamic state muslim brotherhood russia china make serious problem security interest nato alliance said gaffney said mistake president trump call erdogan \\u201ccongratulate fact contested election \\u201d uncertain recommended course action trump said \\u201cthere obviously lot people administration inclined think obama \\u2014 try romance accommodate even appease sharia supremacist that\\u2019s erdogan \\u2014 they\\u2019ll behave better \\u201d \\u201ci think that\\u2019s mistake\\u201d judged \\u201ci wish president hadn\\u2019t made call point think we\\u2019re going give serious thought institutional arrangement decoupling nato ally alliance we\\u2019re going try figure otherwise think we\\u2019ve got potential enemy inside huddle \\u201d breitbart news daily air siriusxm patriot weekday eastern listen\"\n        ],\n        \"semantic_type\": \"\",\n        \"description\": \"\"\n      }\n    },\n    {\n      \"column\": \"label\",\n      \"properties\": {\n        \"dtype\": \"category\",\n        \"num_unique_values\": 2,\n        \"samples\": [\n          \"fake\",\n          \"true\"\n        ],\n        \"semantic_type\": \"\",\n        \"description\": \"\"\n      }\n    }\n  ]\n}"
            }
          },
          "metadata": {},
          "execution_count": 31
        }
      ],
      "source": [
        "all_news.head()"
      ]
    },
    {
      "cell_type": "markdown",
      "metadata": {
        "id": "Fvu9Ic1Y9ySA"
      },
      "source": [
        "Exploratory Data Analysis (EDA) After Cleaning\n",
        "\n",
        "**Label Distribution: Check the balance of 'true' and 'fake' labels.**"
      ]
    },
    {
      "cell_type": "code",
      "execution_count": 32,
      "metadata": {
        "colab": {
          "base_uri": "https://localhost:8080/",
          "height": 214
        },
        "id": "BQa91nBj64KC",
        "outputId": "ec8dd7e0-f1bc-4049-ff80-1f220ea18598"
      },
      "outputs": [
        {
          "output_type": "stream",
          "name": "stdout",
          "text": [
            "\n",
            "Label Distribution:\n"
          ]
        },
        {
          "output_type": "execute_result",
          "data": {
            "text/plain": [
              "label\n",
              "fake    43642\n",
              "true    34946\n",
              "Name: count, dtype: int64"
            ],
            "text/html": [
              "<div>\n",
              "<style scoped>\n",
              "    .dataframe tbody tr th:only-of-type {\n",
              "        vertical-align: middle;\n",
              "    }\n",
              "\n",
              "    .dataframe tbody tr th {\n",
              "        vertical-align: top;\n",
              "    }\n",
              "\n",
              "    .dataframe thead th {\n",
              "        text-align: right;\n",
              "    }\n",
              "</style>\n",
              "<table border=\"1\" class=\"dataframe\">\n",
              "  <thead>\n",
              "    <tr style=\"text-align: right;\">\n",
              "      <th></th>\n",
              "      <th>count</th>\n",
              "    </tr>\n",
              "    <tr>\n",
              "      <th>label</th>\n",
              "      <th></th>\n",
              "    </tr>\n",
              "  </thead>\n",
              "  <tbody>\n",
              "    <tr>\n",
              "      <th>fake</th>\n",
              "      <td>43642</td>\n",
              "    </tr>\n",
              "    <tr>\n",
              "      <th>true</th>\n",
              "      <td>34946</td>\n",
              "    </tr>\n",
              "  </tbody>\n",
              "</table>\n",
              "</div><br><label><b>dtype:</b> int64</label>"
            ]
          },
          "metadata": {},
          "execution_count": 32
        }
      ],
      "source": [
        "print(\"\\nLabel Distribution:\")\n",
        "all_news['label'].value_counts()\n"
      ]
    },
    {
      "cell_type": "markdown",
      "metadata": {
        "id": "coXeuExE98aA"
      },
      "source": [
        "# **Text *bold text* Length Analysis: Look at the distribution of text lengths (number of words) for true vs. fake news. This can sometimes reveal differences.**\n",
        "\n"
      ]
    },
    {
      "cell_type": "code",
      "execution_count": 33,
      "metadata": {
        "colab": {
          "base_uri": "https://localhost:8080/",
          "height": 561
        },
        "id": "yUyA2uLf942W",
        "outputId": "d29ac6e4-060f-4d56-f2d4-9e479c9b4461"
      },
      "outputs": [
        {
          "output_type": "display_data",
          "data": {
            "text/plain": [
              "<Figure size 1000x600 with 1 Axes>"
            ],
            "image/png": "[encoded data removed]"
          },
          "metadata": {}
        }
      ],
      "source": [
        "all_news['text_length'] = all_news['Text'].apply(lambda x: len(x.split()))\n",
        "\n",
        "import matplotlib.pyplot as plt\n",
        "import seaborn as sns\n",
        "\n",
        "plt.figure(figsize=(10, 6))\n",
        "sns.histplot(data=all_news, x='text_length', hue='label', kde=True)\n",
        "plt.title('Distribution of Text Length by Label')\n",
        "plt.xlabel('Text Length (Number of Words)')\n",
        "plt.ylabel('Frequency')\n",
        "plt.show()\n"
      ]
    },
    {
      "cell_type": "markdown",
      "metadata": {
        "id": "kRndLcxN-etO"
      },
      "source": [
        "**Word Frequency Analysis: Identify the most frequent words in true vs. fake news. This can give you insights into the topics and writing styles**"
      ]
    },
    {
      "cell_type": "code",
      "execution_count": 34,
      "metadata": {
        "colab": {
          "base_uri": "https://localhost:8080/"
        },
        "id": "vVwYHsiX-h9t",
        "outputId": "2eaaf792-0c91-4bb9-ffe5-eabc72e47747"
      },
      "outputs": [
        {
          "output_type": "stream",
          "name": "stdout",
          "text": [
            "\n",
            "Top 10 Words in True News: [('said', 164650), ('trump', 73866), ('mr', 70255), ('state', 58695), ('would', 55936), ('u', 50623), ('”', 46299), ('—', 44593), ('president', 43664), ('year', 39366)]\n",
            "Top 10 Words in Fake News: [('trump', 96043), ('u', 50616), ('people', 47768), ('said', 46766), ('one', 44679), ('would', 43038), ('state', 42006), ('clinton', 41209), ('president', 36844), ('time', 33411)]\n"
          ]
        }
      ],
      "source": [
        "from collections import Counter\n",
        "\n",
        "def top_words(Text, n=10):\n",
        "    words = Text.split()\n",
        "    return Counter(words).most_common(n)\n",
        "\n",
        "twitter_true = ' '.join(all_news[all_news['label'] == 'true']['Text'])\n",
        "twitter_fake = ' '.join(all_news[all_news['label'] == 'fake']['Text'])\n",
        "\n",
        "print(\"\\nTop 10 Words in True News:\", top_words(twitter_true))\n",
        "print(\"Top 10 Words in Fake News:\", top_words(twitter_fake))\n"
      ]
    },
    {
      "cell_type": "markdown",
      "metadata": {
        "id": "hraQkKI9_XHk"
      },
      "source": [
        "Stemming is the process of reducing a word to its root word\n",
        "\n",
        "EX: actor,actress,acting=act"
      ]
    },
    {
      "cell_type": "code",
      "execution_count": 35,
      "metadata": {
        "id": "ICtoQUl7_mM-"
      },
      "outputs": [],
      "source": [
        "port_stem = PorterStemmer()"
      ]
    },
    {
      "cell_type": "code",
      "execution_count": 36,
      "metadata": {
        "id": "aakO6gXp_fgp",
        "colab": {
          "base_uri": "https://localhost:8080/"
        },
        "outputId": "641ecc3c-a41a-4834-bf17-5a0ce713eccd"
      },
      "outputs": [
        {
          "output_type": "stream",
          "name": "stderr",
          "text": [
            "[nltk_data] Downloading package stopwords to /root/nltk_data...\n",
            "[nltk_data]   Package stopwords is already up-to-date!\n"
          ]
        }
      ],
      "source": [
        "import re\n",
        "from nltk.corpus import stopwords\n",
        "from nltk.stem import PorterStemmer\n",
        "from joblib import Parallel, delayed\n",
        "import nltk\n",
        "\n",
        "# Download stopwords if not already done\n",
        "nltk.download('stopwords')\n",
        "\n",
        "# Preload stopwords and stemmer\n",
        "stop_words = set(stopwords.words('english'))\n",
        "port_stem = PorterStemmer()\n",
        "\n",
        "def stemming(text):\n",
        "    # Remove non-alphabetic characters and convert to lowercase\n",
        "    stemmed_content = re.sub('[^a-zA-Z]', ' ', text).lower()\n",
        "    # Split into words and stem, excluding stopwords\n",
        "    stemmed_content = [port_stem.stem(word) for word in stemmed_content.split() if word not in stop_words]\n",
        "    return ' '.join(stemmed_content)\n",
        "\n",
        "# Apply stemming with parallel processing\n",
        "all_news['stemmed_content'] = Parallel(n_jobs=-1)(delayed(stemming)(text) for text in all_news['Text'])\n"
      ]
    },
    {
      "cell_type": "markdown",
      "source": [
        "removing of suffixes and prefixes from the word"
      ],
      "metadata": {
        "id": "7Lm99TamqmuE"
      }
    },
    {
      "cell_type": "code",
      "source": [
        "all_news.head()"
      ],
      "metadata": {
        "colab": {
          "base_uri": "https://localhost:8080/",
          "height": 293
        },
        "id": "2lztbZ_PqRdL",
        "outputId": "320fdef8-a54e-4585-fe21-5a5510fd84cb"
      },
      "execution_count": 37,
      "outputs": [
        {
          "output_type": "execute_result",
          "data": {
            "text/plain": [
              "    Id                                               Text label  text_length  \\\n",
              "0  0.0  head conservative republican faction u congres...  true          444   \n",
              "1  1.0  transgender people allowed first time enlist u...  true          235   \n",
              "2  2.0  special counsel investigation link russia pres...  true          266   \n",
              "3  3.0  trump campaign adviser george papadopoulos tol...  true          227   \n",
              "4  4.0  president donald trump called u postal service...  true          488   \n",
              "\n",
              "                                     stemmed_content  \n",
              "0  head conserv republican faction u congress vot...  \n",
              "1  transgend peopl allow first time enlist u mili...  \n",
              "2  special counsel investig link russia presid tr...  \n",
              "3  trump campaign advis georg papadopoulo told au...  \n",
              "4  presid donald trump call u postal servic frida...  "
            ],
            "text/html": [
              "\n",
              "  <div id=\"df-fc51ab74-b620-4849-b00e-c4e04d58a61a\" class=\"colab-df-container\">\n",
              "    <div>\n",
              "<style scoped>\n",
              "    .dataframe tbody tr th:only-of-type {\n",
              "        vertical-align: middle;\n",
              "    }\n",
              "\n",
              "    .dataframe tbody tr th {\n",
              "        vertical-align: top;\n",
              "    }\n",
              "\n",
              "    .dataframe thead th {\n",
              "        text-align: right;\n",
              "    }\n",
              "</style>\n",
              "<table border=\"1\" class=\"dataframe\">\n",
              "  <thead>\n",
              "    <tr style=\"text-align: right;\">\n",
              "      <th></th>\n",
              "      <th>Id</th>\n",
              "      <th>Text</th>\n",
              "      <th>label</th>\n",
              "      <th>text_length</th>\n",
              "      <th>stemmed_content</th>\n",
              "    </tr>\n",
              "  </thead>\n",
              "  <tbody>\n",
              "    <tr>\n",
              "      <th>0</th>\n",
              "      <td>0.0</td>\n",
              "      <td>head conservative republican faction u congres...</td>\n",
              "      <td>true</td>\n",
              "      <td>444</td>\n",
              "      <td>head conserv republican faction u congress vot...</td>\n",
              "    </tr>\n",
              "    <tr>\n",
              "      <th>1</th>\n",
              "      <td>1.0</td>\n",
              "      <td>transgender people allowed first time enlist u...</td>\n",
              "      <td>true</td>\n",
              "      <td>235</td>\n",
              "      <td>transgend peopl allow first time enlist u mili...</td>\n",
              "    </tr>\n",
              "    <tr>\n",
              "      <th>2</th>\n",
              "      <td>2.0</td>\n",
              "      <td>special counsel investigation link russia pres...</td>\n",
              "      <td>true</td>\n",
              "      <td>266</td>\n",
              "      <td>special counsel investig link russia presid tr...</td>\n",
              "    </tr>\n",
              "    <tr>\n",
              "      <th>3</th>\n",
              "      <td>3.0</td>\n",
              "      <td>trump campaign adviser george papadopoulos tol...</td>\n",
              "      <td>true</td>\n",
              "      <td>227</td>\n",
              "      <td>trump campaign advis georg papadopoulo told au...</td>\n",
              "    </tr>\n",
              "    <tr>\n",
              "      <th>4</th>\n",
              "      <td>4.0</td>\n",
              "      <td>president donald trump called u postal service...</td>\n",
              "      <td>true</td>\n",
              "      <td>488</td>\n",
              "      <td>presid donald trump call u postal servic frida...</td>\n",
              "    </tr>\n",
              "  </tbody>\n",
              "</table>\n",
              "</div>\n",
              "    <div class=\"colab-df-buttons\">\n",
              "\n",
              "  <div class=\"colab-df-container\">\n",
              "    <button class=\"colab-df-convert\" onclick=\"convertToInteractive('df-fc51ab74-b620-4849-b00e-c4e04d58a61a')\"\n",
              "            title=\"Convert this dataframe to an interactive table.\"\n",
              "            style=\"display:none;\">\n",
              "\n",
              "  <svg xmlns=\"http://www.w3.org/2000/svg\" height=\"24px\" viewBox=\"0 -960 960 960\">\n",
              "    <path d=\"M120-120v-720h720v720H120Zm60-500h600v-160H180v160Zm220 220h160v-160H400v160Zm0 220h160v-160H400v160ZM180-400h160v-160H180v160Zm440 0h160v-160H620v160ZM180-180h160v-160H180v160Zm440 0h160v-160H620v160Z\"/>\n",
              "  </svg>\n",
              "    </button>\n",
              "\n",
              "  <style>\n",
              "    .colab-df-container {\n",
              "      display:flex;\n",
              "      gap: 12px;\n",
              "    }\n",
              "\n",
              "    .colab-df-convert {\n",
              "      background-color: #E8F0FE;\n",
              "      border: none;\n",
              "      border-radius: 50%;\n",
              "      cursor: pointer;\n",
              "      display: none;\n",
              "      fill: #1967D2;\n",
              "      height: 32px;\n",
              "      padding: 0 0 0 0;\n",
              "      width: 32px;\n",
              "    }\n",
              "\n",
              "    .colab-df-convert:hover {\n",
              "      background-color: #E2EBFA;\n",
              "      box-shadow: 0px 1px 2px rgba(60, 64, 67, 0.3), 0px 1px 3px 1px rgba(60, 64, 67, 0.15);\n",
              "      fill: #174EA6;\n",
              "    }\n",
              "\n",
              "    .colab-df-buttons div {\n",
              "      margin-bottom: 4px;\n",
              "    }\n",
              "\n",
              "    [theme=dark] .colab-df-convert {\n",
              "      background-color: #3B4455;\n",
              "      fill: #D2E3FC;\n",
              "    }\n",
              "\n",
              "    [theme=dark] .colab-df-convert:hover {\n",
              "      background-color: #434B5C;\n",
              "      box-shadow: 0px 1px 3px 1px rgba(0, 0, 0, 0.15);\n",
              "      filter: drop-shadow(0px 1px 2px rgba(0, 0, 0, 0.3));\n",
              "      fill: #FFFFFF;\n",
              "    }\n",
              "  </style>\n",
              "\n",
              "    <script>\n",
              "      const buttonEl =\n",
              "        document.querySelector('#df-fc51ab74-b620-4849-b00e-c4e04d58a61a button.colab-df-convert');\n",
              "      buttonEl.style.display =\n",
              "        google.colab.kernel.accessAllowed ? 'block' : 'none';\n",
              "\n",
              "      async function convertToInteractive(key) {\n",
              "        const element = document.querySelector('#df-fc51ab74-b620-4849-b00e-c4e04d58a61a');\n",
              "        const dataTable =\n",
              "          await google.colab.kernel.invokeFunction('convertToInteractive',\n",
              "                                                    [key], {});\n",
              "        if (!dataTable) return;\n",
              "\n",
              "        const docLinkHtml = 'Like what you see? Visit the ' +\n",
              "          '<a target=\"_blank\" href=https://colab.research.google.com/notebooks/data_table.ipynb>data table notebook</a>'\n",
              "          + ' to learn more about interactive tables.';\n",
              "        element.innerHTML = '';\n",
              "        dataTable['output_type'] = 'display_data';\n",
              "        await google.colab.output.renderOutput(dataTable, element);\n",
              "        const docLink = document.createElement('div');\n",
              "        docLink.innerHTML = docLinkHtml;\n",
              "        element.appendChild(docLink);\n",
              "      }\n",
              "    </script>\n",
              "  </div>\n",
              "\n",
              "\n",
              "<div id=\"df-8798c62f-1c2c-424c-89c4-ff2b21d0eb85\">\n",
              "  <button class=\"colab-df-quickchart\" onclick=\"quickchart('df-8798c62f-1c2c-424c-89c4-ff2b21d0eb85')\"\n",
              "            title=\"Suggest charts\"\n",
              "            style=\"display:none;\">\n",
              "\n",
              "<svg xmlns=\"http://www.w3.org/2000/svg\" height=\"24px\"viewBox=\"0 0 24 24\"\n",
              "     width=\"24px\">\n",
              "    <g>\n",
              "        <path d=\"M19 3H5c-1.1 0-2 .9-2 2v14c0 1.1.9 2 2 2h14c1.1 0 2-.9 2-2V5c0-1.1-.9-2-2-2zM9 17H7v-7h2v7zm4 0h-2V7h2v10zm4 0h-2v-4h2v4z\"/>\n",
              "    </g>\n",
              "</svg>\n",
              "  </button>\n",
              "\n",
              "<style>\n",
              "  .colab-df-quickchart {\n",
              "      --bg-color: #E8F0FE;\n",
              "      --fill-color: #1967D2;\n",
              "      --hover-bg-color: #E2EBFA;\n",
              "      --hover-fill-color: #174EA6;\n",
              "      --disabled-fill-color: #AAA;\n",
              "      --disabled-bg-color: #DDD;\n",
              "  }\n",
              "\n",
              "  [theme=dark] .colab-df-quickchart {\n",
              "      --bg-color: #3B4455;\n",
              "      --fill-color: #D2E3FC;\n",
              "      --hover-bg-color: #434B5C;\n",
              "      --hover-fill-color: #FFFFFF;\n",
              "      --disabled-bg-color: #3B4455;\n",
              "      --disabled-fill-color: #666;\n",
              "  }\n",
              "\n",
              "  .colab-df-quickchart {\n",
              "    background-color: var(--bg-color);\n",
              "    border: none;\n",
              "    border-radius: 50%;\n",
              "    cursor: pointer;\n",
              "    display: none;\n",
              "    fill: var(--fill-color);\n",
              "    height: 32px;\n",
              "    padding: 0;\n",
              "    width: 32px;\n",
              "  }\n",
              "\n",
              "  .colab-df-quickchart:hover {\n",
              "    background-color: var(--hover-bg-color);\n",
              "    box-shadow: 0 1px 2px rgba(60, 64, 67, 0.3), 0 1px 3px 1px rgba(60, 64, 67, 0.15);\n",
              "    fill: var(--button-hover-fill-color);\n",
              "  }\n",
              "\n",
              "  .colab-df-quickchart-complete:disabled,\n",
              "  .colab-df-quickchart-complete:disabled:hover {\n",
              "    background-color: var(--disabled-bg-color);\n",
              "    fill: var(--disabled-fill-color);\n",
              "    box-shadow: none;\n",
              "  }\n",
              "\n",
              "  .colab-df-spinner {\n",
              "    border: 2px solid var(--fill-color);\n",
              "    border-color: transparent;\n",
              "    border-bottom-color: var(--fill-color);\n",
              "    animation:\n",
              "      spin 1s steps(1) infinite;\n",
              "  }\n",
              "\n",
              "  @keyframes spin {\n",
              "    0% {\n",
              "      border-color: transparent;\n",
              "      border-bottom-color: var(--fill-color);\n",
              "      border-left-color: var(--fill-color);\n",
              "    }\n",
              "    20% {\n",
              "      border-color: transparent;\n",
              "      border-left-color: var(--fill-color);\n",
              "      border-top-color: var(--fill-color);\n",
              "    }\n",
              "    30% {\n",
              "      border-color: transparent;\n",
              "      border-left-color: var(--fill-color);\n",
              "      border-top-color: var(--fill-color);\n",
              "      border-right-color: var(--fill-color);\n",
              "    }\n",
              "    40% {\n",
              "      border-color: transparent;\n",
              "      border-right-color: var(--fill-color);\n",
              "      border-top-color: var(--fill-color);\n",
              "    }\n",
              "    60% {\n",
              "      border-color: transparent;\n",
              "      border-right-color: var(--fill-color);\n",
              "    }\n",
              "    80% {\n",
              "      border-color: transparent;\n",
              "      border-right-color: var(--fill-color);\n",
              "      border-bottom-color: var(--fill-color);\n",
              "    }\n",
              "    90% {\n",
              "      border-color: transparent;\n",
              "      border-bottom-color: var(--fill-color);\n",
              "    }\n",
              "  }\n",
              "</style>\n",
              "\n",
              "  <script>\n",
              "    async function quickchart(key) {\n",
              "      const quickchartButtonEl =\n",
              "        document.querySelector('#' + key + ' button');\n",
              "      quickchartButtonEl.disabled = true;  // To prevent multiple clicks.\n",
              "      quickchartButtonEl.classList.add('colab-df-spinner');\n",
              "      try {\n",
              "        const charts = await google.colab.kernel.invokeFunction(\n",
              "            'suggestCharts', [key], {});\n",
              "      } catch (error) {\n",
              "        console.error('Error during call to suggestCharts:', error);\n",
              "      }\n",
              "      quickchartButtonEl.classList.remove('colab-df-spinner');\n",
              "      quickchartButtonEl.classList.add('colab-df-quickchart-complete');\n",
              "    }\n",
              "    (() => {\n",
              "      let quickchartButtonEl =\n",
              "        document.querySelector('#df-8798c62f-1c2c-424c-89c4-ff2b21d0eb85 button');\n",
              "      quickchartButtonEl.style.display =\n",
              "        google.colab.kernel.accessAllowed ? 'block' : 'none';\n",
              "    })();\n",
              "  </script>\n",
              "</div>\n",
              "\n",
              "    </div>\n",
              "  </div>\n"
            ],
            "application/vnd.google.colaboratory.intrinsic+json": {
              "type": "dataframe",
              "variable_name": "all_news",
              "summary": "{\n  \"name\": \"all_news\",\n  \"rows\": 78588,\n  \"fields\": [\n    {\n      \"column\": \"Id\",\n      \"properties\": {\n        \"dtype\": \"number\",\n        \"std\": 11969.80217072352,\n        \"min\": 0.0,\n        \"max\": 44426.0,\n        \"num_unique_values\": 44398,\n        \"samples\": [\n          9757.0,\n          16163.0,\n          41674.0\n        ],\n        \"semantic_type\": \"\",\n        \"description\": \"\"\n      }\n    },\n    {\n      \"column\": \"Text\",\n      \"properties\": {\n        \"dtype\": \"string\",\n        \"num_unique_values\": 68467,\n        \"samples\": [\n          \"poroshenko ready turn ukrainian catholic exchange visafree travel eu\",\n          \"mitt romney got lot praise lot headline past year came attacked donald trump presidential campaign made de facto head never trump movement completely humiliated sucking trump election first appearing beg secretary state job going dinner trump rnc chairman reince priebus new yorkafter dining man made fun every turn month end romney appeared without dignity meal heap praise trumpwatch mittromney address reporter following dinner presidentelect realdonaldtrump breaking kellyfile pictwittercomewakmdtnuu fox news foxnews november decision humiliate family name father gov george romney marched martin luther king disgusting moment american politics show moral outrage demonstrated never trump phony three dollar billand perhaps surprising trump best known politics pushing racist birther conspiracy mitt romney first elevated stature mainstream republican politics advice team good taste romney held event trump endorsed two men stood stage together slapping backslater campaign trump pushing conspiracy theory obama college record romney also enlisted trump cut advertising form robocalls help get voteso romney going trump bended knee front camera international national press another chapter story oncepowerful men humiliating front clown abandoning whatever little shred principle left get sip power grossfeatured image via twitter\",\n          \"center security policy president frank gaffney joined siriusxm host alex marlow wednesday\\u2019s bretibart news daily talk crisis north korea whether trump administration able break cycle provocation negotiation stretch back decade gaffney said thing could different time maybe good way \\u201cnorth korea position attack horrific effect united state \\u2014 friend ally force region continental mainland united state \\u201d \\u201cone way could believe unleashing perhaps via nuclear device overhead \\u2014 currently two north korean satellite circling earth passing united state regularity could conceivably house electromagnetic pulse optimized nuclear weapon\\u201d explained detonated weapon could \\u201ctake united state destroying electric grid\\u201d offensive capability gaffney described \\u201c \\u201d even north korea develops intercontinental ballistic missile \\u201cthese real threat u home\\u201d said \\u201ci think somewhat change \\u2018groundhog day\\u2019 exercise we\\u2019ve going decade \\u201d gaffney quoted vice president mike penny talking putting end \\u201cwillful deception\\u201d meant \\u201cthe willful deception north korean entered succession agreement u including would get nuclear weapon \\u2014 course predictably violated impunity \\u201d \\u201cin fact rewarded subsequent negotiation concession made them\\u201d added \\u201cbut there\\u2019s another kind willful blindness willful deception that\\u2019s operating believe deception we\\u2019ve indulged country respect china\\u201d gaffney said \\u201cwe\\u2019re endlessly told chinese solution problem chinese restrain client north korea problem least mitigated eliminated \\u201d said truth matter \\u201cthe record pretty clear chinese consider bad behavior north korea strategic asset \\u201d \\u201cfar constraining think they\\u2019re enabling \\u2014 question \\u2014 think actually find expedient use united state notably one example course conversation donald trump\\u201d observed \\u201cwithin day ending campaign promised brand \\u2014 \\u2014 currency manipulator interest inducing chinese behave intermediary constrain north korea president said \\u2018oh they\\u2019re currency manipulator\\u2019 think that\\u2019s kind evidence benny flow north korean principally chinese enable north korean keep keeping \\u2014 fact become dangerous chinese help \\u201d marlow turned conversation tuesday\\u2019s shooting rampage fresno suspect kori ali muhammad targeted white victim reportedly shouted \\u201callahu akbar\\u201d police took associated press criticized refusing print phrase muhammad said instead rendering english \\u201cgod great\\u201d gaffney argued common translation \\u201callahu akbar\\u201d incorrect \\u201cit mean \\u2018allah greatest\\u2019\\u201d said \\u201cnot god abrahamic faith god allah isn\\u2019t great even greater greatest jihadist battle cry it\\u2019s supposed say killing infidel assure you\\u2019re killed process you\\u2019ll get credit shaheed martyr guy sacrificing greater glory sharia \\u201d \\u201cit\\u2019s almost parody day reflexive response law enforcement isn\\u2019t \\u2018nothing see folks\\u2019 certainly \\u2018nothing see way sharia supremacism\\u2019\\u201d complained \\u201cnow guy may lot issue apparently he\\u2019s homeless hated white people \\u2014 get say word cannot ignore fact probably somewhere maybe he\\u2019s hearing news maybe something he\\u2019s hearing jail lot guy getting converted jihad muslim going come jihadist whatever provenance cannot ignore fact probably somewhere dna belief would enhance standing allah least advance allah\\u2019s cause imposing everybody \\u2014 muslim alike way \\u2014 toxic ideology sharia\\u201d said gaffney \\u201ci\\u2019ve frankly guy law enforcement willfully blind\\u201d exclaimed \\u201cwe respect people duty god know incessantly repeat like it\\u2019s kind incantation it\\u2019s disservice public suggests malfeasance part term protecting u kind threat \\u201d marlow next asked gaffney report first \\u201cdreamer\\u201d \\u2014 young illegal alien protected president obama\\u2019s extension deferred action childhood arrival \\u2014 deported president trump many view deportation people brought united state child parent unfair since child say matter gaffney agreed marlow\\u2019s proposal daca provides incentive illegal alien bring child across border removing incentive help reduce volume illegal border crossing \\u201cit fundamentally rule law\\u201d gaffney declared \\u201cthese happen particularly sympathetic character didn\\u2019t say say coming \\u2014 parent brought sometimes utero nonetheless brought result obama administration many democrat lot republican matter kind willing look way president obama essentially waived law created new regulation would enable stay permanently \\u201d \\u201ci hope action isn\\u2019t one countermanded president trump learns probably news course campaign think subsequently said would try find way accommodate people\\u201d gaffney continued \\u201cit come magnet that\\u2019s we\\u2019ve got turn people attracted come country \\u2014 think extent figure kid least get permanent place get across border magnet turned along others \\u201d marlow sought gaffney\\u2019s take special referendum turkey gave president recep tayyip erdogan vastly increased power secured office decade come \\u201cwhat shocking narrowly suggests steal lot vote order get across mark\\u201d gaffney said saw erdogan \\u201cdead set one important step closer achieving caliphate eye set since young mayor istanbul \\u201d end gaffney recalled erdogan established islamist political party old ally fethullah gulen life united state blamed mastermind turkish unrest erdogan \\u201che\\u2019s trying convert turkey basically secular democratic nation one increasingly another dangerous islamist republic\\u201d warned \\u201cand think going bad turk it\\u2019s sure bad europe think real problem going forward extent nato alliance let\\u2019s recall member nato privy secret access technology \\u201d \\u201cthe fact erdogan president dictator effectively fear going increasingly moving country alliance islamic state muslim brotherhood russia china make serious problem security interest nato alliance said gaffney said mistake president trump call erdogan \\u201ccongratulate fact contested election \\u201d uncertain recommended course action trump said \\u201cthere obviously lot people administration inclined think obama \\u2014 try romance accommodate even appease sharia supremacist that\\u2019s erdogan \\u2014 they\\u2019ll behave better \\u201d \\u201ci think that\\u2019s mistake\\u201d judged \\u201ci wish president hadn\\u2019t made call point think we\\u2019re going give serious thought institutional arrangement decoupling nato ally alliance we\\u2019re going try figure otherwise think we\\u2019ve got potential enemy inside huddle \\u201d breitbart news daily air siriusxm patriot weekday eastern listen\"\n        ],\n        \"semantic_type\": \"\",\n        \"description\": \"\"\n      }\n    },\n    {\n      \"column\": \"label\",\n      \"properties\": {\n        \"dtype\": \"category\",\n        \"num_unique_values\": 2,\n        \"samples\": [\n          \"fake\",\n          \"true\"\n        ],\n        \"semantic_type\": \"\",\n        \"description\": \"\"\n      }\n    },\n    {\n      \"column\": \"text_length\",\n      \"properties\": {\n        \"dtype\": \"number\",\n        \"std\": 342,\n        \"min\": 0,\n        \"max\": 20388,\n        \"num_unique_values\": 1901,\n        \"samples\": [\n          1276,\n          40\n        ],\n        \"semantic_type\": \"\",\n        \"description\": \"\"\n      }\n    },\n    {\n      \"column\": \"stemmed_content\",\n      \"properties\": {\n        \"dtype\": \"string\",\n        \"num_unique_values\": 68138,\n        \"samples\": [\n          \"add comment angri mob christma shopper descend grafton street yesterday even protest call insultingli late date annual turn christma light wwn reveal first appear warm crowd hope wit event soon turn sinist natur mani chant fire sever council employe novemb key date christma period chosen dublin citi council date would usher christma ceremoni shut earli crowd enrag council left late year turn violent think disgrac irish citizen walk town novemb without christma light fuck travesti share local alan heali taken dress head toe christma light counteract lack christma cheer citi dublin council defend decis point light cannot turn first person driven insan christma ad domin tv year took littl longer think laoi woman lost plot see tesco ad time day share council offici ain kilbrid council confirm ideal world would turn christma light top ceremoni week begin august peopl forget august septemb octob novemb part christma job hammer peopl ove rthe head want commit act violenc us ad kilbrid\",\n          \"washington presid obama ban sale kind militari equip local law enforc agenc follow widespread critic paramilitarylik respons riot st loui suburb last augustin obama put stamp recommend multiag feder work group endors ban sale militari equip provid train supervis oversight otherswev seen militar gear sometim give peopl feel like theyr occupi forc oppos forc that part commun that protect serv obama said speech camden nj monday said militari equip alien intimid local resid may send wrong messagein camden obama highlight wide rang administr initi fight crime improv policecommun relat improv transpar polic includ white hous data initi encourag local polic depart releas inform arrest us forc polic guidelin polic use bodyworn camera feder grant help implement commun polic strategiesbut chang feder polici use militari equip polic receiv attent follow use armor truck riot gear tear ga assault rifl polic last year ferguson mo day unrest follow polic shoot unarm manban track armor vehicl bayonet grenad launcher camouflag uniform largecalib weapon ammunitionso go prohibit equip made battlefield appropri local polic depart obama said equip may need certain case proper trainingthat equip place control equip list includ aircraft wheel tactic vehicl mobil commandandcontrol unit batter ram riot gearto access equip polic depart must meet nation polic standard track use receiv approv feder govern sell transfer themth ban prohibit item take effect immedi white hous deputi press secretari eric schultz said recommend go effect oct allow administr write specif rulesalthough rule havent draft white hous highlight one polici univers texa system polic prohibit use militari vehicl respons exercis first amend right free speech part public demonstr display polic resourcesto elig purchas equip agenc must adopt robust specif written polici protocol cover use feder equip polic practic gener agenc violat rule would bar futur equip purchas least day case refer justic depart civil right investigationthrough execut order januari obama ask feder depart consult polic civil right group come recommend polic use militari equip obama ratifi execut action mondaybut congress also consid legisl sen clair mccaskil dmo sponsor one bill call presid action step right direct acknowledg feder equip fund save life program need reform report releas monday work group note mani polic depart increasingli reli feder govern equip local budget strain yet neighborhood commun incid misus overus inappropri use control equip occur result strain place commun relationship law enforc sever report said\"\n        ],\n        \"semantic_type\": \"\",\n        \"description\": \"\"\n      }\n    }\n  ]\n}"
            }
          },
          "metadata": {},
          "execution_count": 37
        }
      ]
    },
    {
      "cell_type": "code",
      "source": [
        "print(all_news['stemmed_content'])"
      ],
      "metadata": {
        "colab": {
          "base_uri": "https://localhost:8080/"
        },
        "id": "tYMMIXUdq6Hd",
        "outputId": "7935fb07-1f7f-4c7f-80e9-b4ea33b245a8"
      },
      "execution_count": 38,
      "outputs": [
        {
          "output_type": "stream",
          "name": "stdout",
          "text": [
            "0        head conserv republican faction u congress vot...\n",
            "1        transgend peopl allow first time enlist u mili...\n",
            "2        special counsel investig link russia presid tr...\n",
            "3        trump campaign advis georg papadopoulo told au...\n",
            "4        presid donald trump call u postal servic frida...\n",
            "                               ...                        \n",
            "78583    usa want divid syria great britain franc germa...\n",
            "78584    ukrainian coup detat cost u noth nearli noth c...\n",
            "78585    european parliament falsifi histori declar mol...\n",
            "78586    european parliament falsifi histori declar mol...\n",
            "78587    lead fsb offic segey beseda said summit intell...\n",
            "Name: stemmed_content, Length: 78588, dtype: object\n"
          ]
        }
      ]
    },
    {
      "cell_type": "code",
      "source": [
        "print(all_news['label'])"
      ],
      "metadata": {
        "colab": {
          "base_uri": "https://localhost:8080/"
        },
        "id": "n8-fPu31rKkG",
        "outputId": "7138f66b-85a2-4698-e2e8-180f8c3323cc"
      },
      "execution_count": 39,
      "outputs": [
        {
          "output_type": "stream",
          "name": "stdout",
          "text": [
            "0        true\n",
            "1        true\n",
            "2        true\n",
            "3        true\n",
            "4        true\n",
            "         ... \n",
            "78583    fake\n",
            "78584    fake\n",
            "78585    fake\n",
            "78586    fake\n",
            "78587    fake\n",
            "Name: label, Length: 78588, dtype: object\n"
          ]
        }
      ]
    },
    {
      "cell_type": "code",
      "source": [
        "X= all_news['stemmed_content'].values\n",
        "Y= all_news['label'].values"
      ],
      "metadata": {
        "id": "kkbIho9LrjB-"
      },
      "execution_count": 40,
      "outputs": []
    },
    {
      "cell_type": "code",
      "source": [
        "print(X)"
      ],
      "metadata": {
        "colab": {
          "base_uri": "https://localhost:8080/"
        },
        "id": "sk0fLrFOrnZu",
        "outputId": "2928f07d-22e4-40d2-e6e8-c1423a921316"
      },
      "execution_count": 41,
      "outputs": [
        {
          "output_type": "stream",
          "name": "stdout",
          "text": [
            "['head conserv republican faction u congress vote month huge expans nation debt pay tax cut call fiscal conserv sunday urg budget restraint keep sharp pivot way among republican u repres mark meadow speak cb face nation drew hard line feder spend lawmak brace battl januari return holiday wednesday lawmak begin tri pa feder budget fight like link issu immigr polici even novemb congression elect campaign approach republican seek keep control congress presid donald trump republican want big budget increas militari spend democrat also want proport increas nondefens discretionari spend program support educ scientif research infrastructur public health environment protect trump administr alreadi will say go increas nondefens discretionari spend percent meadow chairman small influenti hous freedom caucu said program democrat say enough need give govern pay rais percent fiscal conserv see rational eventu run peopl money said meadow among republican vote late decemb parti debtfinanc tax overhaul expect balloon feder budget deficit add trillion year trillion nation debt interest hear mark talk fiscal respons democrat u repres joseph crowley said cb crowley said republican tax bill would requir unit state borrow trillion paid futur gener financ tax cut corpor rich one least fiscal respons bill ever seen pass histori hous repres think go pay mani mani year come crowley said republican insist tax packag biggest u tax overhaul year boost economi job growth hous speaker paul ryan also support tax bill recent went meadow make clear radio interview welfar entitl reform parti often call would top republican prioriti republican parlanc entitl program mean food stamp hous assist medicar medicaid health insur elderli poor disabl well program creat washington assist needi democrat seiz ryan earli decemb remark say show republican would tri pay tax overhaul seek spend cut social program goal hous republican may take back seat senat vote democrat need approv budget prevent govern shutdown democrat use leverag senat republican narrowli control defend discretionari nondefens program social spend tackl issu dreamer peopl brought illeg countri child trump septemb put march expir date defer action childhood arriv daca program protect young immigr deport provid work permit presid said recent twitter messag want fund propos mexican border wall immigr law chang exchang agre help dreamer repres debbi dingel told cb favor link issu polici object wall fund need daca clean said wednesday trump aid meet congression leader discu issu follow weekend strategi session trump republican leader jan white hous said trump also schedul meet sunday florida republican governor rick scott want emerg aid hous pass billion aid packag hurrican florida texa puerto rico wildfir california packag far exceed billion request trump administr senat yet vote aid'\n",
            " 'transgend peopl allow first time enlist u militari start monday order feder court pentagon said friday presid donald trump administr decid appeal rule block transgend ban two feder appeal court one washington one virginia last week reject administr request put hold order lower court judg requir militari begin accept transgend recruit jan justic depart offici said administr challeng rule depart defens announc releas independ studi issu come week rather litig interim appeal occur administr decid wait dod studi continu defend presid law author district court meantim offici said speak condit anonym septemb pentagon said creat panel senior offici studi implement direct trump prohibit transgend individu serv defens depart feb submit plan trump lawyer repres currentlyserv transgend servic member aspir recruit said expect administr appeal rule conservativemajor suprem court hope would happen pentagon spokeswoman heather babb said statement mandat court order depart defens prepar begin access transgend applic militari servic jan applic must meet access standard jennif levi lawyer gay lesbian transgend advocaci group glad call decis appeal great news hope mean govern come see way justifi ban good militari countri levi said glad american civil liberti union repres plaintiff lawsuit file administr move appeal hardlin conserv support trump announc juli would prohibit transgend peopl serv militari revers democrat presid barack obama polici accept trump said twitter time militari cannot burden tremend medic cost disrupt transgend militari would entail four feder judg'\n",
            " 'special counsel investig link russia presid trump elect campaign continu without interfer despit call trump administr alli republican lawmak shut promin republican senat said sunday lindsey graham serf senat arm forc judiciari committe said depart justic special counsel robert mueller need carri russia investig without polit interfer investig go forward investig conduct without polit influenc graham said cb face nation news program need let mr mueller job think right guy right time question russia may interf elect trump campaign may link coordin effort loom white hous sinc trump took offic januari show sign reced trump prepar second year power despit intensifi rhetor trump alli recent week accus mueller team bia republican presid trump seem undercut support interview last week new york time said expect mueller go fair russia role elect question possibl link trump campaign focu multipl inquiri washington three committe senat hous repres investig well mueller whose team may took earlier probe launch u feder bureau investig fbi sever member trump campaign administr convict indict investig trump alli deni collus russia campaign kremlin deni meddl elect graham said still want examin fbi use dossier link trump russia compil former british spi christoph steel prompt trump alli republican question mueller inquiri saturday new york time report dossier trigger earli fbi probe tip former trump campaign foreign polici advis georg papadopoulo australian diplomat russia damag inform former trump rival hillari clinton want somebodi look way depart justic use dossier bother greatli way use want somebodi look graham said said russia investig must continu matter fact would hurt u ignor said'\n",
            " ...\n",
            " 'european parliament falsifi histori declar molotovribbentrop pact caus wwii parliamentarian accus russia falsifi histori eu ignor guilt conceal unpleas aspect histori interpret retouch version event discret european parliament final lose sens realiti howev realiti nazi crimin rehabilit european countri waffenss veteran support move en mass neonazi organis feel home real danger fundament principl democraci human right russia also strongli reject falsif histori histori must written respons expert politician misus end'\n",
            " 'european parliament falsifi histori declar molotovribbentrop pact caus wwii parliamentarian accus russia falsifi histori eu ignor guilt conceal unpleas aspect histori interpret retouch version event discret european parliament final lose sens realiti howev realiti nazi crimin rehabilit european countri waffenss veteran support move en mass neonazi organis feel home real danger fundament principl democraci human right russia also strongli reject falsif histori histori must written respons expert politician misus end'\n",
            " 'lead fsb offic segey beseda said summit intellig head commonwealth independ state ci u intellig help islam state terrorist get northern afghanistan claim goal u destabilis situat border ci central asia']\n"
          ]
        }
      ]
    },
    {
      "cell_type": "code",
      "source": [
        "print(Y)"
      ],
      "metadata": {
        "colab": {
          "base_uri": "https://localhost:8080/"
        },
        "id": "UOFVlk51rnRY",
        "outputId": "d0d41b56-8961-4fe7-fc96-df31efbb9afd"
      },
      "execution_count": 42,
      "outputs": [
        {
          "output_type": "stream",
          "name": "stdout",
          "text": [
            "['true' 'true' 'true' ... 'fake' 'fake' 'fake']\n"
          ]
        }
      ]
    },
    {
      "cell_type": "markdown",
      "source": [
        "Splitting the data in to training and testing data\n"
      ],
      "metadata": {
        "id": "xrGPC0ERr4Jo"
      }
    },
    {
      "cell_type": "markdown",
      "source": [
        "X_train contains all my training datatweets  and corresponding stored in y_train and x_test the target in y_test"
      ],
      "metadata": {
        "id": "Lb5u-pyYslcG"
      }
    },
    {
      "cell_type": "markdown",
      "source": [
        "Stratify generally i want equal distribution of 0 and 1 if in the training data if the proportion of data is 50 % then it should be same in test data\n",
        "\n",
        "equal proportion of classes in both train and test data\n"
      ],
      "metadata": {
        "id": "7a5qPk-NtOFZ"
      }
    },
    {
      "cell_type": "code",
      "source": [
        "from sklearn.model_selection import train_test_split\n",
        "X_train, X_test, Y_train, Y_test = train_test_split(X, Y, test_size = 0.2, stratify=Y, random_state=2) #20 % go to testing x_test data\n",
        "print(X_train.shape, X_test.shape)\n",
        "print(Y_train.shape, Y_test.shape)"
      ],
      "metadata": {
        "colab": {
          "base_uri": "https://localhost:8080/"
        },
        "id": "5yhMGphjr8td",
        "outputId": "de293a1f-1f3d-4fdc-e2cd-d499ca4bcd37"
      },
      "execution_count": 43,
      "outputs": [
        {
          "output_type": "stream",
          "name": "stdout",
          "text": [
            "(62870,) (15718,)\n",
            "(62870,) (15718,)\n"
          ]
        }
      ]
    },
    {
      "cell_type": "code",
      "source": [
        "print(X.shape)"
      ],
      "metadata": {
        "colab": {
          "base_uri": "https://localhost:8080/"
        },
        "id": "dQop3KlgsDs2",
        "outputId": "de4f488d-4988-4056-9a75-115d719ac6bf"
      },
      "execution_count": 44,
      "outputs": [
        {
          "output_type": "stream",
          "name": "stdout",
          "text": [
            "(78588,)\n"
          ]
        }
      ]
    },
    {
      "cell_type": "code",
      "source": [
        "print(X_train)"
      ],
      "metadata": {
        "colab": {
          "base_uri": "https://localhost:8080/"
        },
        "id": "Kyxw8-Ay6XV7",
        "outputId": "84479f6c-a38b-474d-92e0-4fa5ba416784"
      },
      "execution_count": 45,
      "outputs": [
        {
          "output_type": "stream",
          "name": "stdout",
          "text": [
            "['alabama senat candid roy moor deni romant pursu teenag young bombshel report woman accus moor told washington post age romant pursu themon woman leigh corfman told post year old moor took shirt pant remov cloth corfman told post moor touch bra underp say guid hand touch underwear outspoken social conserv said statement four woman quot washington post lie garbag definit fake news intent defam moor saidform white hous advis stephen bannon help moor trounc establish favorit luther strang septemb republican primari presid trump warn moor less electablemoor current close race democrat doug jone ahead dec elect washington examinerstephani mccrummen report cowrot washington post hit piec judg roy moor appar histori fake thing like fake check instanc accord antitrump public red state mccrummen work washington post mani consid fake news use mulitpl unnam sourc attempt tie presid trump russian crimin record involv write fake checkm mccrummen rather interest crimin histori public crimin record multipl state stretch across time zone shownm mccrummen crimin histori began north carolina case cr violat articl fals pretens cheat section north carolina crimin code mccrummen convict crime punish six month imprison write hot check deem worthlessm mccrummen offens traffic relat track court escap arizona jurisdict dc case assign finesfe restitut enforc fare program establish collect delinqu court order restitut fine fee surcharg fare team track washington dc apart final appear get attent octob paid default fine crimin court almost two month convict mccrummen found fourtim loser state crimin court current resid outsid jurisdict three state commit crimessean hanniti rip medium frenzi judg moor scandal show last night left call head todayseanhann everyon deserv presumpt innoc proven guilti mention alleg come day electionroymoorechildmolest shell covfef michellerm novemb report crimin histori essenti prof gave fals inform pay debt servic charact come question come make year old sexual alleg one hate steve bannon back conserv run offic america may help enhanc career'\n",
            " 'german chancellor angela merkel monday dismiss idea christian democrat cdu defeat region elect made alreadi tricki job form threeway nation coalit even harder suffici hard enough anyway said still reel worst nation result sinc septemb nation elect merkel conserv slump percent northern state lower saxoni poorest show rich agricultur provinc nearli six decad see lower saxoni elect result weaken u coalit task merkel said ad region issu play big role campaign social democrat spd vote lower saxoni'\n",
            " 'send nato forc eastern flank allianc provoc russia' ...\n",
            " 'former u repres corrin brown florida found guilti feder court thursday fraud help rais bogu chariti use fund concert golf u justic depart offici said brown convict count particip conspiraci involv fraudul educ chariti conceal materi fact requir financi disclosur form file fals tax return justic depart said statement former congresswoman brown chose greed person gain sacr trust given commun serv mani year act u attorney stephen muldrow said juri reach verdict jacksonvil brown democrat serv year congress lost reelect bid last year indict sentenc date set jame smith attorney told report outsid feder courthous jacksonvil would seek new trial maintain innoc said part one long process prosecutor said brown particip conspiraci fraud scheme involv one door educ fund along chiefofstaff elia ronni simmon chariti presid carla wiley group solicit charit donat said would use pay colleg scholarship comput school charit caus prosecutor said money instead spent three person use includ golf tournament honor brown luxuri box seat beyonc concert chariti award two scholarship total colleg student accord trial evid simmon wiley previous plead guilti charg stem involv scheme brown known talk politician shi away medium stay silent left courthous thursday brown elect congress one first three black member florida congression deleg sinc reconstruct period follow civil war'\n",
            " 'barbra streisand obama sycoph one corrupt clinton loyal fan also part hollywood liber resist movement much like rosi donnel kathi griffin liter hundr overpaid celebr barbara streisand obsess tweet much hate presid trump streisand latest tweet conserv call complet utter stupid streisand tweet collus collus realdonaldtrump impeach sheer stupid collus collus realdonaldtrump impeach sheer stupid barbra streisand barbrastreisand decemb user wast time destroy entertainerthi tweet suggest music act award recal due sheer stupid recipienti think lot oscar emmi toni grammi recal due sheer stupid recipi particularli one annemari decemb bongino suggest talent asid streisand mock fail constitut basic sing barbrastreisand mock fail constitut basic dan bongino dbongino decemb mike truli school streisand explain impeach presid feel barbra cant impeach presid feel barbra mike fuctupmind decemb got destroy one power imag remind impeach requir actual crime chach malon chachmalon decemb rita repli barbra use fan even took step let barbra know boycott list fan boycott list rita reisch afd ritareisch decemb twitter user refer barbra streisand v presidentther ya go v presid beaner cwhitam decemb'\n",
            " 'catalonia region parliament declar independ spain friday disput vote like declar illeg spain constitut court independ motion pass assembl vote favor blank ballot assembl speaker said lawmak socialist parti peopl parti pp ciudadano left chamber vote protest']\n"
          ]
        }
      ]
    },
    {
      "cell_type": "code",
      "source": [
        "print(X_test)"
      ],
      "metadata": {
        "colab": {
          "base_uri": "https://localhost:8080/"
        },
        "id": "SMrffj6H6Zpp",
        "outputId": "8bf5d03b-fb8c-4393-afca-3ac493a02b3e"
      },
      "execution_count": 46,
      "outputs": [
        {
          "output_type": "stream",
          "name": "stdout",
          "text": [
            "['kid want use word racist sexist even know talk like chri rock larri cabl guy jerri seinfeld avoid show colleg campu talk espn colin cowherd thursday comedian reveal colleg kid today polit correct hear time seinfeld said herd colin cowherd play colleg hear lot peopl tell go near colleg pc seinfeld say teen collegeag kid understand mean throw around certain politicallycorrect term want use word racist sexist prejudic said know f k talk funnyman went recount convers wife daughter belief prove point wife say well know next coupl year think mayb go want hang around citi weekend see boy seinfeld recal know daughter say say sexist point flack comedian loui ck receiv controversi appear saturday night live last month prove seinfeld point loui great gift worri thing said seinfeld scare make point either want say someth would say seinfeld stick cover topic feel make humor pc talk subject talk reason make funni said one make funni hear via entertain weekli'\n",
            " 'rusia mejora el clima para hacer negocio seg n el banco mundial de octubr de tass el pa sube hasta la posici n en el rank busi la mejora e significativa respecto lo os anterior facebook busi econom negocio banco mundial sube hasta la posici n en el rank busi fuentereut e un gran logro en el president ruso pidi al gobierno mejorar el clima de inversi n en el pa la tarea era nueva pero sonaba como nueva porqu ten amo que trabajar con el banco mundial proteg mejorar la institucion para hacer negocio en rusia hemo pasado del puesto al eso e un gran trabajo tanto nivel feder como region todav tenemo que mejorar deber amo estar entr lo primero declar ayer el banco mundial publicaba el rank anual busi en el que rusia ocupa en el puesto en estaba en el puesto en lleg hasta la posici n sin embargo lo todo de c lculo del banco mundial cambiaron ese si hubieran cambiado rusia podr encontrars en el puesto en en el president putin emiti un decreto en el que establec como objetivo subir hasta la posici n en en el rank del banco mundial el vicedirector del banco central vlad mir chisyujin declar la prensa que la subida en el rank e un buen ntoma es un paso muy important e una se al muy positiva para nosotro muestra que lo esfuerzo que hacemo en mucho mbito particularment en el mbito corporativo son en vano dijo consult aqu lo dato concreto de rusia en el rank busi lea'\n",
            " 'britishiranian chariti worker serv jail sentenc tehran receiv letter exprim minist david cameron show tie british govern prosecutor said tuesday accord mizan news site iranian judiciari nazanin zaghariratcliff project manag thomson reuter foundat chariti organ serv fiveyear jail sentenc convict plot overthrow iran cleric establish prosecutor abba jafari dolatabadi said letter demonstr zaghariratcliff import british author say sent provid detail spokeswoman british foreign offic said immedi abl comment whether cameron written letter confirm successor theresa may rais zaghariratcliff case iranian author continu rais dual nation detaine includ mr zaghariratcliff case iranian govern everi avail opportun ad zaghariratcliff arrest elit revolutionari guard april tehran airport return britain twoyearold daughter famili visit famili thomson reuter foundat deni charg thomson reuter chariti organ independ thomson reuter oper independ reuter news last week famili said iranian author open new case zaghariratcliff level charg could carri sentenc addit year prison new charg includ join receiv money organ work overthrow islam republ attend demonstr outsid iranian embassi london famili said foreign offic spokeswoman refer reuter statement issu last week express concern zaghariratcliff face addit charg said seek inform iranian author tuesday jafari dolatabadi also said zaghariratcliff respons teach onlin journal bbc persian languag servic goal attract teach individu propaganda oper iran mizan report francesca unsworth director bbc world servic group said earlier year zaghariratcliff never work bbc persian servic'\n",
            " ...\n",
            " 'yeah everyon want guy live hometown republican sen lindsey graham south carolina pat robert kansa arm report pentagon scout site home state hous terrorist prison current detain guantanamo bay cuba receiv report presid obama attempt shut guantanamo bay reflect anoth egregi overstep administr robert said statement friday refer law prevent transfer inmat u prison congress consist stop obama law move singl detaine u robert said reaction report kansa fort leavenworth consid terrorist suspect new home shut administr nomine secretari armi prevent move detaine kansa necessari said watch terrorist place kansa graham equal emphat upon learn defens secretari ash carter also consid charleston new highrisk instal detaine need move must move maximum secur locat remot area far heavili popul area vital infrastructur graham told washington post earlier week charleston meet criterion pentagon thursday confirm lawmak studi forth leavenworth consolid naval brig charleston potenti site visit also help refin baselin standard facil look like inform potenti select locat evalu futur defens depart notif readtransf remain detaine u consid option close guantanamo bay move prison countri requir congression notif unanim sign depart defens homeland secur justic state along joint chief staff offic director nation intelligenceearli week pentagon said would present congress plan shutter guantanamo bay return washington labor day via washington examin'\n",
            " 'overcom anxieti spirit commun overcom anxieti spirit commun date wednesday novemb first half psychiatrist dr peter breggin discu techniqu overcom guilt shame anxieti handl life obstacl hell also address overprescrib psychiatr drug u altern avail second half han christian king direct voic medium sixti year outlin creat clear channel spiritu commun enabl practition discov activ trust follow soul direct hell also share stori spirit world whove experienc spiritu awaken websit'\n",
            " 'big idea hillari clinton donald trump reluctantli back last night major thing threaten derail campaignsth clinton foundat announc longer accept donat corpor foreign entiti hillari elect presid bill clinton told foundat staff final meet clinton global initi held next month announc stop give paid speech former presid turn friday said resign board foundat accept contribut u citizen independ chariti accord ap ken thoma broke storymeanwhil trump express remors first time sinc got race month ago sometim heat debat speak multitud issu dont choos right word say wrong thing done republican nomine read teleprompt said ralli charlott believ regret regret particularli may caus person pain candid extraordinarili reluct ever acknowledg wrongdo even tacitli believ project weak last night remark may repres true pivot point racethink clinton evolv explan privat email server cycl defens support iraq war race took say vote mistakether liter dozen exampl trump hurt refus admit went far think attack gold star parent khizr ghazala khan john war hero mccain judg gonzalo curiel ted cruz father rafael claim lee harvey oswald shortli john f kennedi assassin also declin express regret mock report disabl call mexican immigr rapist hillari implicitli acknowledg clinton foundat major liabil campaign regardless campaign spin inevit denial decis come amid mount critic foundat oper tenur secretari state potenti allow donor seek special access govern post abbi phillip rosalind helderman reportdonald former donor group often accus hillari engag paytoplay practic particular say million foundat took saudi arabia undercut oppon rhetor women rightsbut inconsist messag also often level unsubstanti charg overshadow accur line attack make easier war room brooklyn push back muddi watera tradit gop oppon run disciplin campaign spend meaning money neg tv ad could probabl effect use clinton foundat bludgeon depict hrc shadi shakedown artist look rich croni deeppocket foreign workingclass american struggl catch break messag test focu group includ conduct democrat shown particularli potent total true line attack among evid hillari clinton top aid complet ethic train start state depart requir feder law mcclatchi anita kumar report yesterday state depart record show three nine top clinton aid took mandat train new employe record also suggest none seven top aid requir take subsequ annual train complet record indic whether clinton took train mani aid still work clinton clinton campaign respond question clinton get hammer court elit opinion post editori board lament porou ethic wall foundat state depart sunday editori secretari pledg keep offici world famili foundat separ fail keep separ enough sloppi would accept white hous tuesday editori boston globe went call clinton foundat shut altogeth went viral imposs keep foundat open without least appear problem former pennsylvania governor ed rendel close clinton alli told new york daili news last week last night show kellyann conway call shot cover week shakeup primarili focus breitbart execut stephen bannon becom campaign chief execut probabl given insuffici attent conway take managerconway pollster special help conserv men reach woman earli juli told daniel paquett like trump namecal said realli want avoid critic peopl look mental capac mayb said mother full piec worth rereadingw written lot bannon push let trump trump clearli conway tri talk polit sens candid explain much insultladen approach damag stand woman decid elect mani reason doubt sincer trump convers clearli desper turn around sink campaign specifi last night apolog like man faux apolog wife say sorri mad trump one point couch penchant divis rhetor say sometim honest honest lace mccain curiel khan trump recent refus express regret said chang third time past four day trump read speech teleprompt practic routin mock clearli write word utter languag tone sound noth like humil express last night part broader renew effort rebrand trump presidenti jose delreal robert costa jenna johnson report effort continu today trip louisiana tour flood area conway said cnn yesterday trump final begin prepar first debat weekend evid candid recogn must deliv command perform keep hope aliv long last still believ heart fundament incap chang hard imagin go kind apolog tour becom selfdisciplin sustain way plainli happiest feud someon put otherswhil sleep trump first tv ad gener elect begin air today focu immigr campaign say spend million air spot next day four state hillari clinton america narrat say system stay rig american syrian refuge flood illeg immigr convict commit crime get stay collect social secur benefit skip line border open wors donald trump america secur terrorist danger crimin kept border secur famili safe chang make america safe nbc break buy million florida ohio pennsylvania north carolina pale comparison million spent far clinton campaign watch mike penni file person financi disclosur fec last night american clearli see penni famili enrich public servic spokesman marc lotter said ad governor releas tax return near futur see pfd herelocht embarrass u brazilian polic said ryan locht fabric stori rob gunpoint alongsid u swimmer though author acknowledg foursom gun pull secur guard reportedli damag properti ga station rio dave sheinin dom phillip joshua partlowan offici apolog overnight u olymp committe issu statement acknowledg version event involv argument spur act vandal commit one athlet statement conclud say apolog host rio peopl brazil distract ordeal midst rightli celebr excellencean attorney jimmi feigen said pay brazilian chariti leav countri brazilian law attorney said donat made avoid crimin prosecut say charg potenti face feigen matt bonesteellocht remain u left rio tuesday teammat gunnar bentz jack conger clear leav last night realli happen incid appear stem drunken pit stop ga station bathroom around surveil footag appear show least one swimmer pull metal door bathroom video ga station employe observ athlet escort bathroom anoth clip differ camera angl athlet quickli seat ground rais hand order person gunth polic chief confirm guard produc firearm contain swimmer could leav without pay damag firearm use situat contain contain firearm put away said brazilian react anger indign appar fals crime report serv boost percept rio de janeiro lawless chaotic citi unprepar host olymp citi polic chief said locht other owe rio apolog stain citi fantasi american swimmer left polic station thursday even swarm crowd journalist amid shout liar english post salli jenkin eviscer locht dumbest bell ever rang spoton column two thing go locht selfpromot prevar sensit rio author portray incap keep athlet safe amid olymp breakdown lot genuin robberi olymp athlet offici polic need show fear overst game secur though particularli stupid american offer someth save face locht conceit intersect delic polit issu made perfect storm claim nbc men pose polic pull taxi heroic resist robber gun press forehead especi ludicr detail thing drew attent author know full well anyon defi bandit rio get shot spot leav cellphon locht done public figur cours probabl effect form justic someon appar crave attent oblivion deserv play tabloid one thing make locht mess frustrat overshadow amaz perform upstand american keep crush field u reach tripledigit medal statu offici gold silver bronz china britain continu battl second place china squeez britain twomed lead check post live medal count u women relay team got second shot advanc goldmed round file protest drop baton sprinter allyson felix english gardner offici agre brazilian team interf handoff american got rerun race later alon track odd scene de bieler note one ultim score best time entir day kerron clement gold u men hurdl dalilah muhammad women team becom first american femal ever win gold race teammat ashley spencer also net thirdplac finish helen marouli becam first american woman earn wrestl gold medal beat legendari threetim olymp champion japan univers virginia runner robbi andrew qualifi men final subsequ disqualifi step track usain bolt soar victori last individu race rio game win third gold medal men wide margin compet men relay friday potenti earn tripletripl sweep tie american carl lewi paavo nurmi finland career olymp gold medal track field mark giannotto ivanka trump brotherinlaw vote trump accord new esquir profil spokesman magazin vicki ward wrote josh kushner said love brother want say anyth might embarrass nevertheless spokesman also said josh lifelong democrat vote trump novemb trump spokeswoman katrina pierson live televis accus clinton rare brain diseas never diagnos what new report observ behavior manner specif show previou clip well dysphasia fact she fallen concuss pierson charg msnbc dysphasia defin loss defici power use understand languag result injuri diseas brain pierson accus come clinton campaign refut conspiraci theori releas multipl factcheck articl statement clinton doctor say excel health someth need address pierson continu she taken lot time campaign trail aaron blake gov scott walker push back trump alli roger stone alleg reinc priebu machin rig mani five elect wisconsin dish rare moment snark ask longtim trump confidant appar longterm effect legal marijuana district columbia quip wisconsin state journal david fahrenthold latest trump dubiou claim charit give time nbc show apprentic trump apprentic later celebr apprentic help reestablish nation figur fall debt corpor bankruptci onscreen trump wise tough businessman time kind heart philanthropist will give away thousand whim onair trump seem explicit tv fakeri money give wallet trump said one case account said anoth camera payment came peopl money post track person gift trump promis show could confirm singl case trump actual sent gift pocketin trump becam gener air give six donat singl episod one exampl gift brought one insult comedian tear mysteri remain happen make trump much gener air tax record trump foundat record donat trump trump foundat record show larg gift nbc network air show enough cover foundat gift celebr apprentic contest chariti sinc nbc trump person donat made better tv uplift note fire reput trump show star nbc give trump foundat money trump could appear gener oncamera tom hamburg dana priest andrew roth backstori trump campaign chairman reviv career busi fortun ukrain manafort entri ukrainian polit financ came sign advis steel magnat rinat akhmetov one ukrain richest oligarch key support yanukovych parti region manafort first job burnish local intern reput compani own akhmetov base russianspeak industri donetsk region time manafort role parti expand manafort built polit consult practic ukrain also develop financi connect wealthi figur region face ongo scrutini justic depart tri develop million manhattan luxuri apart project dmitri firtash ukrainian energi tycoon histori legal troubl u prosecutor charg firtash moneylaund briberi anoth busi ventur oleg deripaska russian aluminum magnat accus manafort court cayman island take nearli million intend invest account money manafort insist cut tie ukrainian client former colleagu howev say continu work parti seen countri recent octob ukrain releas detail payment trump aid new york time ukrainian author pressur bolster assert oncesecret account document show cash payment prorussian polit parti earmark manafort thursday releas lineitem entri million dollar former parti member vitali kalyuzhni time chairman ukrain parliament intern relat committe sign nine time receipt payment design manafort accord serhiy leshchenko member parliament studi document ledger cover payment mr manafort work parti leader viktor f yanukovych ukrain former presid depos trump advis wage covert influenc campaign ap jeff horwitz chad day firm run trump campaign chairman directli orchestr covert washington lobbi oper behalf ukrain rule polit parti attempt sway american public opinion favor countri prorussian govern manafort deputi rick gate never disclos work foreign agent requir feder law lobbi includ attempt gain posit press coverag ukrainian offici anoth goal undercut american public sympathi imprison rival ukrain thenpresid email appear contradict assert nonprofit lobbi campaign oper independ manafort firm paper file u senat mercuri podesta group list european nonprofit independ nonpolit client firm said center state write align foreign polit entiti email show gate person direct two washington lobbi firm set meet top ukrainian offici senat congressman influenti committe involv ukrainian interest gate note email ukrain foreign minist want use embassi unit state help coordin visit gate direct effort undercut sympathi yulia tymoshenko imprison rival thenpresid viktor yanukovych fallout breitbart gop former breitbart news spokesman kurt bardella slam stephen bannon regularli disparag minor woman immigr say editori meet public often sound like white supremacist ralli someon low moral compass said abc powerhous polit podcast idea type person donald trump republican nomine presid would closest disturb bannon ascens post trump campaign ceo repres danger seizur conserv movement altright anoth exbreitbart employe ben shapiro write ope post come surpris least rnc appear readi go along bannonbreitbarttrump takeov parti even trump campaign latest move mean rnc chairman reinc priebu sit effect side side altright trump fan broad swath altright contrast believ creedfre racebas nation insist among thing birth american soil confer superior altright see limitedgovern constitution pass hold nationalist popul basi share tribal ident save countri movement shot racism antisemit cast charact enabl trump turn bannon guy usher along twist turn breitbart republican care inflict similar damag parti top man run standardbear campaign react trump bring bannon stuart steven mitt romney chief strategist told bloomberg bunker scene downfal trump crowd tell hitler truth utter mad trump nut like surround nut bannon alreadi make imprint trump campaign hire exsarah palin aid pam pryor overse faith christian outreach per wall street journal secret donor sway ever trump orbit new york time nichola confessor report deeppocket famili help put shakeup motion close alli posit author ascens wednesday urg mr trump rebecca mercer among other show cadr strategist super pac polit organ quietli nurtur famili emerg play pivot role mr trump presidenti campaign half decad mercer father new york investor robert mercer carv idiosyncrat path conserv polit spend ten million dollar outflank parti consult class unnerv establish power fortun financ think tank insurg candid super pac medium watchdog lobbi group grassroot organ mani connect one way anoth mr trump presidenti bid mr trump new campaign manag kellyann conway veteran republican pollster previous oversaw super pac financ mercer bannon overse breitbart compani mercer reportedli invest million sever year ago like still stake doubt blame medium charlott last night trump said medium creat controversi dog establish medium cover realli matter countri realli go peopl live said take word mine context spend week obsess everi singl syllabl pretend discov hidden mean said new hampshir yesterday mike penni said press trump blame ticket slide poll everi day nation medium latch onto issu run mate realli indiana governor said manchest mean medium busi pars everi word donald trump said last minut time cover clinton last year timebut cost import factor rise trump percent republican trust medium great deal fair amount gallup poll last year one reason mani tough stori trump tune support creat monster busi insid oliv darci post transcript thoughtprovok interview conserv wisconsin radio host charli syke promin critic gop nomine signific distrust medium rise resili trump worth read full basic elimin refere gatekeep syke said nobodi let say donald trump basic make whatev want say whatev claim want make everybodi know falsehood big question audienc imposs say way know fals say saw allen b west say saw facebook page say new york time fact check say oh new york time bull nobodi go anybodi say look fact say one disori realiti polit year altern medium realiti way break swim say thing websit suddenli sold ask wrong repeat stori know true go back got reckon creat monster syke ad look conserv talk show host conserv host basic establish brand contrast mainstream medium spent year demon liber mainstream medium way lot justifi real bia certain point wake realiz destroy credibl credibl outlet feel certain extent reap whirlwind look mirror ask extent contribut honest bia mainstream medium stapl everi conserv talk show host everi conserv pundit long rememb go way back william f buckley jr clinton told fbi investig colin powel advis use privat email account account includ note feder bureau investig hand congress tuesday relay detail behind fbi decis charg clinton new york time ami chozick report separ email exchang also emerg fbi question mr clinton alreadi decid use privat email ask mr powel email practic nation top diplomat georg w bush accord person direct knowledg mr powel appear document clinton held closeddoor meet top law enforc offic around countri new york seek discu polic racial tension expos recent kill john wagner abbi phillip obviou recent event dalla baton roug milwauke across countri underscor difficult import work ahead u repair bond trust respect polic offic commun clinton said dismiss report clearey challeng face cant ignor certainli must inflam themclinton sought toe somewhat narrow line express support offic sympath concern black life matter activist other outrag discriminatori conduct trump meanwhil cast law order candid blast clinton ralli someon polic side thousand percent trump said meet fratern order polic chapter week awkward trump clinton set white hous transit offic build lisa rein report first time histori two presidenti campaign work set govern miniatur liter sidebysid ride elev adjac floor toni marblefloor build plan govern two get two floor federallyfund offic space modern dig along million gsaprovid comput technic support trump clinton slate appear stage next month commanderinchief forum host veteran group broadcast nbc two field question nbc host john wagner report well audienc compris mainli current former servic member wire magazin take side presidenti race first time endors hrc barb aim clinton whole calcul tactic traci flick enchilada candid assess data consult peopl need heard make decis logic defend editor chief scott dadich write sure calcul tactic wors thing ask person nuclear code speak endors trump still vote benghazi mom even though guy wrote speech rnc wrote ope say may vote clinton peopl magazin green parti candid show theyr get much traction awkward cnn appear presidenti nomine jill stein appear alongsid runningm ajamu baraka live town hall event last nigh dave weigel report stein use airtim repeat campaign theme cancel student debt cancel much militari spend told one voter senat releg lowprofil role democrat convent untru told anoth banker debt cancel troubl asset relief program two also answer sever campaign gaff moder chri cuomo push baraka refer obama uncl tom stein also press whether antivaccin charg ultim dismiss ridicul berni slate launch new progress organ revolut next week sander began fundrais group earlier month said hope transform american societi mobil young peopl work peopl progress burlington free pressth battl senat sen richard burr rnc senat intellig committe chairman seem prime easi reelect campaign troubl nation review alexi levinson report republican incumb bare begun campaign state must share ballot two deepli unpopular republican besid trump pat mccrori sign state bathroom bill law like lose reelect carpetbag alert indiana elect offici conclud evan bayh inact voter state fail establish resid indianapoli cnn manu raju report news come addit hurdl bayh stay marriott gone back state rather condo electr bill earlier week made clear spend time resid back georg w bush plan visit indiana next month stump bayh republican oppon todd young hope shore support republican congressman close larg fundrais advantag held bayh wdrb rep michael mccaul declin rule idea challeng ted cruz texa senat seat fuel specul court major donor launch bid ask rate cruz senat tenur mccaul said fellow texan spent lot time run presid though mccaul said focus reelect hous fall wouldnt limit futur prospect never say never told report dalla morn news surviv hurrican katrina rebuilt baton roug lost everyth emma brown ashley cusick mark berman hurrican katrina level new orlean thousand peopl left behind ruin home took refug found new job rebuilt home slowli thing start feel normal nameless storm brought unpreced flood baton roug wide swath southern louisiana last week countless katrina survivor left second time noth two displac two trauma loss left mani feel tire batter hopeless even mani face unclear futur question live expert say also concern mental health consequ katrina survivor weather new loss want get away water get away lowli area said jerri savag lost home lawncar busi katrina rebuilt baton roug lose want get hererepublican seiz news state departmenta new york citi spokesman made joke trump expensewithout context addit explan trump declar soon known mr brexit ostens refer idea upset shock elitesmr brexit immedi began trend global jennif hassan max bearak report thousand user question exactli trump meant triumphal prognosticationmani brit feel like leader deserv titleth problemat logic argu big crowd point futur wina joke poll director huffington postform georg w bush white hous press secretari dana perino respond fan want give good news gop chanc electionwatch dana spar host five itbroth opposit side aisl one execut director north carolina republican parti former dnc commun director work constel liber outsid group clash publicli republican effort limit earli vote tar heel statetim kain tom vilsack visit butter cow iowa state fairsom campaign swag courtesi cindi mccainjon stewart appear final episod larri wilmor show cancel comedi central read show summari hereon campaign trail trump dimondal michat white hous obama martha vineyard masson capitol hill senat hous outnew use live dc capit weather gang forecast sunni toler humid friday mostli sunni least midday see light northnortheasterli breez around mph like well right still least five degre averag time year high temperatur forecast around mayb possibl enjoy quiet even bit warm hot day could alway isol shower storm folk stay dri best bet take feder transit administr announc spend hire train feder contractor form eventu perman metro safeti oversight agenc offici say new contractor perform immedi inspect investig metro eventu transfer knowledg base new safeti oversight commiss establish faiz siddiqui latino advoc virginia found guilti fraud pose attorney cheat client thousand dollar fals promis help obtain legal statu antonio olivo nation museum african american histori gear open day next month director open pain crucial process museum leader went grappl much dark corner u histori expos museum structur say purpos design reflect struggl krissah thompson morecb compil say stephen colbert five hilari hillari takedown five scorch burn trumpth largest aircraft world took flightbloomberg broke trump strang combin idiom express filler phrasesth dnc releas video trump refus releas tax returnscomedi central mash video cat dislik trumpa parodi trailer mad trump furi road went june make round onlinefin watch make nake trump statu place new york san francisco citi']\n"
          ]
        }
      ]
    },
    {
      "cell_type": "markdown",
      "source": [
        "Converting the textual data to numerical data\n"
      ],
      "metadata": {
        "id": "LbSAcFeb7Ha0"
      }
    },
    {
      "cell_type": "code",
      "source": [
        "Vectorizer = TfidfVectorizer()"
      ],
      "metadata": {
        "id": "L_kj0o2A7Dta"
      },
      "execution_count": 47,
      "outputs": []
    },
    {
      "cell_type": "markdown",
      "source": [
        "IT IS CONVERTING ALL THE WORDS IN TO NUMERICAL DATA"
      ],
      "metadata": {
        "id": "FKt4gaWV7ghg"
      }
    },
    {
      "cell_type": "code",
      "source": [
        "X_train = Vectorizer.fit_transform(X_train)\n",
        "X_test = Vectorizer.transform(X_test)"
      ],
      "metadata": {
        "id": "e77ngz6h7YgK"
      },
      "execution_count": 48,
      "outputs": []
    },
    {
      "cell_type": "code",
      "source": [
        "print(X_train)"
      ],
      "metadata": {
        "colab": {
          "base_uri": "https://localhost:8080/"
        },
        "id": "cD3ejtvb7uFe",
        "outputId": "ab0eef08-8d36-4d52-95fb-c08e539a4422"
      },
      "execution_count": 49,
      "outputs": [
        {
          "output_type": "stream",
          "name": "stdout",
          "text": [
            "  (0, 5641)\t0.041026702895392876\n",
            "  (0, 199292)\t0.021997275547829594\n",
            "  (0, 32980)\t0.022270761026316106\n",
            "  (0, 190774)\t0.09200216937579608\n",
            "  (0, 142197)\t0.3759842450142789\n",
            "  (0, 56751)\t0.026567502178283443\n",
            "  (0, 189978)\t0.10470895090637113\n",
            "  (0, 177951)\t0.06838679867800614\n",
            "  (0, 219799)\t0.03924119601094265\n",
            "  (0, 252024)\t0.027639304583346465\n",
            "  (0, 26742)\t0.045610650544431884\n",
            "  (0, 185046)\t0.048456492545376116\n",
            "  (0, 247942)\t0.06696612239506185\n",
            "  (0, 1490)\t0.024151031475606828\n",
            "  (0, 226134)\t0.051529449900935956\n",
            "  (0, 242665)\t0.12842688977006556\n",
            "  (0, 171356)\t0.12977198263178655\n",
            "  (0, 4153)\t0.030426076335112167\n",
            "  (0, 222139)\t0.06881825985355941\n",
            "  (0, 124447)\t0.060703559709518455\n",
            "  (0, 47630)\t0.13940660245147857\n",
            "  (0, 250771)\t0.02928350677365486\n",
            "  (0, 156133)\t0.05628242964323155\n",
            "  (0, 226575)\t0.022136538223020783\n",
            "  (0, 202039)\t0.04443333746149031\n",
            "  :\t:\n",
            "  (62869, 240693)\t0.26562305194304975\n",
            "  (62869, 176536)\t0.11283911471682953\n",
            "  (62869, 164347)\t0.060135443931867774\n",
            "  (62869, 162303)\t0.1722147213638407\n",
            "  (62869, 208604)\t0.13722853001871518\n",
            "  (62869, 105546)\t0.23160642504767887\n",
            "  (62869, 103724)\t0.11716355976001154\n",
            "  (62869, 123020)\t0.12465149997764848\n",
            "  (62869, 55195)\t0.24404816500918705\n",
            "  (62869, 82462)\t0.09974796626629064\n",
            "  (62869, 208441)\t0.36943618691866753\n",
            "  (62869, 46168)\t0.12539756432859686\n",
            "  (62869, 162171)\t0.14500966257990477\n",
            "  (62869, 60546)\t0.1463183532205706\n",
            "  (62869, 206668)\t0.16922934674755377\n",
            "  (62869, 76170)\t0.12249453041096217\n",
            "  (62869, 36539)\t0.16128317462841704\n",
            "  (62869, 162766)\t0.12147163842843714\n",
            "  (62869, 15003)\t0.3110006943002201\n",
            "  (62869, 18815)\t0.15334039377516706\n",
            "  (62869, 25376)\t0.2175918272263673\n",
            "  (62869, 143095)\t0.18226042093350509\n",
            "  (62869, 34979)\t0.21083530358923283\n",
            "  (62869, 172279)\t0.2623494579578308\n",
            "  (62869, 40129)\t0.28126845580520804\n"
          ]
        }
      ]
    },
    {
      "cell_type": "code",
      "source": [
        "print(X_test)"
      ],
      "metadata": {
        "colab": {
          "base_uri": "https://localhost:8080/"
        },
        "id": "zWHD_L2-7yKO",
        "outputId": "75e023c0-e5ea-4eec-d299-cb7b5c5ac466"
      },
      "execution_count": 50,
      "outputs": [
        {
          "output_type": "stream",
          "name": "stdout",
          "text": [
            "  (0, 12371)\t0.03132911356415269\n",
            "  (0, 13879)\t0.061396480341323396\n",
            "  (0, 17118)\t0.04313148188383747\n",
            "  (0, 21840)\t0.042144063618301496\n",
            "  (0, 27903)\t0.05052848694085692\n",
            "  (0, 31572)\t0.060473792431811266\n",
            "  (0, 32792)\t0.05803719611505758\n",
            "  (0, 36169)\t0.043734941883710216\n",
            "  (0, 38905)\t0.04975757434024737\n",
            "  (0, 39819)\t0.033165803148346315\n",
            "  (0, 40212)\t0.09375354518573607\n",
            "  (0, 42670)\t0.1348135573429828\n",
            "  (0, 42786)\t0.17879172305897298\n",
            "  (0, 42791)\t0.10168938676038825\n",
            "  (0, 43219)\t0.12974174190005347\n",
            "  (0, 46969)\t0.0443368909719548\n",
            "  (0, 47136)\t0.045020488615059834\n",
            "  (0, 47860)\t0.04698724965317615\n",
            "  (0, 48966)\t0.04587523455568357\n",
            "  (0, 49315)\t0.040332840053215635\n",
            "  (0, 49461)\t0.22888047358402253\n",
            "  (0, 53392)\t0.09423718572546931\n",
            "  (0, 66508)\t0.040373573350544846\n",
            "  (0, 69448)\t0.055214271865757315\n",
            "  (0, 70777)\t0.07485614125385857\n",
            "  :\t:\n",
            "  (15717, 247369)\t0.03251938306018866\n",
            "  (15717, 247409)\t0.012272451606355825\n",
            "  (15717, 247574)\t0.01230853560598052\n",
            "  (15717, 247942)\t0.024995433817250494\n",
            "  (15717, 248018)\t0.033031421787463724\n",
            "  (15717, 248348)\t0.027441023985839554\n",
            "  (15717, 248442)\t0.03837742254636094\n",
            "  (15717, 248589)\t0.014221032937546781\n",
            "  (15717, 248748)\t0.010950089672588944\n",
            "  (15717, 249054)\t0.01770217236967943\n",
            "  (15717, 249169)\t0.018086471018003567\n",
            "  (15717, 249209)\t0.007413094856894919\n",
            "  (15717, 249231)\t0.014047763508584188\n",
            "  (15717, 249413)\t0.013462276411486965\n",
            "  (15717, 249455)\t0.03239597044128426\n",
            "  (15717, 249543)\t0.009044142005338056\n",
            "  (15717, 249559)\t0.016142810011029123\n",
            "  (15717, 249570)\t0.011625649940717176\n",
            "  (15717, 249672)\t0.021490932994509777\n",
            "  (15717, 250572)\t0.047780534070349386\n",
            "  (15717, 250771)\t0.024592978374266914\n",
            "  (15717, 251451)\t0.030475013609375063\n",
            "  (15717, 251810)\t0.06415670368470991\n",
            "  (15717, 252024)\t0.015474759111604378\n",
            "  (15717, 252476)\t0.01743325593587453\n"
          ]
        }
      ]
    },
    {
      "cell_type": "markdown",
      "source": [
        "Training the MACHINE LEARNING MODELS"
      ],
      "metadata": {
        "id": "NPFV-Naf8_BA"
      }
    },
    {
      "cell_type": "markdown",
      "source": [
        "lOgistic regression. classification model we can classify"
      ],
      "metadata": {
        "id": "vNGVJoFj9Gob"
      }
    },
    {
      "cell_type": "code",
      "source": [
        "from sklearn.linear_model import LogisticRegression\n",
        "model = LogisticRegression(max_iter=1000) #max_iter means maximum number of times\n",
        "model.fit(X_train,Y_train)"
      ],
      "metadata": {
        "colab": {
          "base_uri": "https://localhost:8080/",
          "height": 80
        },
        "id": "hd_av6Zz9Dl1",
        "outputId": "9fc73157-ca2a-4b2a-e5a7-26b3983087df"
      },
      "execution_count": 53,
      "outputs": [
        {
          "output_type": "execute_result",
          "data": {
            "text/plain": [
              "LogisticRegression(max_iter=1000)"
            ],
            "text/html": [
              "<style>#sk-container-id-1 {\n",
              "  /* Definition of color scheme common for light and dark mode */\n",
              "  --sklearn-color-text: #000;\n",
              "  --sklearn-color-text-muted: #666;\n",
              "  --sklearn-color-line: gray;\n",
              "  /* Definition of color scheme for unfitted estimators */\n",
              "  --sklearn-color-unfitted-level-0: #fff5e6;\n",
              "  --sklearn-color-unfitted-level-1: #f6e4d2;\n",
              "  --sklearn-color-unfitted-level-2: #ffe0b3;\n",
              "  --sklearn-color-unfitted-level-3: chocolate;\n",
              "  /* Definition of color scheme for fitted estimators */\n",
              "  --sklearn-color-fitted-level-0: #f0f8ff;\n",
              "  --sklearn-color-fitted-level-1: #d4ebff;\n",
              "  --sklearn-color-fitted-level-2: #b3dbfd;\n",
              "  --sklearn-color-fitted-level-3: cornflowerblue;\n",
              "\n",
              "  /* Specific color for light theme */\n",
              "  --sklearn-color-text-on-default-background: var(--sg-text-color, var(--theme-code-foreground, var(--jp-content-font-color1, black)));\n",
              "  --sklearn-color-background: var(--sg-background-color, var(--theme-background, var(--jp-layout-color0, white)));\n",
              "  --sklearn-color-border-box: var(--sg-text-color, var(--theme-code-foreground, var(--jp-content-font-color1, black)));\n",
              "  --sklearn-color-icon: #696969;\n",
              "\n",
              "  @media (prefers-color-scheme: dark) {\n",
              "    /* Redefinition of color scheme for dark theme */\n",
              "    --sklearn-color-text-on-default-background: var(--sg-text-color, var(--theme-code-foreground, var(--jp-content-font-color1, white)));\n",
              "    --sklearn-color-background: var(--sg-background-color, var(--theme-background, var(--jp-layout-color0, #111)));\n",
              "    --sklearn-color-border-box: var(--sg-text-color, var(--theme-code-foreground, var(--jp-content-font-color1, white)));\n",
              "    --sklearn-color-icon: #878787;\n",
              "  }\n",
              "}\n",
              "\n",
              "#sk-container-id-1 {\n",
              "  color: var(--sklearn-color-text);\n",
              "}\n",
              "\n",
              "#sk-container-id-1 pre {\n",
              "  padding: 0;\n",
              "}\n",
              "\n",
              "#sk-container-id-1 input.sk-hidden--visually {\n",
              "  border: 0;\n",
              "  clip: rect(1px 1px 1px 1px);\n",
              "  clip: rect(1px, 1px, 1px, 1px);\n",
              "  height: 1px;\n",
              "  margin: -1px;\n",
              "  overflow: hidden;\n",
              "  padding: 0;\n",
              "  position: absolute;\n",
              "  width: 1px;\n",
              "}\n",
              "\n",
              "#sk-container-id-1 div.sk-dashed-wrapped {\n",
              "  border: 1px dashed var(--sklearn-color-line);\n",
              "  margin: 0 0.4em 0.5em 0.4em;\n",
              "  box-sizing: border-box;\n",
              "  padding-bottom: 0.4em;\n",
              "  background-color: var(--sklearn-color-background);\n",
              "}\n",
              "\n",
              "#sk-container-id-1 div.sk-container {\n",
              "  /* jupyter's `normalize.less` sets `[hidden] { display: none; }`\n",
              "     but bootstrap.min.css set `[hidden] { display: none !important; }`\n",
              "     so we also need the `!important` here to be able to override the\n",
              "     default hidden behavior on the sphinx rendered scikit-learn.org.\n",
              "     See: https://github.com/scikit-learn/scikit-learn/issues/21755 */\n",
              "  display: inline-block !important;\n",
              "  position: relative;\n",
              "}\n",
              "\n",
              "#sk-container-id-1 div.sk-text-repr-fallback {\n",
              "  display: none;\n",
              "}\n",
              "\n",
              "div.sk-parallel-item,\n",
              "div.sk-serial,\n",
              "div.sk-item {\n",
              "  /* draw centered vertical line to link estimators */\n",
              "  background-image: linear-gradient(var(--sklearn-color-text-on-default-background), var(--sklearn-color-text-on-default-background));\n",
              "  background-size: 2px 100%;\n",
              "  background-repeat: no-repeat;\n",
              "  background-position: center center;\n",
              "}\n",
              "\n",
              "/* Parallel-specific style estimator block */\n",
              "\n",
              "#sk-container-id-1 div.sk-parallel-item::after {\n",
              "  content: \"\";\n",
              "  width: 100%;\n",
              "  border-bottom: 2px solid var(--sklearn-color-text-on-default-background);\n",
              "  flex-grow: 1;\n",
              "}\n",
              "\n",
              "#sk-container-id-1 div.sk-parallel {\n",
              "  display: flex;\n",
              "  align-items: stretch;\n",
              "  justify-content: center;\n",
              "  background-color: var(--sklearn-color-background);\n",
              "  position: relative;\n",
              "}\n",
              "\n",
              "#sk-container-id-1 div.sk-parallel-item {\n",
              "  display: flex;\n",
              "  flex-direction: column;\n",
              "}\n",
              "\n",
              "#sk-container-id-1 div.sk-parallel-item:first-child::after {\n",
              "  align-self: flex-end;\n",
              "  width: 50%;\n",
              "}\n",
              "\n",
              "#sk-container-id-1 div.sk-parallel-item:last-child::after {\n",
              "  align-self: flex-start;\n",
              "  width: 50%;\n",
              "}\n",
              "\n",
              "#sk-container-id-1 div.sk-parallel-item:only-child::after {\n",
              "  width: 0;\n",
              "}\n",
              "\n",
              "/* Serial-specific style estimator block */\n",
              "\n",
              "#sk-container-id-1 div.sk-serial {\n",
              "  display: flex;\n",
              "  flex-direction: column;\n",
              "  align-items: center;\n",
              "  background-color: var(--sklearn-color-background);\n",
              "  padding-right: 1em;\n",
              "  padding-left: 1em;\n",
              "}\n",
              "\n",
              "\n",
              "/* Toggleable style: style used for estimator/Pipeline/ColumnTransformer box that is\n",
              "clickable and can be expanded/collapsed.\n",
              "- Pipeline and ColumnTransformer use this feature and define the default style\n",
              "- Estimators will overwrite some part of the style using the `sk-estimator` class\n",
              "*/\n",
              "\n",
              "/* Pipeline and ColumnTransformer style (default) */\n",
              "\n",
              "#sk-container-id-1 div.sk-toggleable {\n",
              "  /* Default theme specific background. It is overwritten whether we have a\n",
              "  specific estimator or a Pipeline/ColumnTransformer */\n",
              "  background-color: var(--sklearn-color-background);\n",
              "}\n",
              "\n",
              "/* Toggleable label */\n",
              "#sk-container-id-1 label.sk-toggleable__label {\n",
              "  cursor: pointer;\n",
              "  display: flex;\n",
              "  width: 100%;\n",
              "  margin-bottom: 0;\n",
              "  padding: 0.5em;\n",
              "  box-sizing: border-box;\n",
              "  text-align: center;\n",
              "  align-items: start;\n",
              "  justify-content: space-between;\n",
              "  gap: 0.5em;\n",
              "}\n",
              "\n",
              "#sk-container-id-1 label.sk-toggleable__label .caption {\n",
              "  font-size: 0.6rem;\n",
              "  font-weight: lighter;\n",
              "  color: var(--sklearn-color-text-muted);\n",
              "}\n",
              "\n",
              "#sk-container-id-1 label.sk-toggleable__label-arrow:before {\n",
              "  /* Arrow on the left of the label */\n",
              "  content: \"▸\";\n",
              "  float: left;\n",
              "  margin-right: 0.25em;\n",
              "  color: var(--sklearn-color-icon);\n",
              "}\n",
              "\n",
              "#sk-container-id-1 label.sk-toggleable__label-arrow:hover:before {\n",
              "  color: var(--sklearn-color-text);\n",
              "}\n",
              "\n",
              "/* Toggleable content - dropdown */\n",
              "\n",
              "#sk-container-id-1 div.sk-toggleable__content {\n",
              "  max-height: 0;\n",
              "  max-width: 0;\n",
              "  overflow: hidden;\n",
              "  text-align: left;\n",
              "  /* unfitted */\n",
              "  background-color: var(--sklearn-color-unfitted-level-0);\n",
              "}\n",
              "\n",
              "#sk-container-id-1 div.sk-toggleable__content.fitted {\n",
              "  /* fitted */\n",
              "  background-color: var(--sklearn-color-fitted-level-0);\n",
              "}\n",
              "\n",
              "#sk-container-id-1 div.sk-toggleable__content pre {\n",
              "  margin: 0.2em;\n",
              "  border-radius: 0.25em;\n",
              "  color: var(--sklearn-color-text);\n",
              "  /* unfitted */\n",
              "  background-color: var(--sklearn-color-unfitted-level-0);\n",
              "}\n",
              "\n",
              "#sk-container-id-1 div.sk-toggleable__content.fitted pre {\n",
              "  /* unfitted */\n",
              "  background-color: var(--sklearn-color-fitted-level-0);\n",
              "}\n",
              "\n",
              "#sk-container-id-1 input.sk-toggleable__control:checked~div.sk-toggleable__content {\n",
              "  /* Expand drop-down */\n",
              "  max-height: 200px;\n",
              "  max-width: 100%;\n",
              "  overflow: auto;\n",
              "}\n",
              "\n",
              "#sk-container-id-1 input.sk-toggleable__control:checked~label.sk-toggleable__label-arrow:before {\n",
              "  content: \"▾\";\n",
              "}\n",
              "\n",
              "/* Pipeline/ColumnTransformer-specific style */\n",
              "\n",
              "#sk-container-id-1 div.sk-label input.sk-toggleable__control:checked~label.sk-toggleable__label {\n",
              "  color: var(--sklearn-color-text);\n",
              "  background-color: var(--sklearn-color-unfitted-level-2);\n",
              "}\n",
              "\n",
              "#sk-container-id-1 div.sk-label.fitted input.sk-toggleable__control:checked~label.sk-toggleable__label {\n",
              "  background-color: var(--sklearn-color-fitted-level-2);\n",
              "}\n",
              "\n",
              "/* Estimator-specific style */\n",
              "\n",
              "/* Colorize estimator box */\n",
              "#sk-container-id-1 div.sk-estimator input.sk-toggleable__control:checked~label.sk-toggleable__label {\n",
              "  /* unfitted */\n",
              "  background-color: var(--sklearn-color-unfitted-level-2);\n",
              "}\n",
              "\n",
              "#sk-container-id-1 div.sk-estimator.fitted input.sk-toggleable__control:checked~label.sk-toggleable__label {\n",
              "  /* fitted */\n",
              "  background-color: var(--sklearn-color-fitted-level-2);\n",
              "}\n",
              "\n",
              "#sk-container-id-1 div.sk-label label.sk-toggleable__label,\n",
              "#sk-container-id-1 div.sk-label label {\n",
              "  /* The background is the default theme color */\n",
              "  color: var(--sklearn-color-text-on-default-background);\n",
              "}\n",
              "\n",
              "/* On hover, darken the color of the background */\n",
              "#sk-container-id-1 div.sk-label:hover label.sk-toggleable__label {\n",
              "  color: var(--sklearn-color-text);\n",
              "  background-color: var(--sklearn-color-unfitted-level-2);\n",
              "}\n",
              "\n",
              "/* Label box, darken color on hover, fitted */\n",
              "#sk-container-id-1 div.sk-label.fitted:hover label.sk-toggleable__label.fitted {\n",
              "  color: var(--sklearn-color-text);\n",
              "  background-color: var(--sklearn-color-fitted-level-2);\n",
              "}\n",
              "\n",
              "/* Estimator label */\n",
              "\n",
              "#sk-container-id-1 div.sk-label label {\n",
              "  font-family: monospace;\n",
              "  font-weight: bold;\n",
              "  display: inline-block;\n",
              "  line-height: 1.2em;\n",
              "}\n",
              "\n",
              "#sk-container-id-1 div.sk-label-container {\n",
              "  text-align: center;\n",
              "}\n",
              "\n",
              "/* Estimator-specific */\n",
              "#sk-container-id-1 div.sk-estimator {\n",
              "  font-family: monospace;\n",
              "  border: 1px dotted var(--sklearn-color-border-box);\n",
              "  border-radius: 0.25em;\n",
              "  box-sizing: border-box;\n",
              "  margin-bottom: 0.5em;\n",
              "  /* unfitted */\n",
              "  background-color: var(--sklearn-color-unfitted-level-0);\n",
              "}\n",
              "\n",
              "#sk-container-id-1 div.sk-estimator.fitted {\n",
              "  /* fitted */\n",
              "  background-color: var(--sklearn-color-fitted-level-0);\n",
              "}\n",
              "\n",
              "/* on hover */\n",
              "#sk-container-id-1 div.sk-estimator:hover {\n",
              "  /* unfitted */\n",
              "  background-color: var(--sklearn-color-unfitted-level-2);\n",
              "}\n",
              "\n",
              "#sk-container-id-1 div.sk-estimator.fitted:hover {\n",
              "  /* fitted */\n",
              "  background-color: var(--sklearn-color-fitted-level-2);\n",
              "}\n",
              "\n",
              "/* Specification for estimator info (e.g. \"i\" and \"?\") */\n",
              "\n",
              "/* Common style for \"i\" and \"?\" */\n",
              "\n",
              ".sk-estimator-doc-link,\n",
              "a:link.sk-estimator-doc-link,\n",
              "a:visited.sk-estimator-doc-link {\n",
              "  float: right;\n",
              "  font-size: smaller;\n",
              "  line-height: 1em;\n",
              "  font-family: monospace;\n",
              "  background-color: var(--sklearn-color-background);\n",
              "  border-radius: 1em;\n",
              "  height: 1em;\n",
              "  width: 1em;\n",
              "  text-decoration: none !important;\n",
              "  margin-left: 0.5em;\n",
              "  text-align: center;\n",
              "  /* unfitted */\n",
              "  border: var(--sklearn-color-unfitted-level-1) 1pt solid;\n",
              "  color: var(--sklearn-color-unfitted-level-1);\n",
              "}\n",
              "\n",
              ".sk-estimator-doc-link.fitted,\n",
              "a:link.sk-estimator-doc-link.fitted,\n",
              "a:visited.sk-estimator-doc-link.fitted {\n",
              "  /* fitted */\n",
              "  border: var(--sklearn-color-fitted-level-1) 1pt solid;\n",
              "  color: var(--sklearn-color-fitted-level-1);\n",
              "}\n",
              "\n",
              "/* On hover */\n",
              "div.sk-estimator:hover .sk-estimator-doc-link:hover,\n",
              ".sk-estimator-doc-link:hover,\n",
              "div.sk-label-container:hover .sk-estimator-doc-link:hover,\n",
              ".sk-estimator-doc-link:hover {\n",
              "  /* unfitted */\n",
              "  background-color: var(--sklearn-color-unfitted-level-3);\n",
              "  color: var(--sklearn-color-background);\n",
              "  text-decoration: none;\n",
              "}\n",
              "\n",
              "div.sk-estimator.fitted:hover .sk-estimator-doc-link.fitted:hover,\n",
              ".sk-estimator-doc-link.fitted:hover,\n",
              "div.sk-label-container:hover .sk-estimator-doc-link.fitted:hover,\n",
              ".sk-estimator-doc-link.fitted:hover {\n",
              "  /* fitted */\n",
              "  background-color: var(--sklearn-color-fitted-level-3);\n",
              "  color: var(--sklearn-color-background);\n",
              "  text-decoration: none;\n",
              "}\n",
              "\n",
              "/* Span, style for the box shown on hovering the info icon */\n",
              ".sk-estimator-doc-link span {\n",
              "  display: none;\n",
              "  z-index: 9999;\n",
              "  position: relative;\n",
              "  font-weight: normal;\n",
              "  right: .2ex;\n",
              "  padding: .5ex;\n",
              "  margin: .5ex;\n",
              "  width: min-content;\n",
              "  min-width: 20ex;\n",
              "  max-width: 50ex;\n",
              "  color: var(--sklearn-color-text);\n",
              "  box-shadow: 2pt 2pt 4pt #999;\n",
              "  /* unfitted */\n",
              "  background: var(--sklearn-color-unfitted-level-0);\n",
              "  border: .5pt solid var(--sklearn-color-unfitted-level-3);\n",
              "}\n",
              "\n",
              ".sk-estimator-doc-link.fitted span {\n",
              "  /* fitted */\n",
              "  background: var(--sklearn-color-fitted-level-0);\n",
              "  border: var(--sklearn-color-fitted-level-3);\n",
              "}\n",
              "\n",
              ".sk-estimator-doc-link:hover span {\n",
              "  display: block;\n",
              "}\n",
              "\n",
              "/* \"?\"-specific style due to the `<a>` HTML tag */\n",
              "\n",
              "#sk-container-id-1 a.estimator_doc_link {\n",
              "  float: right;\n",
              "  font-size: 1rem;\n",
              "  line-height: 1em;\n",
              "  font-family: monospace;\n",
              "  background-color: var(--sklearn-color-background);\n",
              "  border-radius: 1rem;\n",
              "  height: 1rem;\n",
              "  width: 1rem;\n",
              "  text-decoration: none;\n",
              "  /* unfitted */\n",
              "  color: var(--sklearn-color-unfitted-level-1);\n",
              "  border: var(--sklearn-color-unfitted-level-1) 1pt solid;\n",
              "}\n",
              "\n",
              "#sk-container-id-1 a.estimator_doc_link.fitted {\n",
              "  /* fitted */\n",
              "  border: var(--sklearn-color-fitted-level-1) 1pt solid;\n",
              "  color: var(--sklearn-color-fitted-level-1);\n",
              "}\n",
              "\n",
              "/* On hover */\n",
              "#sk-container-id-1 a.estimator_doc_link:hover {\n",
              "  /* unfitted */\n",
              "  background-color: var(--sklearn-color-unfitted-level-3);\n",
              "  color: var(--sklearn-color-background);\n",
              "  text-decoration: none;\n",
              "}\n",
              "\n",
              "#sk-container-id-1 a.estimator_doc_link.fitted:hover {\n",
              "  /* fitted */\n",
              "  background-color: var(--sklearn-color-fitted-level-3);\n",
              "}\n",
              "</style><div id=\"sk-container-id-1\" class=\"sk-top-container\"><div class=\"sk-text-repr-fallback\"><pre>LogisticRegression(max_iter=1000)</pre><b>In a Jupyter environment, please rerun this cell to show the HTML representation or trust the notebook. <br />On GitHub, the HTML representation is unable to render, please try loading this page with nbviewer.org.</b></div><div class=\"sk-container\" hidden><div class=\"sk-item\"><div class=\"sk-estimator fitted sk-toggleable\"><input class=\"sk-toggleable__control sk-hidden--visually\" id=\"sk-estimator-id-1\" type=\"checkbox\" checked><label for=\"sk-estimator-id-1\" class=\"sk-toggleable__label fitted sk-toggleable__label-arrow\"><div><div>LogisticRegression</div></div><div><a class=\"sk-estimator-doc-link fitted\" rel=\"noreferrer\" target=\"_blank\" href=\"https://scikit-learn.org/1.6/modules/generated/sklearn.linear_model.LogisticRegression.html\">?<span>Documentation for LogisticRegression</span></a><span class=\"sk-estimator-doc-link fitted\">i<span>Fitted</span></span></div></label><div class=\"sk-toggleable__content fitted\"><pre>LogisticRegression(max_iter=1000)</pre></div> </div></div></div></div>"
            ]
          },
          "metadata": {},
          "execution_count": 53
        }
      ]
    },
    {
      "cell_type": "markdown",
      "source": [
        "MODEL EVALUATION\n"
      ],
      "metadata": {
        "id": "zwOiO9VIa9mn"
      }
    },
    {
      "cell_type": "code",
      "source": [
        " #accuracy score on the training data\n",
        "\n",
        " X_train_prediction = model.predict(X_train)\n",
        " training_data_accuracy = accuracy_score(X_train_prediction, Y_train)\n",
        " print('Accuracy score of the training data : ', training_data_accuracy)"
      ],
      "metadata": {
        "colab": {
          "base_uri": "https://localhost:8080/"
        },
        "id": "AQ1ej_e_boBP",
        "outputId": "bb8f96ae-d2da-41a4-97de-4978d21b1d30"
      },
      "execution_count": 56,
      "outputs": [
        {
          "output_type": "stream",
          "name": "stdout",
          "text": [
            "Accuracy score of the training data :  0.9513281374264355\n"
          ]
        }
      ]
    },
    {
      "cell_type": "code",
      "source": [
        " #accuracy score on the testing data\n",
        "\n",
        " X_test_prediction = model.predict(X_test)\n",
        " testing_data_accuracy = accuracy_score(X_test_prediction, Y_test)\n",
        " print('Accuracy score of the testing data : ', testing_data_accuracy)"
      ],
      "metadata": {
        "colab": {
          "base_uri": "https://localhost:8080/"
        },
        "id": "j0qsLEoZbpn5",
        "outputId": "1af515f1-5929-4b38-d760-c5be478849be"
      },
      "execution_count": 57,
      "outputs": [
        {
          "output_type": "stream",
          "name": "stdout",
          "text": [
            "Accuracy score of the testing data :  0.935806082198753\n"
          ]
        }
      ]
    },
    {
      "cell_type": "markdown",
      "source": [
        "when training data accuracy and testing data accuracy is very close to each other we can say that the model has performed well\n",
        "\n",
        "we have cases when training data accuracy is more and testing data accuracy is less called as overfitting when training accuracy is 80 and testing is just 40/50"
      ],
      "metadata": {
        "id": "_tB9dUfvciVJ"
      }
    },
    {
      "cell_type": "markdown",
      "source": [
        "SAVING THE TRAINED MODEL"
      ],
      "metadata": {
        "id": "OQnlL_l-dlkw"
      }
    },
    {
      "cell_type": "code",
      "source": [
        "import pickle\n",
        "file_name = 'trianed_model.sav'\n",
        "pickle.dump(model, open(file_name, 'wb')) #writing in binary format\n"
      ],
      "metadata": {
        "id": "5NKKORs0c8OX"
      },
      "execution_count": 60,
      "outputs": []
    },
    {
      "cell_type": "markdown",
      "source": [
        "USING THE SAVED MODEL FOR FUTURE PREDICTIONS"
      ],
      "metadata": {
        "id": "6RU23HeJfIPs"
      }
    },
    {
      "cell_type": "code",
      "source": [
        "#loading the saved model.\n",
        "loaded_model = pickle.load(open('/content/trianed_model.sav','rb'))"
      ],
      "metadata": {
        "id": "ewvFmLXSfKji"
      },
      "execution_count": 61,
      "outputs": []
    },
    {
      "cell_type": "code",
      "source": [
        "x_new = X_test[3]\n",
        "print(Y_test[3])\n",
        "prediction = loaded_model.predict(x_new)\n",
        "print(prediction)"
      ],
      "metadata": {
        "colab": {
          "base_uri": "https://localhost:8080/"
        },
        "id": "f6RUwi8zffeB",
        "outputId": "56b6ca9c-a8cd-45a1-d9f4-b448b279418b"
      },
      "execution_count": 63,
      "outputs": [
        {
          "output_type": "stream",
          "name": "stdout",
          "text": [
            "fake\n",
            "['fake']\n"
          ]
        }
      ]
    }
  ],
  "metadata": {
    "accelerator": "GPU",
    "colab": {
      "gpuType": "T4",
      "provenance": [],
      "authorship_tag": "ABX9TyPyiMAz2rn+DW6f9iDgr+cP",
      "include_colab_link": true
    },
    "kernelspec": {
      "display_name": "Python 3",
      "name": "python3"
    },
    "language_info": {
      "name": "python"
    }
  },
  "nbformat": 4,
  "nbformat_minor": 0
}